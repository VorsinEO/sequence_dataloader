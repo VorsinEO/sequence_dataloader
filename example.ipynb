{
 "cells": [
  {
   "cell_type": "code",
   "execution_count": 23,
   "id": "3e0c8037-0c6e-41fc-a623-33c9c23723f9",
   "metadata": {},
   "outputs": [],
   "source": [
    "%load_ext autoreload"
   ]
  },
  {
   "cell_type": "code",
   "execution_count": null,
   "id": "48f620dd-a0c9-43a6-b0a2-4b22a27b8fba",
   "metadata": {},
   "outputs": [],
   "source": [
    "%autoreload 2"
   ]
  },
  {
   "cell_type": "markdown",
   "id": "84b14e98-6a1d-484b-8bf0-19dd23ec1a5f",
   "metadata": {},
   "source": [
    "# Make simple data in spec format"
   ]
  },
  {
   "cell_type": "code",
   "execution_count": 2,
   "id": "62f85826-dcb8-4958-a6dc-faf79ef973f3",
   "metadata": {},
   "outputs": [],
   "source": [
    "import pandas as pd\n",
    "import numpy as np"
   ]
  },
  {
   "cell_type": "code",
   "execution_count": 9,
   "id": "d06527d5-d776-49fb-936a-d71cb7d0d802",
   "metadata": {},
   "outputs": [
    {
     "data": {
      "text/plain": [
       "[34, 46, 58, 65, 76, 46, 35, 38, 19, 15, 70, 77, 52, 47, 17, 34]"
      ]
     },
     "execution_count": 9,
     "metadata": {},
     "output_type": "execute_result"
    }
   ],
   "source": [
    "np.random.choice(list(range(1,100)),size=np.random.randint(1,30)).tolist()"
   ]
  },
  {
   "cell_type": "code",
   "execution_count": 42,
   "id": "a325abe5-2678-4666-abd5-ddaf38c1e7c0",
   "metadata": {},
   "outputs": [],
   "source": [
    "data1 = {'user_id':list(range(71,81))\\\n",
    "         ,'seq_1':[np.random.choice(list(range(1,100)),size=np.random.randint(1,30)).tolist() for _ in range(10)]}\n",
    "\n",
    "data1 = pd.DataFrame(data1)\n",
    "\n",
    "data1['seq_sort']=data1.seq_1.str.len()\n",
    "\n",
    "data1['seq_sort'] = [list(range(1, l+1) )for l in data1['seq_sort']]\n"
   ]
  },
  {
   "cell_type": "code",
   "execution_count": 38,
   "id": "5e87d0e8-6e39-4ffc-a1f0-59af91e5d2f9",
   "metadata": {},
   "outputs": [
    {
     "data": {
      "text/html": [
       "<div>\n",
       "<style scoped>\n",
       "    .dataframe tbody tr th:only-of-type {\n",
       "        vertical-align: middle;\n",
       "    }\n",
       "\n",
       "    .dataframe tbody tr th {\n",
       "        vertical-align: top;\n",
       "    }\n",
       "\n",
       "    .dataframe thead th {\n",
       "        text-align: right;\n",
       "    }\n",
       "</style>\n",
       "<table border=\"1\" class=\"dataframe\">\n",
       "  <thead>\n",
       "    <tr style=\"text-align: right;\">\n",
       "      <th></th>\n",
       "      <th>user_id</th>\n",
       "      <th>seq_1</th>\n",
       "      <th>seq_sort</th>\n",
       "    </tr>\n",
       "  </thead>\n",
       "  <tbody>\n",
       "    <tr>\n",
       "      <th>0</th>\n",
       "      <td>51</td>\n",
       "      <td>[1, 64, 94, 92, 62, 72, 28, 26, 81, 26, 90, 57...</td>\n",
       "      <td>[1, 2, 3, 4, 5, 6, 7, 8, 9, 10, 11, 12, 13]</td>\n",
       "    </tr>\n",
       "    <tr>\n",
       "      <th>1</th>\n",
       "      <td>52</td>\n",
       "      <td>[45, 5, 51, 81, 4, 13, 24, 30, 90, 77, 76, 3, 61]</td>\n",
       "      <td>[1, 2, 3, 4, 5, 6, 7, 8, 9, 10, 11, 12, 13]</td>\n",
       "    </tr>\n",
       "  </tbody>\n",
       "</table>\n",
       "</div>"
      ],
      "text/plain": [
       "   user_id                                              seq_1  \\\n",
       "0       51  [1, 64, 94, 92, 62, 72, 28, 26, 81, 26, 90, 57...   \n",
       "1       52  [45, 5, 51, 81, 4, 13, 24, 30, 90, 77, 76, 3, 61]   \n",
       "\n",
       "                                      seq_sort  \n",
       "0  [1, 2, 3, 4, 5, 6, 7, 8, 9, 10, 11, 12, 13]  \n",
       "1  [1, 2, 3, 4, 5, 6, 7, 8, 9, 10, 11, 12, 13]  "
      ]
     },
     "execution_count": 38,
     "metadata": {},
     "output_type": "execute_result"
    }
   ],
   "source": [
    "data1.head(2)"
   ]
  },
  {
   "cell_type": "code",
   "execution_count": 43,
   "id": "f7e753a9-af80-4657-a6d5-8c589ed27e7d",
   "metadata": {},
   "outputs": [],
   "source": [
    "data1.to_parquet('/Users/ltorrick/DS/pqt_dataset/data/pq8.parquet',index=False)"
   ]
  },
  {
   "cell_type": "code",
   "execution_count": 44,
   "id": "f939c167-9c19-4117-8ca6-d0925b90d5d2",
   "metadata": {},
   "outputs": [
    {
     "data": {
      "text/html": [
       "<div>\n",
       "<style scoped>\n",
       "    .dataframe tbody tr th:only-of-type {\n",
       "        vertical-align: middle;\n",
       "    }\n",
       "\n",
       "    .dataframe tbody tr th {\n",
       "        vertical-align: top;\n",
       "    }\n",
       "\n",
       "    .dataframe thead th {\n",
       "        text-align: right;\n",
       "    }\n",
       "</style>\n",
       "<table border=\"1\" class=\"dataframe\">\n",
       "  <thead>\n",
       "    <tr style=\"text-align: right;\">\n",
       "      <th></th>\n",
       "      <th>user_id</th>\n",
       "      <th>seq_1</th>\n",
       "      <th>seq_sort</th>\n",
       "    </tr>\n",
       "  </thead>\n",
       "  <tbody>\n",
       "    <tr>\n",
       "      <th>0</th>\n",
       "      <td>1</td>\n",
       "      <td>[80, 73, 57, 36, 48, 71, 65, 37, 98, 29, 59]</td>\n",
       "      <td>[1, 2, 3, 4, 5, 6, 7, 8, 9, 10, 11]</td>\n",
       "    </tr>\n",
       "    <tr>\n",
       "      <th>1</th>\n",
       "      <td>2</td>\n",
       "      <td>[42, 25, 24, 7, 62, 30, 10, 41, 81, 70, 26, 24...</td>\n",
       "      <td>[1, 2, 3, 4, 5, 6, 7, 8, 9, 10, 11, 12, 13, 14...</td>\n",
       "    </tr>\n",
       "    <tr>\n",
       "      <th>2</th>\n",
       "      <td>3</td>\n",
       "      <td>[63, 51, 79, 71, 15, 21, 79, 40, 25, 41, 54, 8...</td>\n",
       "      <td>[1, 2, 3, 4, 5, 6, 7, 8, 9, 10, 11, 12, 13, 14...</td>\n",
       "    </tr>\n",
       "    <tr>\n",
       "      <th>3</th>\n",
       "      <td>4</td>\n",
       "      <td>[98, 40, 89, 66, 83]</td>\n",
       "      <td>[1, 2, 3, 4, 5]</td>\n",
       "    </tr>\n",
       "    <tr>\n",
       "      <th>4</th>\n",
       "      <td>5</td>\n",
       "      <td>[25, 51, 29, 55, 96, 76, 8, 70, 21, 71, 99, 93...</td>\n",
       "      <td>[1, 2, 3, 4, 5, 6, 7, 8, 9, 10, 11, 12, 13, 14...</td>\n",
       "    </tr>\n",
       "    <tr>\n",
       "      <th>...</th>\n",
       "      <td>...</td>\n",
       "      <td>...</td>\n",
       "      <td>...</td>\n",
       "    </tr>\n",
       "    <tr>\n",
       "      <th>75</th>\n",
       "      <td>76</td>\n",
       "      <td>[40, 36, 32, 67, 45, 54, 92, 37, 27, 44, 38, 8...</td>\n",
       "      <td>[1, 2, 3, 4, 5, 6, 7, 8, 9, 10, 11, 12, 13, 14...</td>\n",
       "    </tr>\n",
       "    <tr>\n",
       "      <th>76</th>\n",
       "      <td>77</td>\n",
       "      <td>[93, 38, 11, 27, 17, 54, 28, 52, 56, 18, 59, 8...</td>\n",
       "      <td>[1, 2, 3, 4, 5, 6, 7, 8, 9, 10, 11, 12, 13, 14...</td>\n",
       "    </tr>\n",
       "    <tr>\n",
       "      <th>77</th>\n",
       "      <td>78</td>\n",
       "      <td>[98, 76, 74, 65, 96, 60, 68, 62, 33, 52, 85, 2...</td>\n",
       "      <td>[1, 2, 3, 4, 5, 6, 7, 8, 9, 10, 11, 12, 13, 14...</td>\n",
       "    </tr>\n",
       "    <tr>\n",
       "      <th>78</th>\n",
       "      <td>79</td>\n",
       "      <td>[75]</td>\n",
       "      <td>[1]</td>\n",
       "    </tr>\n",
       "    <tr>\n",
       "      <th>79</th>\n",
       "      <td>80</td>\n",
       "      <td>[70, 43, 11, 85, 27, 39, 95, 51]</td>\n",
       "      <td>[1, 2, 3, 4, 5, 6, 7, 8]</td>\n",
       "    </tr>\n",
       "  </tbody>\n",
       "</table>\n",
       "<p>80 rows × 3 columns</p>\n",
       "</div>"
      ],
      "text/plain": [
       "    user_id                                              seq_1  \\\n",
       "0         1       [80, 73, 57, 36, 48, 71, 65, 37, 98, 29, 59]   \n",
       "1         2  [42, 25, 24, 7, 62, 30, 10, 41, 81, 70, 26, 24...   \n",
       "2         3  [63, 51, 79, 71, 15, 21, 79, 40, 25, 41, 54, 8...   \n",
       "3         4                               [98, 40, 89, 66, 83]   \n",
       "4         5  [25, 51, 29, 55, 96, 76, 8, 70, 21, 71, 99, 93...   \n",
       "..      ...                                                ...   \n",
       "75       76  [40, 36, 32, 67, 45, 54, 92, 37, 27, 44, 38, 8...   \n",
       "76       77  [93, 38, 11, 27, 17, 54, 28, 52, 56, 18, 59, 8...   \n",
       "77       78  [98, 76, 74, 65, 96, 60, 68, 62, 33, 52, 85, 2...   \n",
       "78       79                                               [75]   \n",
       "79       80                   [70, 43, 11, 85, 27, 39, 95, 51]   \n",
       "\n",
       "                                             seq_sort  \n",
       "0                 [1, 2, 3, 4, 5, 6, 7, 8, 9, 10, 11]  \n",
       "1   [1, 2, 3, 4, 5, 6, 7, 8, 9, 10, 11, 12, 13, 14...  \n",
       "2   [1, 2, 3, 4, 5, 6, 7, 8, 9, 10, 11, 12, 13, 14...  \n",
       "3                                     [1, 2, 3, 4, 5]  \n",
       "4   [1, 2, 3, 4, 5, 6, 7, 8, 9, 10, 11, 12, 13, 14...  \n",
       "..                                                ...  \n",
       "75  [1, 2, 3, 4, 5, 6, 7, 8, 9, 10, 11, 12, 13, 14...  \n",
       "76  [1, 2, 3, 4, 5, 6, 7, 8, 9, 10, 11, 12, 13, 14...  \n",
       "77  [1, 2, 3, 4, 5, 6, 7, 8, 9, 10, 11, 12, 13, 14...  \n",
       "78                                                [1]  \n",
       "79                           [1, 2, 3, 4, 5, 6, 7, 8]  \n",
       "\n",
       "[80 rows x 3 columns]"
      ]
     },
     "execution_count": 44,
     "metadata": {},
     "output_type": "execute_result"
    }
   ],
   "source": [
    "pd.read_parquet('/Users/ltorrick/DS/pqt_dataset/data/')"
   ]
  },
  {
   "cell_type": "code",
   "execution_count": 9,
   "id": "3f8c48fc-8010-482a-b53c-415a6ed484a5",
   "metadata": {},
   "outputs": [],
   "source": [
    "import pathlib"
   ]
  },
  {
   "cell_type": "code",
   "execution_count": 10,
   "id": "2e4a3da5-9a47-4cb8-98b3-6ad77ca1ed2a",
   "metadata": {},
   "outputs": [],
   "source": [
    "data_path = pathlib.Path('/Users/ltorrick/DS/pqt_dataset/data/')\n",
    "url_list = [item for item in data_path.iterdir() if not item.is_dir()]\n",
    "url_list = [item.as_uri()  for item in url_list if str(item).endswith('parquet')]"
   ]
  },
  {
   "cell_type": "code",
   "execution_count": 13,
   "id": "53cbf8e4-942e-49bc-ae91-413c3778e050",
   "metadata": {},
   "outputs": [],
   "source": [
    "import pandas as pd"
   ]
  },
  {
   "cell_type": "code",
   "execution_count": 61,
   "id": "ec6ff352-0bdd-4b32-a182-b2a8d7683f8b",
   "metadata": {},
   "outputs": [],
   "source": [
    "for ur in url_list:\n",
    "    df = pd.read_parquet(ur)   \n",
    "    df['user_tr_count'] = df.seq_1.str.len()\n",
    "    df['seq_2_emb'] = df['seq_1']*2\n",
    "    df['target'] =1  \n",
    "    df['item_id'] =df['seq_sort']*2\n",
    "    #df['score_dt_border'] = '2022-01-01'\n",
    "    df['score_dt_border'] = [['2022-01-01']*l for l in df['user_tr_count']]\n",
    "    df.to_parquet(ur,index=False)"
   ]
  },
  {
   "cell_type": "code",
   "execution_count": 62,
   "id": "046a2788-04f5-47a0-9662-416161c33a7b",
   "metadata": {},
   "outputs": [],
   "source": [
    "df = pd.read_parquet(ur) "
   ]
  },
  {
   "cell_type": "code",
   "execution_count": 63,
   "id": "19652f0e-076f-4e09-8f50-7b7565a57f4b",
   "metadata": {},
   "outputs": [
    {
     "data": {
      "text/html": [
       "<div>\n",
       "<style scoped>\n",
       "    .dataframe tbody tr th:only-of-type {\n",
       "        vertical-align: middle;\n",
       "    }\n",
       "\n",
       "    .dataframe tbody tr th {\n",
       "        vertical-align: top;\n",
       "    }\n",
       "\n",
       "    .dataframe thead th {\n",
       "        text-align: right;\n",
       "    }\n",
       "</style>\n",
       "<table border=\"1\" class=\"dataframe\">\n",
       "  <thead>\n",
       "    <tr style=\"text-align: right;\">\n",
       "      <th></th>\n",
       "      <th>user_id</th>\n",
       "      <th>seq_1</th>\n",
       "      <th>seq_sort</th>\n",
       "      <th>user_tr_count</th>\n",
       "      <th>target</th>\n",
       "      <th>seq_2_emb</th>\n",
       "      <th>item_id</th>\n",
       "      <th>score_dt_border</th>\n",
       "    </tr>\n",
       "  </thead>\n",
       "  <tbody>\n",
       "    <tr>\n",
       "      <th>0</th>\n",
       "      <td>41</td>\n",
       "      <td>[96, 13, 19, 85, 74, 36, 22, 28, 47, 34]</td>\n",
       "      <td>[1, 2, 3, 4, 5, 6, 7, 8, 9, 10]</td>\n",
       "      <td>10</td>\n",
       "      <td>1</td>\n",
       "      <td>[192, 26, 38, 170, 148, 72, 44, 56, 94, 68]</td>\n",
       "      <td>[2, 4, 6, 8, 10, 12, 14, 16, 18, 20]</td>\n",
       "      <td>[2022-01-01, 2022-01-01, 2022-01-01, 2022-01-0...</td>\n",
       "    </tr>\n",
       "    <tr>\n",
       "      <th>1</th>\n",
       "      <td>42</td>\n",
       "      <td>[7, 8, 2, 24, 89, 1, 64, 6, 29, 85, 9]</td>\n",
       "      <td>[1, 2, 3, 4, 5, 6, 7, 8, 9, 10, 11]</td>\n",
       "      <td>11</td>\n",
       "      <td>1</td>\n",
       "      <td>[14, 16, 4, 48, 178, 2, 128, 12, 58, 170, 18]</td>\n",
       "      <td>[2, 4, 6, 8, 10, 12, 14, 16, 18, 20, 22]</td>\n",
       "      <td>[2022-01-01, 2022-01-01, 2022-01-01, 2022-01-0...</td>\n",
       "    </tr>\n",
       "    <tr>\n",
       "      <th>2</th>\n",
       "      <td>43</td>\n",
       "      <td>[89, 54, 92, 95, 8, 34, 61, 65, 55, 38, 26, 54...</td>\n",
       "      <td>[1, 2, 3, 4, 5, 6, 7, 8, 9, 10, 11, 12, 13, 14...</td>\n",
       "      <td>23</td>\n",
       "      <td>1</td>\n",
       "      <td>[178, 108, 184, 190, 16, 68, 122, 130, 110, 76...</td>\n",
       "      <td>[2, 4, 6, 8, 10, 12, 14, 16, 18, 20, 22, 24, 2...</td>\n",
       "      <td>[2022-01-01, 2022-01-01, 2022-01-01, 2022-01-0...</td>\n",
       "    </tr>\n",
       "    <tr>\n",
       "      <th>3</th>\n",
       "      <td>44</td>\n",
       "      <td>[55, 29, 42, 48, 58, 76, 14, 42, 36, 59, 77]</td>\n",
       "      <td>[1, 2, 3, 4, 5, 6, 7, 8, 9, 10, 11]</td>\n",
       "      <td>11</td>\n",
       "      <td>1</td>\n",
       "      <td>[110, 58, 84, 96, 116, 152, 28, 84, 72, 118, 154]</td>\n",
       "      <td>[2, 4, 6, 8, 10, 12, 14, 16, 18, 20, 22]</td>\n",
       "      <td>[2022-01-01, 2022-01-01, 2022-01-01, 2022-01-0...</td>\n",
       "    </tr>\n",
       "    <tr>\n",
       "      <th>4</th>\n",
       "      <td>45</td>\n",
       "      <td>[67, 32, 37, 43, 79]</td>\n",
       "      <td>[1, 2, 3, 4, 5]</td>\n",
       "      <td>5</td>\n",
       "      <td>1</td>\n",
       "      <td>[134, 64, 74, 86, 158]</td>\n",
       "      <td>[2, 4, 6, 8, 10]</td>\n",
       "      <td>[2022-01-01, 2022-01-01, 2022-01-01, 2022-01-0...</td>\n",
       "    </tr>\n",
       "    <tr>\n",
       "      <th>5</th>\n",
       "      <td>46</td>\n",
       "      <td>[85, 74]</td>\n",
       "      <td>[1, 2]</td>\n",
       "      <td>2</td>\n",
       "      <td>1</td>\n",
       "      <td>[170, 148]</td>\n",
       "      <td>[2, 4]</td>\n",
       "      <td>[2022-01-01, 2022-01-01]</td>\n",
       "    </tr>\n",
       "    <tr>\n",
       "      <th>6</th>\n",
       "      <td>47</td>\n",
       "      <td>[28, 84, 21, 38, 23, 52, 80, 25, 94, 59, 44, 2...</td>\n",
       "      <td>[1, 2, 3, 4, 5, 6, 7, 8, 9, 10, 11, 12, 13, 14...</td>\n",
       "      <td>26</td>\n",
       "      <td>1</td>\n",
       "      <td>[56, 168, 42, 76, 46, 104, 160, 50, 188, 118, ...</td>\n",
       "      <td>[2, 4, 6, 8, 10, 12, 14, 16, 18, 20, 22, 24, 2...</td>\n",
       "      <td>[2022-01-01, 2022-01-01, 2022-01-01, 2022-01-0...</td>\n",
       "    </tr>\n",
       "    <tr>\n",
       "      <th>7</th>\n",
       "      <td>48</td>\n",
       "      <td>[74, 87, 94, 2, 15, 50, 56, 67, 90, 43, 55, 63...</td>\n",
       "      <td>[1, 2, 3, 4, 5, 6, 7, 8, 9, 10, 11, 12, 13, 14...</td>\n",
       "      <td>18</td>\n",
       "      <td>1</td>\n",
       "      <td>[148, 174, 188, 4, 30, 100, 112, 134, 180, 86,...</td>\n",
       "      <td>[2, 4, 6, 8, 10, 12, 14, 16, 18, 20, 22, 24, 2...</td>\n",
       "      <td>[2022-01-01, 2022-01-01, 2022-01-01, 2022-01-0...</td>\n",
       "    </tr>\n",
       "    <tr>\n",
       "      <th>8</th>\n",
       "      <td>49</td>\n",
       "      <td>[97, 6, 27, 37, 47, 86, 35, 68, 23, 99, 10, 73...</td>\n",
       "      <td>[1, 2, 3, 4, 5, 6, 7, 8, 9, 10, 11, 12, 13, 14...</td>\n",
       "      <td>16</td>\n",
       "      <td>1</td>\n",
       "      <td>[194, 12, 54, 74, 94, 172, 70, 136, 46, 198, 2...</td>\n",
       "      <td>[2, 4, 6, 8, 10, 12, 14, 16, 18, 20, 22, 24, 2...</td>\n",
       "      <td>[2022-01-01, 2022-01-01, 2022-01-01, 2022-01-0...</td>\n",
       "    </tr>\n",
       "    <tr>\n",
       "      <th>9</th>\n",
       "      <td>50</td>\n",
       "      <td>[90, 6, 99, 56, 3]</td>\n",
       "      <td>[1, 2, 3, 4, 5]</td>\n",
       "      <td>5</td>\n",
       "      <td>1</td>\n",
       "      <td>[180, 12, 198, 112, 6]</td>\n",
       "      <td>[2, 4, 6, 8, 10]</td>\n",
       "      <td>[2022-01-01, 2022-01-01, 2022-01-01, 2022-01-0...</td>\n",
       "    </tr>\n",
       "  </tbody>\n",
       "</table>\n",
       "</div>"
      ],
      "text/plain": [
       "   user_id                                              seq_1  \\\n",
       "0       41           [96, 13, 19, 85, 74, 36, 22, 28, 47, 34]   \n",
       "1       42             [7, 8, 2, 24, 89, 1, 64, 6, 29, 85, 9]   \n",
       "2       43  [89, 54, 92, 95, 8, 34, 61, 65, 55, 38, 26, 54...   \n",
       "3       44       [55, 29, 42, 48, 58, 76, 14, 42, 36, 59, 77]   \n",
       "4       45                               [67, 32, 37, 43, 79]   \n",
       "5       46                                           [85, 74]   \n",
       "6       47  [28, 84, 21, 38, 23, 52, 80, 25, 94, 59, 44, 2...   \n",
       "7       48  [74, 87, 94, 2, 15, 50, 56, 67, 90, 43, 55, 63...   \n",
       "8       49  [97, 6, 27, 37, 47, 86, 35, 68, 23, 99, 10, 73...   \n",
       "9       50                                 [90, 6, 99, 56, 3]   \n",
       "\n",
       "                                            seq_sort  user_tr_count  target  \\\n",
       "0                    [1, 2, 3, 4, 5, 6, 7, 8, 9, 10]             10       1   \n",
       "1                [1, 2, 3, 4, 5, 6, 7, 8, 9, 10, 11]             11       1   \n",
       "2  [1, 2, 3, 4, 5, 6, 7, 8, 9, 10, 11, 12, 13, 14...             23       1   \n",
       "3                [1, 2, 3, 4, 5, 6, 7, 8, 9, 10, 11]             11       1   \n",
       "4                                    [1, 2, 3, 4, 5]              5       1   \n",
       "5                                             [1, 2]              2       1   \n",
       "6  [1, 2, 3, 4, 5, 6, 7, 8, 9, 10, 11, 12, 13, 14...             26       1   \n",
       "7  [1, 2, 3, 4, 5, 6, 7, 8, 9, 10, 11, 12, 13, 14...             18       1   \n",
       "8  [1, 2, 3, 4, 5, 6, 7, 8, 9, 10, 11, 12, 13, 14...             16       1   \n",
       "9                                    [1, 2, 3, 4, 5]              5       1   \n",
       "\n",
       "                                           seq_2_emb  \\\n",
       "0        [192, 26, 38, 170, 148, 72, 44, 56, 94, 68]   \n",
       "1      [14, 16, 4, 48, 178, 2, 128, 12, 58, 170, 18]   \n",
       "2  [178, 108, 184, 190, 16, 68, 122, 130, 110, 76...   \n",
       "3  [110, 58, 84, 96, 116, 152, 28, 84, 72, 118, 154]   \n",
       "4                             [134, 64, 74, 86, 158]   \n",
       "5                                         [170, 148]   \n",
       "6  [56, 168, 42, 76, 46, 104, 160, 50, 188, 118, ...   \n",
       "7  [148, 174, 188, 4, 30, 100, 112, 134, 180, 86,...   \n",
       "8  [194, 12, 54, 74, 94, 172, 70, 136, 46, 198, 2...   \n",
       "9                             [180, 12, 198, 112, 6]   \n",
       "\n",
       "                                             item_id  \\\n",
       "0               [2, 4, 6, 8, 10, 12, 14, 16, 18, 20]   \n",
       "1           [2, 4, 6, 8, 10, 12, 14, 16, 18, 20, 22]   \n",
       "2  [2, 4, 6, 8, 10, 12, 14, 16, 18, 20, 22, 24, 2...   \n",
       "3           [2, 4, 6, 8, 10, 12, 14, 16, 18, 20, 22]   \n",
       "4                                   [2, 4, 6, 8, 10]   \n",
       "5                                             [2, 4]   \n",
       "6  [2, 4, 6, 8, 10, 12, 14, 16, 18, 20, 22, 24, 2...   \n",
       "7  [2, 4, 6, 8, 10, 12, 14, 16, 18, 20, 22, 24, 2...   \n",
       "8  [2, 4, 6, 8, 10, 12, 14, 16, 18, 20, 22, 24, 2...   \n",
       "9                                   [2, 4, 6, 8, 10]   \n",
       "\n",
       "                                     score_dt_border  \n",
       "0  [2022-01-01, 2022-01-01, 2022-01-01, 2022-01-0...  \n",
       "1  [2022-01-01, 2022-01-01, 2022-01-01, 2022-01-0...  \n",
       "2  [2022-01-01, 2022-01-01, 2022-01-01, 2022-01-0...  \n",
       "3  [2022-01-01, 2022-01-01, 2022-01-01, 2022-01-0...  \n",
       "4  [2022-01-01, 2022-01-01, 2022-01-01, 2022-01-0...  \n",
       "5                           [2022-01-01, 2022-01-01]  \n",
       "6  [2022-01-01, 2022-01-01, 2022-01-01, 2022-01-0...  \n",
       "7  [2022-01-01, 2022-01-01, 2022-01-01, 2022-01-0...  \n",
       "8  [2022-01-01, 2022-01-01, 2022-01-01, 2022-01-0...  \n",
       "9  [2022-01-01, 2022-01-01, 2022-01-01, 2022-01-0...  "
      ]
     },
     "execution_count": 63,
     "metadata": {},
     "output_type": "execute_result"
    }
   ],
   "source": [
    "df"
   ]
  },
  {
   "cell_type": "code",
   "execution_count": 12,
   "id": "9c10ac36-8e4a-4b70-9387-2bc403c3367e",
   "metadata": {},
   "outputs": [
    {
     "data": {
      "text/plain": [
       "['file:///Users/ltorrick/DS/pqt_dataset/data/pq8.parquet',\n",
       " 'file:///Users/ltorrick/DS/pqt_dataset/data/pq1.parquet',\n",
       " 'file:///Users/ltorrick/DS/pqt_dataset/data/pq3.parquet',\n",
       " 'file:///Users/ltorrick/DS/pqt_dataset/data/pq2.parquet',\n",
       " 'file:///Users/ltorrick/DS/pqt_dataset/data/pq7.parquet',\n",
       " 'file:///Users/ltorrick/DS/pqt_dataset/data/pq6.parquet',\n",
       " 'file:///Users/ltorrick/DS/pqt_dataset/data/pq4.parquet',\n",
       " 'file:///Users/ltorrick/DS/pqt_dataset/data/pq5.parquet']"
      ]
     },
     "execution_count": 12,
     "metadata": {},
     "output_type": "execute_result"
    }
   ],
   "source": [
    "url_list"
   ]
  },
  {
   "cell_type": "code",
   "execution_count": 49,
   "id": "4a0d25c1-45db-4e80-ba6b-87619cf737ae",
   "metadata": {},
   "outputs": [
    {
     "name": "stdout",
     "output_type": "stream",
     "text": [
      "Collecting webdataset==0.1.62\n",
      "  Downloading webdataset-0.1.62-py3-none-any.whl (32 kB)\n",
      "Requirement already satisfied: numpy in /Library/Frameworks/Python.framework/Versions/3.8/lib/python3.8/site-packages (from webdataset==0.1.62) (1.23.4)\n",
      "Collecting braceexpand\n",
      "  Downloading braceexpand-0.1.7-py2.py3-none-any.whl (5.9 kB)\n",
      "Installing collected packages: braceexpand, webdataset\n",
      "Successfully installed braceexpand-0.1.7 webdataset-0.1.62\n",
      "\u001b[33mWARNING: You are using pip version 21.2.4; however, version 23.0.1 is available.\n",
      "You should consider upgrading via the '/Library/Frameworks/Python.framework/Versions/3.8/bin/python3 -m pip install --upgrade pip' command.\u001b[0m\n"
     ]
    }
   ],
   "source": [
    "!pip install webdataset==0.1.62"
   ]
  },
  {
   "cell_type": "code",
   "execution_count": 50,
   "id": "56cf511f-4202-457a-8d2a-7d0ec24ebb58",
   "metadata": {},
   "outputs": [],
   "source": [
    "from contextlib import contextmanager"
   ]
  },
  {
   "cell_type": "code",
   "execution_count": 53,
   "id": "8f7639a5-1815-47ae-a258-5b32f3d39a23",
   "metadata": {},
   "outputs": [],
   "source": [
    "import urllib.parse"
   ]
  },
  {
   "cell_type": "code",
   "execution_count": 54,
   "id": "14c8fe14-cd98-4506-912e-49fe2f4994b1",
   "metadata": {},
   "outputs": [],
   "source": [
    "url ='/Users/ltorrick/DS/pqt_dataset/data/pq8.parquet'"
   ]
  },
  {
   "cell_type": "code",
   "execution_count": 67,
   "id": "7737fa6b-a52c-4a86-8c56-84663f911555",
   "metadata": {},
   "outputs": [],
   "source": [
    "url2 ='hdfs:///Users/ltorrick/DS/pqt_dataset/data/pq8.parquet'"
   ]
  },
  {
   "cell_type": "code",
   "execution_count": 55,
   "id": "bc6a9c5a-1c49-42f1-b821-474cf3ad390f",
   "metadata": {},
   "outputs": [],
   "source": [
    "uri = urllib.parse.urlparse(url, scheme=\"file\", allow_fragments=False)"
   ]
  },
  {
   "cell_type": "code",
   "execution_count": 68,
   "id": "4915ddf9-82b6-4df7-8dbc-96a9528aaa48",
   "metadata": {},
   "outputs": [],
   "source": [
    "uri2 = urllib.parse.urlparse(url2, scheme=\"file\", allow_fragments=False)"
   ]
  },
  {
   "cell_type": "code",
   "execution_count": 69,
   "id": "57144e47-1315-4cc0-8422-1573568ebd4d",
   "metadata": {},
   "outputs": [
    {
     "data": {
      "text/plain": [
       "ParseResult(scheme='hdfs', netloc='', path='/Users/ltorrick/DS/pqt_dataset/data/pq8.parquet', params='', query='', fragment='')"
      ]
     },
     "execution_count": 69,
     "metadata": {},
     "output_type": "execute_result"
    }
   ],
   "source": [
    "uri2"
   ]
  },
  {
   "cell_type": "code",
   "execution_count": 57,
   "id": "4ad63f60-c1fa-4aa3-a90f-e26d097054e6",
   "metadata": {},
   "outputs": [
    {
     "data": {
      "text/plain": [
       "True"
      ]
     },
     "execution_count": 57,
     "metadata": {},
     "output_type": "execute_result"
    }
   ],
   "source": [
    "uri.scheme in 'file'"
   ]
  },
  {
   "cell_type": "code",
   "execution_count": 3,
   "id": "0101d937-8bd9-4e4d-b6af-cfd99d8b05f1",
   "metadata": {},
   "outputs": [],
   "source": [
    "import sys\n",
    "sys.path.append('/Users/ltorrick/DS/')"
   ]
  },
  {
   "cell_type": "code",
   "execution_count": 4,
   "id": "5c0947f3-656d-44ae-bcd3-f538103de997",
   "metadata": {},
   "outputs": [],
   "source": [
    "from pqt_dataset.utils.functions import Args, base_conf"
   ]
  },
  {
   "cell_type": "code",
   "execution_count": 5,
   "id": "7e12e261-0ff7-438b-958e-55ca1578be68",
   "metadata": {},
   "outputs": [],
   "source": [
    "params = Args(**base_conf)"
   ]
  },
  {
   "cell_type": "markdown",
   "id": "5524226a-fef6-4eab-9f2a-fc5e5c0b1d89",
   "metadata": {},
   "source": [
    "# Батч тест"
   ]
  },
  {
   "cell_type": "code",
   "execution_count": 67,
   "id": "36eb4aa6-32f6-4bb3-8d68-7dcc5acea13f",
   "metadata": {},
   "outputs": [],
   "source": [
    "%autoreload 2\n",
    "from pqt_dataset.webdataset_fork_0162.dataloader import get_dataloader"
   ]
  },
  {
   "cell_type": "code",
   "execution_count": 40,
   "id": "884d3e18-2f6c-425a-b2ba-b20dcdaebe46",
   "metadata": {},
   "outputs": [],
   "source": [
    "params.cont_features = ['seq_1']\n",
    "params.emb_params = {'seq_2_emb':{'vocabulary_size':200, 'dim':8}}\n",
    "params.target_col = 'target'"
   ]
  },
  {
   "cell_type": "code",
   "execution_count": 41,
   "id": "21f5a28b-1901-4bdb-ad3c-a574355a06db",
   "metadata": {},
   "outputs": [
    {
     "data": {
      "text/plain": [
       "{'emb_params': {'seq_2_emb': {'vocabulary_size': 200, 'dim': 8}},\n",
       " 'cont_features': ['seq_1'],\n",
       " 'rnn': {'type': 'GRU',\n",
       "  'hidden_size': 128,\n",
       "  'rnn_num_layers': 2,\n",
       "  'rnn_bias': True,\n",
       "  'bidirectional': True},\n",
       " 'ffn': {'hid_linear': 128},\n",
       " 'seq_len': 256,\n",
       " 'batch_size': 128,\n",
       " 'num_workers': 0,\n",
       " 'device': 'cuda:0',\n",
       " 'lr': 0.001,\n",
       " 'weight_decay': 0.01,\n",
       " 'l1_weight': 0,\n",
       " 'step_size': 2,\n",
       " 'gamma': 0.5,\n",
       " 'fp16': False,\n",
       " 'clip_value': 1.5,\n",
       " 'batch_accum': 1,\n",
       " 'smooth_factor': None,\n",
       " 'early_stop': {'more_best': True, 'patience': 5},\n",
       " 'target_col': 'target'}"
      ]
     },
     "execution_count": 41,
     "metadata": {},
     "output_type": "execute_result"
    }
   ],
   "source": [
    "params.__dict__"
   ]
  },
  {
   "cell_type": "code",
   "execution_count": 34,
   "id": "97f5d497-5712-476e-8a9b-f54c37870968",
   "metadata": {},
   "outputs": [
    {
     "data": {
      "text/plain": [
       "'file:///Users/ltorrick/DS/pqt_dataset/data/pq5.parquet'"
      ]
     },
     "execution_count": 34,
     "metadata": {},
     "output_type": "execute_result"
    }
   ],
   "source": [
    "ur"
   ]
  },
  {
   "cell_type": "code",
   "execution_count": 68,
   "id": "a278263f-2e87-4e2b-bf73-e2ddd1528535",
   "metadata": {},
   "outputs": [],
   "source": [
    "loader = get_dataloader('/Users/ltorrick/DS/pqt_dataset/data/',params, batch_size=4, num_workers=0)"
   ]
  },
  {
   "cell_type": "code",
   "execution_count": 44,
   "id": "36c4a0b4-ea9c-4c3e-a61d-0b11f1a50b22",
   "metadata": {},
   "outputs": [
    {
     "data": {
      "text/plain": [
       "pqt_dataset.webdataset_fork_0162.dataloader.inf_loop"
      ]
     },
     "execution_count": 44,
     "metadata": {},
     "output_type": "execute_result"
    }
   ],
   "source": [
    "type(loader)"
   ]
  },
  {
   "cell_type": "code",
   "execution_count": 69,
   "id": "0c7eadf4-3f68-4b62-86ab-ea252b2a4faf",
   "metadata": {},
   "outputs": [
    {
     "name": "stderr",
     "output_type": "stream",
     "text": [
      "/Users/ltorrick/DS/pqt_dataset/webdataset_fork_0162/dataloader.py:98: UserWarning: The given NumPy array is not writeable, and PyTorch does not support non-writeable tensors. This means you can write to the underlying (supposedly non-writeable) NumPy array using the tensor. You may want to copy the array to protect its data or make it writeable before converting it to a tensor. This type of warning will be suppressed for the rest of this program. (Triggered internally at  ../torch/csrc/utils/tensor_numpy.cpp:189.)\n",
      "  features[key].append(torch.as_tensor(sample[key]))\n"
     ]
    },
    {
     "data": {
      "text/plain": [
       "{'lengths': [28, 28, 28, 28],\n",
       " 'item_id': tensor([[ 2,  4,  6,  8, 10, 12, 14, 16, 18, 20, 22, 24, 26, 28, 30, 32, 34, 36,\n",
       "          38, 40, 42, 44, 46, 48, 50, 52, 54, 56],\n",
       "         [ 2,  4,  6,  8, 10, 12, 14, 16, 18, 20, 22, 24, 26, 28, 30, 32, 34, 36,\n",
       "          38, 40, 42, 44, 46, 48, 50, 52, 54, 56],\n",
       "         [ 2,  4,  6,  8, 10, 12, 14, 16, 18, 20, 22, 24, 26, 28, 30, 32, 34, 36,\n",
       "          38, 40, 42, 44, 46, 48, 50, 52, 54, 56],\n",
       "         [ 2,  4,  6,  8, 10, 12, 14, 16, 18, 20, 22, 24, 26, 28, 30, 32, 34, 36,\n",
       "          38, 40, 42, 44, 46, 48, 50, 52, 54, 56]]),\n",
       " 'seq_2_emb': tensor([[148,  10,  92,  50,  24, 178, 104, 168, 122, 160, 182,  60,  24, 128,\n",
       "           98, 110,  56, 130, 116,  26, 148,  22,  16, 142, 128, 148,  86,   8],\n",
       "         [148,  10,  92,  50,  24, 178, 104, 168, 122, 160, 182,  60,  24, 128,\n",
       "           98, 110,  56, 130, 116,  26, 148,  22,  16, 142, 128, 148,  86,   8],\n",
       "         [148,  10,  92,  50,  24, 178, 104, 168, 122, 160, 182,  60,  24, 128,\n",
       "           98, 110,  56, 130, 116,  26, 148,  22,  16, 142, 128, 148,  86,   8],\n",
       "         [148,  10,  92,  50,  24, 178, 104, 168, 122, 160, 182,  60,  24, 128,\n",
       "           98, 110,  56, 130, 116,  26, 148,  22,  16, 142, 128, 148,  86,   8]]),\n",
       " 'seq_1': tensor([[74.,  5., 46., 25., 12., 89., 52., 84., 61., 80., 91., 30., 12., 64.,\n",
       "          49., 55., 28., 65., 58., 13., 74., 11.,  8., 71., 64., 74., 43.,  4.],\n",
       "         [74.,  5., 46., 25., 12., 89., 52., 84., 61., 80., 91., 30., 12., 64.,\n",
       "          49., 55., 28., 65., 58., 13., 74., 11.,  8., 71., 64., 74., 43.,  4.],\n",
       "         [74.,  5., 46., 25., 12., 89., 52., 84., 61., 80., 91., 30., 12., 64.,\n",
       "          49., 55., 28., 65., 58., 13., 74., 11.,  8., 71., 64., 74., 43.,  4.],\n",
       "         [74.,  5., 46., 25., 12., 89., 52., 84., 61., 80., 91., 30., 12., 64.,\n",
       "          49., 55., 28., 65., 58., 13., 74., 11.,  8., 71., 64., 74., 43.,  4.]]),\n",
       " 'user_id': tensor([[71],\n",
       "         [71],\n",
       "         [71],\n",
       "         [71]]),\n",
       " 'target': tensor([[1],\n",
       "         [1],\n",
       "         [1],\n",
       "         [1]]),\n",
       " 'user_tr_count': tensor([[28],\n",
       "         [28],\n",
       "         [28],\n",
       "         [28]]),\n",
       " 'mask': tensor([[False, False, False, False, False, False, False, False, False, False,\n",
       "          False, False, False, False, False, False, False, False, False, False,\n",
       "          False, False, False, False, False, False, False, False],\n",
       "         [False, False, False, False, False, False, False, False, False, False,\n",
       "          False, False, False, False, False, False, False, False, False, False,\n",
       "          False, False, False, False, False, False, False, False],\n",
       "         [False, False, False, False, False, False, False, False, False, False,\n",
       "          False, False, False, False, False, False, False, False, False, False,\n",
       "          False, False, False, False, False, False, False, False],\n",
       "         [False, False, False, False, False, False, False, False, False, False,\n",
       "          False, False, False, False, False, False, False, False, False, False,\n",
       "          False, False, False, False, False, False, False, False]])}"
      ]
     },
     "execution_count": 69,
     "metadata": {},
     "output_type": "execute_result"
    }
   ],
   "source": [
    "next(iter(loader))"
   ]
  },
  {
   "cell_type": "markdown",
   "id": "768e8aab-00e4-41a0-8d25-2de1a029f85f",
   "metadata": {},
   "source": [
    "# Отладка стриминга"
   ]
  },
  {
   "cell_type": "code",
   "execution_count": 65,
   "id": "cfb56c93-15c7-45a7-ab0f-ddcf30326032",
   "metadata": {},
   "outputs": [],
   "source": [
    "download_schemes = dict(file=file_download, hdfs=hdfs_download)"
   ]
  },
  {
   "cell_type": "code",
   "execution_count": 71,
   "id": "966903f0-7ff1-4da4-bcbd-bb544021336a",
   "metadata": {},
   "outputs": [],
   "source": [
    "import os\n",
    "import io\n",
    "import urllib.parse\n",
    "import contextlib\n",
    "import pyarrow\n",
    "from contextlib import closing\n",
    "from webdataset import reraise_exception\n",
    "from webdataset.shardcache import guess_shard\n",
    "from webdataset.gopen import gopen_pipe, gopen_file\n"
   ]
  },
  {
   "cell_type": "code",
   "execution_count": 86,
   "id": "7720cef1-eb30-4539-8ed3-74af6268c15b",
   "metadata": {},
   "outputs": [],
   "source": [
    "def hdfs_download(uri, **kwargs):\n",
    "    if uri.hostname is not None:\n",
    "        kwargs.update(host=uri.hostname)\n",
    "    if uri.port is not None:\n",
    "        kwargs.update(port=uri.port)\n",
    "    with closing(pyarrow.hdfs.connect(**kwargs)) as hdfs:\n",
    "        with hdfs.open(uri.path) as stream:\n",
    "            return stream.read()\n",
    "\n",
    "\n",
    "def file_download(uri, *args, **kwargs):\n",
    "    with open(uri.path, mode=\"rb\") as input:\n",
    "        return input.read()\n",
    "    \n",
    "def file_download(uri, *args, **kwargs):\n",
    "    with open(uri.path, mode=\"rb\") as inp_stream:\n",
    "        seekable_stream = io.BytesIO(inp_stream.read())\n",
    "    return seekable_stream\n"
   ]
  },
  {
   "cell_type": "code",
   "execution_count": 70,
   "id": "96049c6e-7952-48ae-89e8-b381bdd7aef2",
   "metadata": {},
   "outputs": [
    {
     "data": {
      "text/plain": [
       "<function __main__.hdfs_download(uri, **kwargs)>"
      ]
     },
     "execution_count": 70,
     "metadata": {},
     "output_type": "execute_result"
    }
   ],
   "source": [
    "download_schemes[uri2.scheme]"
   ]
  },
  {
   "cell_type": "code",
   "execution_count": 72,
   "id": "4b92e553-da62-4edf-b6f0-ddac83678a94",
   "metadata": {},
   "outputs": [
    {
     "data": {
      "text/plain": [
       "'/Users/ltorrick/DS/pqt_dataset/data/pq8.parquet'"
      ]
     },
     "execution_count": 72,
     "metadata": {},
     "output_type": "execute_result"
    }
   ],
   "source": [
    "url"
   ]
  },
  {
   "cell_type": "code",
   "execution_count": 73,
   "id": "aacc5dc0-fd87-4c33-b9e7-c96ad696ae51",
   "metadata": {},
   "outputs": [],
   "source": [
    "pq_file = f'cat {url}'"
   ]
  },
  {
   "cell_type": "code",
   "execution_count": 80,
   "id": "dffe1477-918e-43e7-9654-badede078552",
   "metadata": {},
   "outputs": [],
   "source": [
    "def file_download_wds(url):\n",
    "    pq_file = f'pipe:cat {url}'\n",
    "    with closing(gopen_pipe(pq_file)) as inp_stream:\n",
    "        seekable_stream = io.BytesIO(inp_stream.read())\n",
    "    return seekable_stream"
   ]
  },
  {
   "cell_type": "code",
   "execution_count": 81,
   "id": "005afa51-e50e-4009-84a7-2cb3fb4102f6",
   "metadata": {},
   "outputs": [],
   "source": [
    "def read_parquet(source, columns=None):\n",
    "    dataframe = pyarrow.parquet.read_table(source=source, columns=columns, use_legacy_dataset=True).to_pandas()\n",
    "    return dataframe"
   ]
  },
  {
   "cell_type": "code",
   "execution_count": null,
   "id": "bdfcbb2c-0ae6-473f-a37f-34427376ddf2",
   "metadata": {},
   "outputs": [],
   "source": [
    "def read_parquet(source, columns=None):\n",
    "    dataframe = pyarrow.parquet.read_table(source=source, columns=columns, use_legacy_dataset=True).to_pandas()\n",
    "    return dataframe"
   ]
  },
  {
   "cell_type": "code",
   "execution_count": 109,
   "id": "b39df5f7-b447-4e2d-90a8-a9d179ad564f",
   "metadata": {},
   "outputs": [
    {
     "data": {
      "text/plain": [
       "'/Users/ltorrick/DS/pqt_dataset/data/pq8.parquet'"
      ]
     },
     "execution_count": 109,
     "metadata": {},
     "output_type": "execute_result"
    }
   ],
   "source": [
    "str(url_list[0])"
   ]
  },
  {
   "cell_type": "code",
   "execution_count": 106,
   "id": "ef94da2e-946f-4860-a924-be213b3380c8",
   "metadata": {},
   "outputs": [
    {
     "data": {
      "text/plain": [
       "ParseResult(scheme='file', netloc='', path='/Users/ltorrick/DS/pqt_dataset/data/pq8.parquet', params='', query='', fragment='')"
      ]
     },
     "execution_count": 106,
     "metadata": {},
     "output_type": "execute_result"
    }
   ],
   "source": [
    "urllib.parse.urlparse(url_list[0].as_uri(), scheme=\"file\", allow_fragments=False)"
   ]
  },
  {
   "cell_type": "code",
   "execution_count": 105,
   "id": "8670f3bc-4896-4d4f-93e7-5586c0039214",
   "metadata": {},
   "outputs": [
    {
     "ename": "Exception",
     "evalue": "(('cat file:///Users/ltorrick/DS/pqt_dataset/data/pq8.parquet',), {'shell': True, 'bufsize': 8192}): exit 1 (read) {}",
     "output_type": "error",
     "traceback": [
      "\u001b[0;31m---------------------------------------------------------------------------\u001b[0m",
      "\u001b[0;31mException\u001b[0m                                 Traceback (most recent call last)",
      "\u001b[0;32m<ipython-input-105-cc969abd7395>\u001b[0m in \u001b[0;36m<module>\u001b[0;34m\u001b[0m\n\u001b[0;32m----> 1\u001b[0;31m \u001b[0mkk\u001b[0m \u001b[0;34m=\u001b[0m \u001b[0mread_parquet\u001b[0m\u001b[0;34m(\u001b[0m\u001b[0mfile_download_wds\u001b[0m\u001b[0;34m(\u001b[0m\u001b[0murl_list\u001b[0m\u001b[0;34m[\u001b[0m\u001b[0;36m0\u001b[0m\u001b[0;34m]\u001b[0m\u001b[0;34m.\u001b[0m\u001b[0mas_uri\u001b[0m\u001b[0;34m(\u001b[0m\u001b[0;34m)\u001b[0m\u001b[0;34m)\u001b[0m\u001b[0;34m)\u001b[0m\u001b[0;34m\u001b[0m\u001b[0;34m\u001b[0m\u001b[0m\n\u001b[0m",
      "\u001b[0;32m<ipython-input-80-b8cb840abfbc>\u001b[0m in \u001b[0;36mfile_download_wds\u001b[0;34m(url)\u001b[0m\n\u001b[1;32m      2\u001b[0m     \u001b[0mpq_file\u001b[0m \u001b[0;34m=\u001b[0m \u001b[0;34mf'pipe:cat {url}'\u001b[0m\u001b[0;34m\u001b[0m\u001b[0;34m\u001b[0m\u001b[0m\n\u001b[1;32m      3\u001b[0m     \u001b[0;32mwith\u001b[0m \u001b[0mclosing\u001b[0m\u001b[0;34m(\u001b[0m\u001b[0mgopen_pipe\u001b[0m\u001b[0;34m(\u001b[0m\u001b[0mpq_file\u001b[0m\u001b[0;34m)\u001b[0m\u001b[0;34m)\u001b[0m \u001b[0;32mas\u001b[0m \u001b[0minp_stream\u001b[0m\u001b[0;34m:\u001b[0m\u001b[0;34m\u001b[0m\u001b[0;34m\u001b[0m\u001b[0m\n\u001b[0;32m----> 4\u001b[0;31m         \u001b[0mseekable_stream\u001b[0m \u001b[0;34m=\u001b[0m \u001b[0mio\u001b[0m\u001b[0;34m.\u001b[0m\u001b[0mBytesIO\u001b[0m\u001b[0;34m(\u001b[0m\u001b[0minp_stream\u001b[0m\u001b[0;34m.\u001b[0m\u001b[0mread\u001b[0m\u001b[0;34m(\u001b[0m\u001b[0;34m)\u001b[0m\u001b[0;34m)\u001b[0m\u001b[0;34m\u001b[0m\u001b[0;34m\u001b[0m\u001b[0m\n\u001b[0m\u001b[1;32m      5\u001b[0m     \u001b[0;32mreturn\u001b[0m \u001b[0mseekable_stream\u001b[0m\u001b[0;34m\u001b[0m\u001b[0;34m\u001b[0m\u001b[0m\n",
      "\u001b[0;32m/Library/Frameworks/Python.framework/Versions/3.8/lib/python3.8/contextlib.py\u001b[0m in \u001b[0;36m__exit__\u001b[0;34m(self, *exc_info)\u001b[0m\n\u001b[1;32m    297\u001b[0m         \u001b[0;32mreturn\u001b[0m \u001b[0mself\u001b[0m\u001b[0;34m.\u001b[0m\u001b[0mthing\u001b[0m\u001b[0;34m\u001b[0m\u001b[0;34m\u001b[0m\u001b[0m\n\u001b[1;32m    298\u001b[0m     \u001b[0;32mdef\u001b[0m \u001b[0m__exit__\u001b[0m\u001b[0;34m(\u001b[0m\u001b[0mself\u001b[0m\u001b[0;34m,\u001b[0m \u001b[0;34m*\u001b[0m\u001b[0mexc_info\u001b[0m\u001b[0;34m)\u001b[0m\u001b[0;34m:\u001b[0m\u001b[0;34m\u001b[0m\u001b[0;34m\u001b[0m\u001b[0m\n\u001b[0;32m--> 299\u001b[0;31m         \u001b[0mself\u001b[0m\u001b[0;34m.\u001b[0m\u001b[0mthing\u001b[0m\u001b[0;34m.\u001b[0m\u001b[0mclose\u001b[0m\u001b[0;34m(\u001b[0m\u001b[0;34m)\u001b[0m\u001b[0;34m\u001b[0m\u001b[0;34m\u001b[0m\u001b[0m\n\u001b[0m\u001b[1;32m    300\u001b[0m \u001b[0;34m\u001b[0m\u001b[0m\n\u001b[1;32m    301\u001b[0m \u001b[0;34m\u001b[0m\u001b[0m\n",
      "\u001b[0;32m/Library/Frameworks/Python.framework/Versions/3.8/lib/python3.8/site-packages/webdataset/gopen.py\u001b[0m in \u001b[0;36mclose\u001b[0;34m(self)\u001b[0m\n\u001b[1;32m    100\u001b[0m         \u001b[0mself\u001b[0m\u001b[0;34m.\u001b[0m\u001b[0mstream\u001b[0m\u001b[0;34m.\u001b[0m\u001b[0mclose\u001b[0m\u001b[0;34m(\u001b[0m\u001b[0;34m)\u001b[0m\u001b[0;34m\u001b[0m\u001b[0;34m\u001b[0m\u001b[0m\n\u001b[1;32m    101\u001b[0m         \u001b[0mself\u001b[0m\u001b[0;34m.\u001b[0m\u001b[0mstatus\u001b[0m \u001b[0;34m=\u001b[0m \u001b[0mself\u001b[0m\u001b[0;34m.\u001b[0m\u001b[0mproc\u001b[0m\u001b[0;34m.\u001b[0m\u001b[0mwait\u001b[0m\u001b[0;34m(\u001b[0m\u001b[0mself\u001b[0m\u001b[0;34m.\u001b[0m\u001b[0mtimeout\u001b[0m\u001b[0;34m)\u001b[0m\u001b[0;34m\u001b[0m\u001b[0;34m\u001b[0m\u001b[0m\n\u001b[0;32m--> 102\u001b[0;31m         \u001b[0mself\u001b[0m\u001b[0;34m.\u001b[0m\u001b[0mhandle_status\u001b[0m\u001b[0;34m(\u001b[0m\u001b[0;34m)\u001b[0m\u001b[0;34m\u001b[0m\u001b[0;34m\u001b[0m\u001b[0m\n\u001b[0m\u001b[1;32m    103\u001b[0m \u001b[0;34m\u001b[0m\u001b[0m\n\u001b[1;32m    104\u001b[0m     \u001b[0;32mdef\u001b[0m \u001b[0m__enter__\u001b[0m\u001b[0;34m(\u001b[0m\u001b[0mself\u001b[0m\u001b[0;34m)\u001b[0m\u001b[0;34m:\u001b[0m\u001b[0;34m\u001b[0m\u001b[0;34m\u001b[0m\u001b[0m\n",
      "\u001b[0;32m/Library/Frameworks/Python.framework/Versions/3.8/lib/python3.8/site-packages/webdataset/gopen.py\u001b[0m in \u001b[0;36mhandle_status\u001b[0;34m(self)\u001b[0m\n\u001b[1;32m     76\u001b[0m                 \u001b[0mprint\u001b[0m\u001b[0;34m(\u001b[0m\u001b[0;34mf\"pipe exit [{self.status}] {self.args} {info}\"\u001b[0m\u001b[0;34m,\u001b[0m \u001b[0mfile\u001b[0m\u001b[0;34m=\u001b[0m\u001b[0msys\u001b[0m\u001b[0;34m.\u001b[0m\u001b[0mstderr\u001b[0m\u001b[0;34m)\u001b[0m\u001b[0;34m\u001b[0m\u001b[0;34m\u001b[0m\u001b[0m\n\u001b[1;32m     77\u001b[0m             \u001b[0;32mif\u001b[0m \u001b[0mself\u001b[0m\u001b[0;34m.\u001b[0m\u001b[0mstatus\u001b[0m \u001b[0;32mnot\u001b[0m \u001b[0;32min\u001b[0m \u001b[0mself\u001b[0m\u001b[0;34m.\u001b[0m\u001b[0mignore_status\u001b[0m \u001b[0;32mand\u001b[0m \u001b[0;32mnot\u001b[0m \u001b[0mself\u001b[0m\u001b[0;34m.\u001b[0m\u001b[0mignore_errors\u001b[0m\u001b[0;34m:\u001b[0m\u001b[0;34m\u001b[0m\u001b[0;34m\u001b[0m\u001b[0m\n\u001b[0;32m---> 78\u001b[0;31m                 \u001b[0;32mraise\u001b[0m \u001b[0mException\u001b[0m\u001b[0;34m(\u001b[0m\u001b[0;34mf\"{self.args}: exit {self.status} (read) {info}\"\u001b[0m\u001b[0;34m)\u001b[0m\u001b[0;34m\u001b[0m\u001b[0;34m\u001b[0m\u001b[0m\n\u001b[0m\u001b[1;32m     79\u001b[0m \u001b[0;34m\u001b[0m\u001b[0m\n\u001b[1;32m     80\u001b[0m     \u001b[0;32mdef\u001b[0m \u001b[0mread\u001b[0m\u001b[0;34m(\u001b[0m\u001b[0mself\u001b[0m\u001b[0;34m,\u001b[0m \u001b[0;34m*\u001b[0m\u001b[0margs\u001b[0m\u001b[0;34m,\u001b[0m \u001b[0;34m**\u001b[0m\u001b[0mkw\u001b[0m\u001b[0;34m)\u001b[0m\u001b[0;34m:\u001b[0m\u001b[0;34m\u001b[0m\u001b[0;34m\u001b[0m\u001b[0m\n",
      "\u001b[0;31mException\u001b[0m: (('cat file:///Users/ltorrick/DS/pqt_dataset/data/pq8.parquet',), {'shell': True, 'bufsize': 8192}): exit 1 (read) {}"
     ]
    }
   ],
   "source": [
    "kk = read_parquet(file_download_wds(url_list[0].as_uri()))"
   ]
  },
  {
   "cell_type": "code",
   "execution_count": null,
   "id": "909fef6b-5a39-4a80-81b5-e5d5a6225477",
   "metadata": {},
   "outputs": [],
   "source": []
  },
  {
   "cell_type": "code",
   "execution_count": 83,
   "id": "e05ddf9d-404b-4964-acb7-9e76c5c3d879",
   "metadata": {},
   "outputs": [
    {
     "data": {
      "text/html": [
       "<div>\n",
       "<style scoped>\n",
       "    .dataframe tbody tr th:only-of-type {\n",
       "        vertical-align: middle;\n",
       "    }\n",
       "\n",
       "    .dataframe tbody tr th {\n",
       "        vertical-align: top;\n",
       "    }\n",
       "\n",
       "    .dataframe thead th {\n",
       "        text-align: right;\n",
       "    }\n",
       "</style>\n",
       "<table border=\"1\" class=\"dataframe\">\n",
       "  <thead>\n",
       "    <tr style=\"text-align: right;\">\n",
       "      <th></th>\n",
       "      <th>user_id</th>\n",
       "      <th>seq_1</th>\n",
       "      <th>seq_sort</th>\n",
       "    </tr>\n",
       "  </thead>\n",
       "  <tbody>\n",
       "    <tr>\n",
       "      <th>0</th>\n",
       "      <td>71</td>\n",
       "      <td>[74, 5, 46, 25, 12, 89, 52, 84, 61, 80, 91, 30...</td>\n",
       "      <td>[1, 2, 3, 4, 5, 6, 7, 8, 9, 10, 11, 12, 13, 14...</td>\n",
       "    </tr>\n",
       "    <tr>\n",
       "      <th>1</th>\n",
       "      <td>72</td>\n",
       "      <td>[36, 99, 38, 92]</td>\n",
       "      <td>[1, 2, 3, 4]</td>\n",
       "    </tr>\n",
       "    <tr>\n",
       "      <th>2</th>\n",
       "      <td>73</td>\n",
       "      <td>[50, 97, 48, 83, 11, 10, 53, 40]</td>\n",
       "      <td>[1, 2, 3, 4, 5, 6, 7, 8]</td>\n",
       "    </tr>\n",
       "    <tr>\n",
       "      <th>3</th>\n",
       "      <td>74</td>\n",
       "      <td>[34, 94, 35, 87, 47, 67, 38, 71, 44, 40, 60, 1...</td>\n",
       "      <td>[1, 2, 3, 4, 5, 6, 7, 8, 9, 10, 11, 12, 13, 14...</td>\n",
       "    </tr>\n",
       "    <tr>\n",
       "      <th>4</th>\n",
       "      <td>75</td>\n",
       "      <td>[63, 10, 65, 37, 12, 39, 10, 34, 78, 15, 93, 7...</td>\n",
       "      <td>[1, 2, 3, 4, 5, 6, 7, 8, 9, 10, 11, 12, 13, 14...</td>\n",
       "    </tr>\n",
       "    <tr>\n",
       "      <th>5</th>\n",
       "      <td>76</td>\n",
       "      <td>[40, 36, 32, 67, 45, 54, 92, 37, 27, 44, 38, 8...</td>\n",
       "      <td>[1, 2, 3, 4, 5, 6, 7, 8, 9, 10, 11, 12, 13, 14...</td>\n",
       "    </tr>\n",
       "    <tr>\n",
       "      <th>6</th>\n",
       "      <td>77</td>\n",
       "      <td>[93, 38, 11, 27, 17, 54, 28, 52, 56, 18, 59, 8...</td>\n",
       "      <td>[1, 2, 3, 4, 5, 6, 7, 8, 9, 10, 11, 12, 13, 14...</td>\n",
       "    </tr>\n",
       "    <tr>\n",
       "      <th>7</th>\n",
       "      <td>78</td>\n",
       "      <td>[98, 76, 74, 65, 96, 60, 68, 62, 33, 52, 85, 2...</td>\n",
       "      <td>[1, 2, 3, 4, 5, 6, 7, 8, 9, 10, 11, 12, 13, 14...</td>\n",
       "    </tr>\n",
       "    <tr>\n",
       "      <th>8</th>\n",
       "      <td>79</td>\n",
       "      <td>[75]</td>\n",
       "      <td>[1]</td>\n",
       "    </tr>\n",
       "    <tr>\n",
       "      <th>9</th>\n",
       "      <td>80</td>\n",
       "      <td>[70, 43, 11, 85, 27, 39, 95, 51]</td>\n",
       "      <td>[1, 2, 3, 4, 5, 6, 7, 8]</td>\n",
       "    </tr>\n",
       "  </tbody>\n",
       "</table>\n",
       "</div>"
      ],
      "text/plain": [
       "   user_id                                              seq_1  \\\n",
       "0       71  [74, 5, 46, 25, 12, 89, 52, 84, 61, 80, 91, 30...   \n",
       "1       72                                   [36, 99, 38, 92]   \n",
       "2       73                   [50, 97, 48, 83, 11, 10, 53, 40]   \n",
       "3       74  [34, 94, 35, 87, 47, 67, 38, 71, 44, 40, 60, 1...   \n",
       "4       75  [63, 10, 65, 37, 12, 39, 10, 34, 78, 15, 93, 7...   \n",
       "5       76  [40, 36, 32, 67, 45, 54, 92, 37, 27, 44, 38, 8...   \n",
       "6       77  [93, 38, 11, 27, 17, 54, 28, 52, 56, 18, 59, 8...   \n",
       "7       78  [98, 76, 74, 65, 96, 60, 68, 62, 33, 52, 85, 2...   \n",
       "8       79                                               [75]   \n",
       "9       80                   [70, 43, 11, 85, 27, 39, 95, 51]   \n",
       "\n",
       "                                            seq_sort  \n",
       "0  [1, 2, 3, 4, 5, 6, 7, 8, 9, 10, 11, 12, 13, 14...  \n",
       "1                                       [1, 2, 3, 4]  \n",
       "2                           [1, 2, 3, 4, 5, 6, 7, 8]  \n",
       "3  [1, 2, 3, 4, 5, 6, 7, 8, 9, 10, 11, 12, 13, 14...  \n",
       "4  [1, 2, 3, 4, 5, 6, 7, 8, 9, 10, 11, 12, 13, 14...  \n",
       "5  [1, 2, 3, 4, 5, 6, 7, 8, 9, 10, 11, 12, 13, 14...  \n",
       "6  [1, 2, 3, 4, 5, 6, 7, 8, 9, 10, 11, 12, 13, 14...  \n",
       "7  [1, 2, 3, 4, 5, 6, 7, 8, 9, 10, 11, 12, 13, 14...  \n",
       "8                                                [1]  \n",
       "9                           [1, 2, 3, 4, 5, 6, 7, 8]  "
      ]
     },
     "execution_count": 83,
     "metadata": {},
     "output_type": "execute_result"
    }
   ],
   "source": [
    "kk"
   ]
  },
  {
   "cell_type": "code",
   "execution_count": 84,
   "id": "e8296efb-d572-4127-9031-a8d924555b69",
   "metadata": {},
   "outputs": [
    {
     "data": {
      "text/plain": [
       "ParseResult(scheme='file', netloc='', path='/Users/ltorrick/DS/pqt_dataset/data/pq8.parquet', params='', query='', fragment='')"
      ]
     },
     "execution_count": 84,
     "metadata": {},
     "output_type": "execute_result"
    }
   ],
   "source": [
    "uri"
   ]
  },
  {
   "cell_type": "code",
   "execution_count": 87,
   "id": "c11fb72f-55d7-428e-92ad-c4524abe2aac",
   "metadata": {},
   "outputs": [],
   "source": [
    "kk2 = read_parquet(file_download(uri))"
   ]
  },
  {
   "cell_type": "code",
   "execution_count": 88,
   "id": "3b6d00a3-264b-4103-ac4c-a95022944b33",
   "metadata": {},
   "outputs": [
    {
     "data": {
      "text/html": [
       "<div>\n",
       "<style scoped>\n",
       "    .dataframe tbody tr th:only-of-type {\n",
       "        vertical-align: middle;\n",
       "    }\n",
       "\n",
       "    .dataframe tbody tr th {\n",
       "        vertical-align: top;\n",
       "    }\n",
       "\n",
       "    .dataframe thead th {\n",
       "        text-align: right;\n",
       "    }\n",
       "</style>\n",
       "<table border=\"1\" class=\"dataframe\">\n",
       "  <thead>\n",
       "    <tr style=\"text-align: right;\">\n",
       "      <th></th>\n",
       "      <th>user_id</th>\n",
       "      <th>seq_1</th>\n",
       "      <th>seq_sort</th>\n",
       "    </tr>\n",
       "  </thead>\n",
       "  <tbody>\n",
       "    <tr>\n",
       "      <th>0</th>\n",
       "      <td>71</td>\n",
       "      <td>[74, 5, 46, 25, 12, 89, 52, 84, 61, 80, 91, 30...</td>\n",
       "      <td>[1, 2, 3, 4, 5, 6, 7, 8, 9, 10, 11, 12, 13, 14...</td>\n",
       "    </tr>\n",
       "    <tr>\n",
       "      <th>1</th>\n",
       "      <td>72</td>\n",
       "      <td>[36, 99, 38, 92]</td>\n",
       "      <td>[1, 2, 3, 4]</td>\n",
       "    </tr>\n",
       "    <tr>\n",
       "      <th>2</th>\n",
       "      <td>73</td>\n",
       "      <td>[50, 97, 48, 83, 11, 10, 53, 40]</td>\n",
       "      <td>[1, 2, 3, 4, 5, 6, 7, 8]</td>\n",
       "    </tr>\n",
       "    <tr>\n",
       "      <th>3</th>\n",
       "      <td>74</td>\n",
       "      <td>[34, 94, 35, 87, 47, 67, 38, 71, 44, 40, 60, 1...</td>\n",
       "      <td>[1, 2, 3, 4, 5, 6, 7, 8, 9, 10, 11, 12, 13, 14...</td>\n",
       "    </tr>\n",
       "    <tr>\n",
       "      <th>4</th>\n",
       "      <td>75</td>\n",
       "      <td>[63, 10, 65, 37, 12, 39, 10, 34, 78, 15, 93, 7...</td>\n",
       "      <td>[1, 2, 3, 4, 5, 6, 7, 8, 9, 10, 11, 12, 13, 14...</td>\n",
       "    </tr>\n",
       "    <tr>\n",
       "      <th>5</th>\n",
       "      <td>76</td>\n",
       "      <td>[40, 36, 32, 67, 45, 54, 92, 37, 27, 44, 38, 8...</td>\n",
       "      <td>[1, 2, 3, 4, 5, 6, 7, 8, 9, 10, 11, 12, 13, 14...</td>\n",
       "    </tr>\n",
       "    <tr>\n",
       "      <th>6</th>\n",
       "      <td>77</td>\n",
       "      <td>[93, 38, 11, 27, 17, 54, 28, 52, 56, 18, 59, 8...</td>\n",
       "      <td>[1, 2, 3, 4, 5, 6, 7, 8, 9, 10, 11, 12, 13, 14...</td>\n",
       "    </tr>\n",
       "    <tr>\n",
       "      <th>7</th>\n",
       "      <td>78</td>\n",
       "      <td>[98, 76, 74, 65, 96, 60, 68, 62, 33, 52, 85, 2...</td>\n",
       "      <td>[1, 2, 3, 4, 5, 6, 7, 8, 9, 10, 11, 12, 13, 14...</td>\n",
       "    </tr>\n",
       "    <tr>\n",
       "      <th>8</th>\n",
       "      <td>79</td>\n",
       "      <td>[75]</td>\n",
       "      <td>[1]</td>\n",
       "    </tr>\n",
       "    <tr>\n",
       "      <th>9</th>\n",
       "      <td>80</td>\n",
       "      <td>[70, 43, 11, 85, 27, 39, 95, 51]</td>\n",
       "      <td>[1, 2, 3, 4, 5, 6, 7, 8]</td>\n",
       "    </tr>\n",
       "  </tbody>\n",
       "</table>\n",
       "</div>"
      ],
      "text/plain": [
       "   user_id                                              seq_1  \\\n",
       "0       71  [74, 5, 46, 25, 12, 89, 52, 84, 61, 80, 91, 30...   \n",
       "1       72                                   [36, 99, 38, 92]   \n",
       "2       73                   [50, 97, 48, 83, 11, 10, 53, 40]   \n",
       "3       74  [34, 94, 35, 87, 47, 67, 38, 71, 44, 40, 60, 1...   \n",
       "4       75  [63, 10, 65, 37, 12, 39, 10, 34, 78, 15, 93, 7...   \n",
       "5       76  [40, 36, 32, 67, 45, 54, 92, 37, 27, 44, 38, 8...   \n",
       "6       77  [93, 38, 11, 27, 17, 54, 28, 52, 56, 18, 59, 8...   \n",
       "7       78  [98, 76, 74, 65, 96, 60, 68, 62, 33, 52, 85, 2...   \n",
       "8       79                                               [75]   \n",
       "9       80                   [70, 43, 11, 85, 27, 39, 95, 51]   \n",
       "\n",
       "                                            seq_sort  \n",
       "0  [1, 2, 3, 4, 5, 6, 7, 8, 9, 10, 11, 12, 13, 14...  \n",
       "1                                       [1, 2, 3, 4]  \n",
       "2                           [1, 2, 3, 4, 5, 6, 7, 8]  \n",
       "3  [1, 2, 3, 4, 5, 6, 7, 8, 9, 10, 11, 12, 13, 14...  \n",
       "4  [1, 2, 3, 4, 5, 6, 7, 8, 9, 10, 11, 12, 13, 14...  \n",
       "5  [1, 2, 3, 4, 5, 6, 7, 8, 9, 10, 11, 12, 13, 14...  \n",
       "6  [1, 2, 3, 4, 5, 6, 7, 8, 9, 10, 11, 12, 13, 14...  \n",
       "7  [1, 2, 3, 4, 5, 6, 7, 8, 9, 10, 11, 12, 13, 14...  \n",
       "8                                                [1]  \n",
       "9                           [1, 2, 3, 4, 5, 6, 7, 8]  "
      ]
     },
     "execution_count": 88,
     "metadata": {},
     "output_type": "execute_result"
    }
   ],
   "source": [
    "kk2"
   ]
  },
  {
   "cell_type": "code",
   "execution_count": null,
   "id": "b69d5c54-a96d-43c9-8674-43548e99004a",
   "metadata": {},
   "outputs": [],
   "source": [
    "def file_download(uri, *args, **kwargs):\n",
    "    with open(uri.path, mode=\"rb\") as input:\n",
    "        return input.read()"
   ]
  },
  {
   "cell_type": "code",
   "execution_count": 94,
   "id": "5cf49bea-26e2-43cc-b732-ea3e327ca599",
   "metadata": {},
   "outputs": [],
   "source": [
    "def read_parquet_2(buf):\n",
    "    with pyarrow.ipc.open_stream(buf) as reader:\n",
    "        df = reader.parread_pandas()\n",
    "    return df"
   ]
  },
  {
   "cell_type": "code",
   "execution_count": 90,
   "id": "2d2f3dd5-13a6-41b8-a621-813f65aa5edd",
   "metadata": {},
   "outputs": [],
   "source": [
    "def file_download(uri, *args, **kwargs):\n",
    "    with open(uri.path, mode=\"rb\") as input:\n",
    "        return input.read()"
   ]
  },
  {
   "cell_type": "code",
   "execution_count": 95,
   "id": "707875bc-cfeb-4992-993d-f18fe5972cda",
   "metadata": {},
   "outputs": [
    {
     "ename": "ArrowInvalid",
     "evalue": "Expected to read 827474256 metadata bytes, but only read 3552",
     "output_type": "error",
     "traceback": [
      "\u001b[0;31m---------------------------------------------------------------------------\u001b[0m",
      "\u001b[0;31mArrowInvalid\u001b[0m                              Traceback (most recent call last)",
      "\u001b[0;32m<ipython-input-95-f481f83ed4c8>\u001b[0m in \u001b[0;36m<module>\u001b[0;34m\u001b[0m\n\u001b[0;32m----> 1\u001b[0;31m \u001b[0mkk3\u001b[0m \u001b[0;34m=\u001b[0m \u001b[0mread_parquet_2\u001b[0m\u001b[0;34m(\u001b[0m\u001b[0mfile_download\u001b[0m\u001b[0;34m(\u001b[0m\u001b[0muri\u001b[0m\u001b[0;34m)\u001b[0m\u001b[0;34m)\u001b[0m\u001b[0;34m\u001b[0m\u001b[0;34m\u001b[0m\u001b[0m\n\u001b[0m\u001b[1;32m      2\u001b[0m \u001b[0;34m\u001b[0m\u001b[0m\n",
      "\u001b[0;32m<ipython-input-94-fcd2a81d1002>\u001b[0m in \u001b[0;36mread_parquet_2\u001b[0;34m(buf)\u001b[0m\n\u001b[1;32m      1\u001b[0m \u001b[0;32mdef\u001b[0m \u001b[0mread_parquet_2\u001b[0m\u001b[0;34m(\u001b[0m\u001b[0mbuf\u001b[0m\u001b[0;34m)\u001b[0m\u001b[0;34m:\u001b[0m\u001b[0;34m\u001b[0m\u001b[0;34m\u001b[0m\u001b[0m\n\u001b[0;32m----> 2\u001b[0;31m     \u001b[0;32mwith\u001b[0m \u001b[0mpyarrow\u001b[0m\u001b[0;34m.\u001b[0m\u001b[0mipc\u001b[0m\u001b[0;34m.\u001b[0m\u001b[0mopen_stream\u001b[0m\u001b[0;34m(\u001b[0m\u001b[0mbuf\u001b[0m\u001b[0;34m)\u001b[0m \u001b[0;32mas\u001b[0m \u001b[0mreader\u001b[0m\u001b[0;34m:\u001b[0m\u001b[0;34m\u001b[0m\u001b[0;34m\u001b[0m\u001b[0m\n\u001b[0m\u001b[1;32m      3\u001b[0m         \u001b[0mdf\u001b[0m \u001b[0;34m=\u001b[0m \u001b[0mreader\u001b[0m\u001b[0;34m.\u001b[0m\u001b[0mread_pandas\u001b[0m\u001b[0;34m(\u001b[0m\u001b[0;34m)\u001b[0m\u001b[0;34m\u001b[0m\u001b[0;34m\u001b[0m\u001b[0m\n\u001b[1;32m      4\u001b[0m     \u001b[0;32mreturn\u001b[0m \u001b[0mdf\u001b[0m\u001b[0;34m\u001b[0m\u001b[0;34m\u001b[0m\u001b[0m\n",
      "\u001b[0;32m/Library/Frameworks/Python.framework/Versions/3.8/lib/python3.8/site-packages/pyarrow/ipc.py\u001b[0m in \u001b[0;36mopen_stream\u001b[0;34m(source)\u001b[0m\n\u001b[1;32m    151\u001b[0m     \u001b[0mreader\u001b[0m \u001b[0;34m:\u001b[0m \u001b[0mRecordBatchStreamReader\u001b[0m\u001b[0;34m\u001b[0m\u001b[0;34m\u001b[0m\u001b[0m\n\u001b[1;32m    152\u001b[0m     \"\"\"\n\u001b[0;32m--> 153\u001b[0;31m     \u001b[0;32mreturn\u001b[0m \u001b[0mRecordBatchStreamReader\u001b[0m\u001b[0;34m(\u001b[0m\u001b[0msource\u001b[0m\u001b[0;34m)\u001b[0m\u001b[0;34m\u001b[0m\u001b[0;34m\u001b[0m\u001b[0m\n\u001b[0m\u001b[1;32m    154\u001b[0m \u001b[0;34m\u001b[0m\u001b[0m\n\u001b[1;32m    155\u001b[0m \u001b[0;34m\u001b[0m\u001b[0m\n",
      "\u001b[0;32m/Library/Frameworks/Python.framework/Versions/3.8/lib/python3.8/site-packages/pyarrow/ipc.py\u001b[0m in \u001b[0;36m__init__\u001b[0;34m(self, source)\u001b[0m\n\u001b[1;32m     42\u001b[0m \u001b[0;34m\u001b[0m\u001b[0m\n\u001b[1;32m     43\u001b[0m     \u001b[0;32mdef\u001b[0m \u001b[0m__init__\u001b[0m\u001b[0;34m(\u001b[0m\u001b[0mself\u001b[0m\u001b[0;34m,\u001b[0m \u001b[0msource\u001b[0m\u001b[0;34m)\u001b[0m\u001b[0;34m:\u001b[0m\u001b[0;34m\u001b[0m\u001b[0;34m\u001b[0m\u001b[0m\n\u001b[0;32m---> 44\u001b[0;31m         \u001b[0mself\u001b[0m\u001b[0;34m.\u001b[0m\u001b[0m_open\u001b[0m\u001b[0;34m(\u001b[0m\u001b[0msource\u001b[0m\u001b[0;34m)\u001b[0m\u001b[0;34m\u001b[0m\u001b[0;34m\u001b[0m\u001b[0m\n\u001b[0m\u001b[1;32m     45\u001b[0m \u001b[0;34m\u001b[0m\u001b[0m\n\u001b[1;32m     46\u001b[0m \u001b[0;34m\u001b[0m\u001b[0m\n",
      "\u001b[0;32m/Library/Frameworks/Python.framework/Versions/3.8/lib/python3.8/site-packages/pyarrow/ipc.pxi\u001b[0m in \u001b[0;36mpyarrow.lib._RecordBatchStreamReader._open\u001b[0;34m()\u001b[0m\n",
      "\u001b[0;32m/Library/Frameworks/Python.framework/Versions/3.8/lib/python3.8/site-packages/pyarrow/error.pxi\u001b[0m in \u001b[0;36mpyarrow.lib.pyarrow_internal_check_status\u001b[0;34m()\u001b[0m\n",
      "\u001b[0;32m/Library/Frameworks/Python.framework/Versions/3.8/lib/python3.8/site-packages/pyarrow/error.pxi\u001b[0m in \u001b[0;36mpyarrow.lib.check_status\u001b[0;34m()\u001b[0m\n",
      "\u001b[0;31mArrowInvalid\u001b[0m: Expected to read 827474256 metadata bytes, but only read 3552"
     ]
    }
   ],
   "source": [
    "kk3 = read_parquet_2(file_download(uri))\n",
    "\n"
   ]
  },
  {
   "cell_type": "code",
   "execution_count": null,
   "id": "82f9f3fd-0e7c-4db1-9940-aa86b2919d81",
   "metadata": {},
   "outputs": [],
   "source": []
  }
 ],
 "metadata": {
  "kernelspec": {
   "display_name": "Python 3",
   "language": "python",
   "name": "python3"
  },
  "language_info": {
   "codemirror_mode": {
    "name": "ipython",
    "version": 3
   },
   "file_extension": ".py",
   "mimetype": "text/x-python",
   "name": "python",
   "nbconvert_exporter": "python",
   "pygments_lexer": "ipython3",
   "version": "3.8.6rc1"
  }
 },
 "nbformat": 4,
 "nbformat_minor": 5
}
