{
 "cells": [
  {
   "cell_type": "code",
   "execution_count": 1,
   "id": "3bd94801-a91c-4118-b3e1-1b011514343b",
   "metadata": {},
   "outputs": [],
   "source": [
    "import sys\n",
    "import json\n",
    "import time\n",
    "import os\n",
    "import pandas as pd\n",
    "import numpy as np\n",
    "import torch\n",
    "from tqdm import tqdm\n",
    "import csv\n",
    "import time\n",
    "from functools import partial\n",
    "sys.path.append('/home/evorsin/DS/pqt_loader/sequence_dataloader/')"
   ]
  },
  {
   "cell_type": "code",
   "execution_count": 2,
   "id": "01735520-441f-44c2-8e07-751243b4628b",
   "metadata": {},
   "outputs": [],
   "source": [
    "%load_ext autoreload"
   ]
  },
  {
   "cell_type": "code",
   "execution_count": 3,
   "id": "e1318261-bc53-4a03-ae70-cca472cf70b0",
   "metadata": {},
   "outputs": [],
   "source": [
    "%autoreload 2\n",
    "# функционал подготовки даталоадера\n",
    "from webdataset_fork_0162.dataloader import *\n",
    "\n",
    "#функционал тренировки и валидации\n",
    "from examples.mts_23.engine import train_fn, val_fn, inf_fn, EarlyStop\n",
    "#класс для параметров пайплайна\n",
    "from utils.functions import Args, base_conf, load_pickle,seed_everything\n",
    "#класс для модели\n",
    "from examples.mts_23.model import RNNClsReceipts"
   ]
  },
  {
   "cell_type": "code",
   "execution_count": 4,
   "id": "0ced67d5-73fb-4304-b30e-67548644cad0",
   "metadata": {},
   "outputs": [],
   "source": [
    "pd.set_option('display.max_rows', 100)\n",
    "pd.set_option('display.max_columns', 100)"
   ]
  },
  {
   "cell_type": "markdown",
   "id": "7694a519-b21a-4cba-a66d-b93a05f2ee77",
   "metadata": {},
   "source": [
    "# Загрузка параметров и вспомогтаельных справочников"
   ]
  },
  {
   "cell_type": "code",
   "execution_count": 5,
   "id": "adac3b58-1cae-42e9-8d91-e1483dd18c9d",
   "metadata": {},
   "outputs": [],
   "source": [
    "url2kmeans = load_pickle('/home/evorsin/DS/mts_23/data/urls/url2kmeans.bin')"
   ]
  },
  {
   "cell_type": "code",
   "execution_count": 6,
   "id": "0b6f748f-9e32-47fb-998b-5b210a45fb88",
   "metadata": {},
   "outputs": [],
   "source": [
    "url2url = {k:k for k in url2kmeans}"
   ]
  },
  {
   "cell_type": "code",
   "execution_count": 7,
   "id": "8ad1c07b-5413-4bdc-af5a-3ce15b21bb77",
   "metadata": {},
   "outputs": [],
   "source": [
    "params = Args(**base_conf)"
   ]
  },
  {
   "cell_type": "code",
   "execution_count": 8,
   "id": "bffb95b7-ab67-4e07-b142-c27f87ddae52",
   "metadata": {},
   "outputs": [],
   "source": [
    "params.cont_features=[]\n",
    "params.cont_features_const=['price_sc','diff_date_m']\n",
    "\n",
    "#params.cont_features = [col+'_sc' for col in params.cont_features]\n",
    "#params.cont_features= params.cont_features+['days_from_first_buy_log1p']\n",
    "\n",
    "params.emb_params =  {\n",
    "\n",
    "  'part_of_day_enc': {'vocabulary_size': 5, 'dim': 2},\n",
    "  'request_cnt': {'vocabulary_size': 16, 'dim': 4},\n",
    "  'region_name_enc': {'vocabulary_size': 82, 'dim': 8},\n",
    "  'city_name_enc': {'vocabulary_size': 986, 'dim': 4},\n",
    "  'date_dow':{'vocabulary_size': 8, 'dim': 4},\n",
    "  'date_day':{'vocabulary_size': 32, 'dim': 4},\n",
    "  'date_month':{'vocabulary_size': 13, 'dim': 2},\n",
    "  #'url_host_enc':{'vocabulary_size': 51, 'dim': 4},\n",
    "   'url_host_enc':{'vocabulary_size': 200000, 'dim': 512}\n",
    "                     }\n",
    "params.emb_params_const =  {\n",
    "  'cpe_manufacturer_name_enc': {'vocabulary_size': 38, 'dim': 4},\n",
    "  'cpe_model_name_enc': {'vocabulary_size': 600, 'dim': 4},\n",
    "  'cpe_type_cd_enc': {'vocabulary_size': 5, 'dim': 2},\n",
    "  'cpe_model_os_type_enc': {'vocabulary_size': 4, 'dim': 2},\n",
    "  'price_nan': {'vocabulary_size': 3, 'dim': 2},\n",
    "                     }\n",
    "params.target_col_bin ='is_male'\n",
    "params.target_col_multyclass='age'\n",
    "params.seq_len =512"
   ]
  },
  {
   "cell_type": "code",
   "execution_count": 9,
   "id": "cb2d85b9-2876-4765-aab5-9d9347ead061",
   "metadata": {},
   "outputs": [],
   "source": [
    "mapper_conf = {'url_host_enc':url2kmeans, 'nan_v':18}"
   ]
  },
  {
   "cell_type": "code",
   "execution_count": 10,
   "id": "83ce9955-1171-4b68-9da0-72ec7885d1bb",
   "metadata": {},
   "outputs": [],
   "source": [
    "mapper_conf = {'url_host_enc':url2url, 'nan_v':1}"
   ]
  },
  {
   "cell_type": "code",
   "execution_count": 9,
   "id": "a752adb9-6029-4fc3-9b83-5461de6d70fb",
   "metadata": {},
   "outputs": [],
   "source": [
    "#!pip install webdataset==0.1.62"
   ]
  },
  {
   "cell_type": "markdown",
   "id": "94a2a645-dcee-493d-bedf-8b1f48b40e33",
   "metadata": {
    "jp-MarkdownHeadingCollapsed": true,
    "tags": []
   },
   "source": [
    "# debug dataloader"
   ]
  },
  {
   "cell_type": "code",
   "execution_count": 74,
   "id": "ae963b9f-c35f-4913-bae4-37d5124ae7a4",
   "metadata": {},
   "outputs": [],
   "source": [
    "def get_dataloader_(\n",
    "    path_to_data,\n",
    "    params,\n",
    "    batch_size=None,\n",
    "    num_workers=None,\n",
    "    fasttext_emb=None,\n",
    "    shuffle=False,\n",
    "    with_target=True,\n",
    "    resample_n=None,\n",
    "    mapper_conf=None\n",
    "):\n",
    "    if batch_size is None:\n",
    "        batch_size = params.batch_size\n",
    "    if num_workers is None:\n",
    "        num_workers = params.num_workers\n",
    "    \n",
    "    const_feats = [\"user_id\", \"user_tr_count\"]+list(params.emb_params_const.keys())\\\n",
    "    + params.cont_features_const \n",
    "    \n",
    "    if with_target:\n",
    "        const_feats =const_feats+ ['is_male', 'age']\n",
    "\n",
    "    standart_processors = (\n",
    "        FeatureProcessorConst(const_feats),\n",
    "        FeatureProcessorCallable([\"price_nan\"], lambda x:x+1),\n",
    "        FeatureProcessorCallable([\"url_host_enc\"], lambda x:mapper_conf['url_host_enc'].get(x,18)+1),\n",
    "        FeatureProcessorCallable([\"age\"], lambda x:x-1),\n",
    "    )\n",
    "\n",
    "    test_feature_processor = FeatureProcessorCombiner(\n",
    "        [*standart_processors], max_seq_len=params.seq_len\n",
    "    )\n",
    "\n",
    "    feature_names = [\"url_host_enc\"]\\\n",
    "            +test_feature_processor.additional_column_names\\\n",
    "            + params.cont_features\\\n",
    "            + params.cont_features_const\\\n",
    "            + list(params.emb_params.keys())\\\n",
    "            + list(params.emb_params_const.keys())\n",
    "    feature_names = list(set(feature_names))\n",
    "\n",
    "    #fasttext_cols = [f\"fasttext_{i}\" for i in range(256)]\n",
    "    #feature_names = [col for col in feature_names if col not in fasttext_cols]\n",
    "    #cont_feats = [col for col in params.cont_features if col not in fasttext_cols]\n",
    "    cont_feats = params.cont_features + params.cont_features_const\n",
    "    resample_col = params.__dict__.get(\"target_col\", \"target\")\n",
    "\n",
    "\n",
    "    collator_down = SequenceCollator(\n",
    "        feature_names=feature_names,\n",
    "        continious_features=cont_feats,\n",
    "        count_len_by=\"url_host_enc\",\n",
    "        resample_n=resample_n,\n",
    "        resample_col=resample_col,\n",
    "        fasttext_emb=fasttext_emb,\n",
    "    )\n",
    "\n",
    "    test_down = get_dataset(\n",
    "        path_to_data,\n",
    "        test_feature_processor,\n",
    "        collator_down,\n",
    "        batch_size,\n",
    "        shuffle,\n",
    "        hdfs=False,\n",
    "    )\n",
    "\n",
    "    test_down_loader = inf_loop(\n",
    "        partial(prepare_loader, test_down, num_workers=num_workers)\n",
    "    )\n",
    "\n",
    "    return test_down_loader"
   ]
  },
  {
   "cell_type": "code",
   "execution_count": 48,
   "id": "8d4669ec-34ea-4957-8942-62c5d17b0062",
   "metadata": {},
   "outputs": [],
   "source": [
    "df = pd.read_parquet('/home/evorsin/DS/mts_23/data/CV/fold_1/fold_1_part_0.parquet')"
   ]
  },
  {
   "cell_type": "code",
   "execution_count": 15,
   "id": "692b5072-6c5e-4fd2-a02a-1f15237971d0",
   "metadata": {},
   "outputs": [],
   "source": [
    "params.cont_features=[]\n",
    "params.cont_features_const=['price_sc','diff_date_m']\n",
    "\n",
    "#params.cont_features = [col+'_sc' for col in params.cont_features]\n",
    "#params.cont_features= params.cont_features+['days_from_first_buy_log1p']\n",
    "\n",
    "params.emb_params =  {\n",
    "  #'cpe_manufacturer_name_enc': {'vocabulary_size': 37, 'dim': 4},\n",
    "  #'cpe_model_name_enc': {'vocabulary_size': 599, 'dim': 64},\n",
    "  #'cpe_type_cd_enc': {'vocabulary_size': 4, 'dim': 2},\n",
    "  #'cpe_model_os_type_enc': {'vocabulary_size': 3, 'dim': 2},\n",
    "  'part_of_day_enc': {'vocabulary_size': 5, 'dim': 2},\n",
    "  'request_cnt': {'vocabulary_size': 16, 'dim': 4},\n",
    "  'region_name_enc': {'vocabulary_size': 82, 'dim': 8},\n",
    "  'city_name_enc': {'vocabulary_size': 986, 'dim': 4},\n",
    "  'date_dow':{'vocabulary_size': 8, 'dim': 4},\n",
    "  'date_day':{'vocabulary_size': 32, 'dim': 4},\n",
    "  'date_month':{'vocabulary_size': 13, 'dim': 2},\n",
    "  #'url_host_enc':{'vocabulary_size': 51, 'dim': 16},\n",
    "    'url_host_enc':{'vocabulary_size': 200000, 'dim': 512}\n",
    "                     }\n",
    "params.emb_params_const =  {\n",
    "  'cpe_manufacturer_name_enc': {'vocabulary_size': 38, 'dim': 4},\n",
    "  'cpe_model_name_enc': {'vocabulary_size': 600, 'dim': 64},\n",
    "  'cpe_type_cd_enc': {'vocabulary_size': 5, 'dim': 2},\n",
    "  'cpe_model_os_type_enc': {'vocabulary_size': 4, 'dim': 2},\n",
    "  'price_nan': {'vocabulary_size': 3, 'dim': 2},\n",
    "                     }\n",
    "params.target_col_bin ='is_male'\n",
    "params.target_col_multyclass='age'"
   ]
  },
  {
   "cell_type": "code",
   "execution_count": 16,
   "id": "a7f68ff9-c822-44fc-839e-7280c2692740",
   "metadata": {},
   "outputs": [],
   "source": [
    "train_path = '/home/evorsin/DS/mts_23/data/CV/fold_1'"
   ]
  },
  {
   "cell_type": "code",
   "execution_count": 28,
   "id": "9a158934-f678-4a57-806f-c37b875f3d8d",
   "metadata": {},
   "outputs": [],
   "source": [
    "params.seq_len=512\n",
    "#params.target_col = 'is_male'"
   ]
  },
  {
   "cell_type": "code",
   "execution_count": 29,
   "id": "46d9558a-3e72-4388-a4cf-8ef07766bb1b",
   "metadata": {},
   "outputs": [],
   "source": [
    "train_loader = get_dataloader(train_path,\n",
    "                                      params,\n",
    "                                      batch_size=16,\n",
    "                              num_workers=0,\n",
    "                                      fasttext_emb=None, shuffle=False, resample_n=None,mapper_conf=mapper_conf)"
   ]
  },
  {
   "cell_type": "code",
   "execution_count": 30,
   "id": "76d2bd3e-caf1-44d5-98d0-a850632bcb63",
   "metadata": {},
   "outputs": [],
   "source": [
    "d= next(iter(train_loader))"
   ]
  },
  {
   "cell_type": "code",
   "execution_count": 32,
   "id": "0e598973-c022-4cab-87e1-5393b3d2999a",
   "metadata": {},
   "outputs": [
    {
     "data": {
      "text/plain": [
       "{'lengths': [512,\n",
       "  512,\n",
       "  280,\n",
       "  145,\n",
       "  512,\n",
       "  512,\n",
       "  115,\n",
       "  512,\n",
       "  203,\n",
       "  97,\n",
       "  512,\n",
       "  512,\n",
       "  512,\n",
       "  512,\n",
       "  27,\n",
       "  244],\n",
       " 'url_host_enc': tensor([[  7,   4,   3,  ..., 103,  16,   7],\n",
       "         [ 51,  88,   4,  ...,  19, 316,  38],\n",
       "         [ 11, 127,  15,  ...,   0,   0,   0],\n",
       "         ...,\n",
       "         [  7, 145,  89,  ...,  13, 116, 159],\n",
       "         [  5,   8,  14,  ...,   0,   0,   0],\n",
       "         [ 23,  13,  21,  ...,   0,   0,   0]]),\n",
       " 'is_male': tensor([[1.],\n",
       "         [0.],\n",
       "         [0.],\n",
       "         [0.],\n",
       "         [1.],\n",
       "         [0.],\n",
       "         [1.],\n",
       "         [0.],\n",
       "         [0.],\n",
       "         [0.],\n",
       "         [1.],\n",
       "         [1.],\n",
       "         [0.],\n",
       "         [0.],\n",
       "         [0.],\n",
       "         [1.]], dtype=torch.float64),\n",
       " 'user_tr_count': tensor([[1590],\n",
       "         [1286],\n",
       "         [ 280],\n",
       "         [ 145],\n",
       "         [1490],\n",
       "         [1113],\n",
       "         [ 115],\n",
       "         [ 876],\n",
       "         [ 203],\n",
       "         [  97],\n",
       "         [2083],\n",
       "         [ 802],\n",
       "         [2140],\n",
       "         [2079],\n",
       "         [  27],\n",
       "         [ 244]]),\n",
       " 'cpe_model_os_type_enc': tensor([[1],\n",
       "         [2],\n",
       "         [1],\n",
       "         [2],\n",
       "         [2],\n",
       "         [2],\n",
       "         [2],\n",
       "         [2],\n",
       "         [1],\n",
       "         [1],\n",
       "         [1],\n",
       "         [1],\n",
       "         [2],\n",
       "         [2],\n",
       "         [1],\n",
       "         [2]]),\n",
       " 'date_dow': tensor([[3, 3, 3,  ..., 1, 1, 1],\n",
       "         [4, 4, 4,  ..., 7, 7, 7],\n",
       "         [3, 3, 3,  ..., 0, 0, 0],\n",
       "         ...,\n",
       "         [7, 1, 1,  ..., 7, 7, 7],\n",
       "         [1, 1, 1,  ..., 0, 0, 0],\n",
       "         [3, 3, 3,  ..., 0, 0, 0]]),\n",
       " 'region_name_enc': tensor([[ 1,  1,  1,  ...,  1,  1,  1],\n",
       "         [29, 29, 29,  ..., 29, 29, 29],\n",
       "         [ 8,  8,  8,  ...,  0,  0,  0],\n",
       "         ...,\n",
       "         [15, 15, 15,  ..., 15, 15, 15],\n",
       "         [21, 21, 21,  ...,  0,  0,  0],\n",
       "         [ 1,  1,  1,  ...,  0,  0,  0]]),\n",
       " 'request_cnt': tensor([[4, 2, 4,  ..., 1, 1, 2],\n",
       "         [1, 1, 1,  ..., 2, 2, 2],\n",
       "         [1, 1, 1,  ..., 0, 0, 0],\n",
       "         ...,\n",
       "         [5, 1, 1,  ..., 3, 1, 1],\n",
       "         [1, 1, 1,  ..., 0, 0, 0],\n",
       "         [1, 5, 1,  ..., 0, 0, 0]]),\n",
       " 'diff_date_m': tensor([[1.5442],\n",
       "         [3.7783],\n",
       "         [0.6900],\n",
       "         [0.8871],\n",
       "         [1.3799],\n",
       "         [1.0514],\n",
       "         [0.1971],\n",
       "         [1.5770],\n",
       "         [0.5914],\n",
       "         [0.1643],\n",
       "         [0.9856],\n",
       "         [0.5257],\n",
       "         [2.4313],\n",
       "         [1.2813],\n",
       "         [0.8214],\n",
       "         [0.5914]]),\n",
       " 'city_name_enc': tensor([[  1,   1,   1,  ...,   1,   1,   1],\n",
       "         [ 25, 394, 394,  ..., 394, 394, 394],\n",
       "         [ 84,  84,  84,  ...,   0,   0,   0],\n",
       "         ...,\n",
       "         [235, 235,  15,  ..., 235, 235, 235],\n",
       "         [ 30,  30,  30,  ...,   0,   0,   0],\n",
       "         [  1,   1,   1,  ...,   0,   0,   0]]),\n",
       " 'price_sc': tensor([[-0.6951],\n",
       "         [ 0.6288],\n",
       "         [-0.6168],\n",
       "         [-0.0754],\n",
       "         [ 0.3542],\n",
       "         [ 0.4503],\n",
       "         [ 2.0274],\n",
       "         [ 3.0389],\n",
       "         [-0.7308],\n",
       "         [-0.8860],\n",
       "         [-0.0368],\n",
       "         [-0.5000],\n",
       "         [ 1.3461],\n",
       "         [ 0.4846],\n",
       "         [-0.5772],\n",
       "         [ 0.8707]]),\n",
       " 'age': tensor([[3.],\n",
       "         [1.],\n",
       "         [1.],\n",
       "         [2.],\n",
       "         [0.],\n",
       "         [0.],\n",
       "         [1.],\n",
       "         [0.],\n",
       "         [3.],\n",
       "         [5.],\n",
       "         [1.],\n",
       "         [2.],\n",
       "         [1.],\n",
       "         [0.],\n",
       "         [2.],\n",
       "         [1.]], dtype=torch.float64),\n",
       " 'cpe_type_cd_enc': tensor([[1],\n",
       "         [1],\n",
       "         [1],\n",
       "         [1],\n",
       "         [1],\n",
       "         [1],\n",
       "         [1],\n",
       "         [1],\n",
       "         [1],\n",
       "         [1],\n",
       "         [1],\n",
       "         [1],\n",
       "         [1],\n",
       "         [1],\n",
       "         [1],\n",
       "         [1]]),\n",
       " 'cpe_model_name_enc': tensor([[537],\n",
       "         [  1],\n",
       "         [ 25],\n",
       "         [  9],\n",
       "         [ 10],\n",
       "         [ 10],\n",
       "         [ 18],\n",
       "         [ 15],\n",
       "         [ 86],\n",
       "         [ 31],\n",
       "         [ 70],\n",
       "         [ 63],\n",
       "         [  9],\n",
       "         [ 10],\n",
       "         [243],\n",
       "         [  1]]),\n",
       " 'part_of_day_enc': tensor([[2, 3, 2,  ..., 3, 3, 3],\n",
       "         [3, 3, 1,  ..., 2, 2, 2],\n",
       "         [1, 1, 3,  ..., 0, 0, 0],\n",
       "         ...,\n",
       "         [2, 2, 1,  ..., 3, 3, 3],\n",
       "         [1, 1, 1,  ..., 0, 0, 0],\n",
       "         [3, 1, 3,  ..., 0, 0, 0]]),\n",
       " 'date_month': tensor([[7, 7, 7,  ..., 8, 8, 8],\n",
       "         [3, 3, 3,  ..., 6, 6, 6],\n",
       "         [6, 6, 6,  ..., 0, 0, 0],\n",
       "         ...,\n",
       "         [7, 7, 7,  ..., 7, 7, 7],\n",
       "         [6, 6, 6,  ..., 0, 0, 0],\n",
       "         [6, 6, 6,  ..., 0, 0, 0]]),\n",
       " 'date_day': tensor([[14, 14, 14,  ...,  2,  2,  2],\n",
       "         [24, 24, 24,  ..., 19, 19, 19],\n",
       "         [16, 16, 16,  ...,  0,  0,  0],\n",
       "         ...,\n",
       "         [18, 19, 19,  ..., 25, 25, 25],\n",
       "         [21, 21, 21,  ...,  0,  0,  0],\n",
       "         [16, 16, 16,  ...,  0,  0,  0]]),\n",
       " 'user_id': tensor([[  93],\n",
       "         [ 132],\n",
       "         [ 257],\n",
       "         [ 305],\n",
       "         [ 519],\n",
       "         [ 611],\n",
       "         [ 623],\n",
       "         [ 834],\n",
       "         [ 841],\n",
       "         [ 909],\n",
       "         [ 969],\n",
       "         [1075],\n",
       "         [1162],\n",
       "         [1167],\n",
       "         [1579],\n",
       "         [1605]]),\n",
       " 'price_nan': tensor([[2],\n",
       "         [1],\n",
       "         [1],\n",
       "         [1],\n",
       "         [1],\n",
       "         [1],\n",
       "         [1],\n",
       "         [1],\n",
       "         [1],\n",
       "         [1],\n",
       "         [1],\n",
       "         [1],\n",
       "         [1],\n",
       "         [1],\n",
       "         [1],\n",
       "         [1]]),\n",
       " 'cpe_manufacturer_name_enc': tensor([[2],\n",
       "         [1],\n",
       "         [2],\n",
       "         [1],\n",
       "         [1],\n",
       "         [1],\n",
       "         [1],\n",
       "         [1],\n",
       "         [4],\n",
       "         [2],\n",
       "         [2],\n",
       "         [3],\n",
       "         [1],\n",
       "         [1],\n",
       "         [3],\n",
       "         [1]]),\n",
       " 'mask': tensor([[False, False, False,  ..., False, False, False],\n",
       "         [False, False, False,  ..., False, False, False],\n",
       "         [False, False, False,  ...,  True,  True,  True],\n",
       "         ...,\n",
       "         [False, False, False,  ..., False, False, False],\n",
       "         [False, False, False,  ...,  True,  True,  True],\n",
       "         [False, False, False,  ...,  True,  True,  True]])}"
      ]
     },
     "execution_count": 32,
     "metadata": {},
     "output_type": "execute_result"
    }
   ],
   "source": [
    "d"
   ]
  },
  {
   "cell_type": "code",
   "execution_count": 31,
   "id": "a4d56784-ccc9-4bfe-be2d-4ec9ae2265b3",
   "metadata": {},
   "outputs": [
    {
     "data": {
      "text/plain": [
       "[512, 512, 280, 145, 512, 512, 115, 512, 203, 97, 512, 512, 512, 512, 27, 244]"
      ]
     },
     "execution_count": 31,
     "metadata": {},
     "output_type": "execute_result"
    }
   ],
   "source": [
    "d['lengths']"
   ]
  },
  {
   "cell_type": "code",
   "execution_count": 16,
   "id": "c4075e92-917c-4e8e-896d-9e8169f76194",
   "metadata": {},
   "outputs": [
    {
     "data": {
      "text/plain": [
       "dict_keys(['lengths', 'user_id', 'part_of_day_enc', 'date_dow', 'region_name_enc', 'date_day', 'request_cnt', 'date_month', 'price_sc', 'cpe_model_os_type_enc', 'user_tr_count', 'cpe_manufacturer_name_enc', 'age', 'diff_date_m', 'price_nan', 'url_host_enc', 'city_name_enc', 'cpe_type_cd_enc', 'cpe_model_name_enc', 'is_male', 'mask'])"
      ]
     },
     "execution_count": 16,
     "metadata": {},
     "output_type": "execute_result"
    }
   ],
   "source": [
    "d.keys()"
   ]
  },
  {
   "cell_type": "code",
   "execution_count": 13,
   "id": "d43662f0-1e7e-447d-982b-5a7f8463596e",
   "metadata": {},
   "outputs": [
    {
     "data": {
      "text/plain": [
       "tensor([[3.],\n",
       "        [1.],\n",
       "        [1.],\n",
       "        [2.],\n",
       "        [0.],\n",
       "        [0.],\n",
       "        [1.],\n",
       "        [0.],\n",
       "        [3.],\n",
       "        [5.],\n",
       "        [1.],\n",
       "        [2.],\n",
       "        [1.],\n",
       "        [0.],\n",
       "        [2.],\n",
       "        [1.]], dtype=torch.float64)"
      ]
     },
     "execution_count": 13,
     "metadata": {},
     "output_type": "execute_result"
    }
   ],
   "source": [
    "d['age']"
   ]
  },
  {
   "cell_type": "markdown",
   "id": "f01e4541-ef1e-4e3a-8ec2-b86535765db4",
   "metadata": {
    "jp-MarkdownHeadingCollapsed": true,
    "tags": []
   },
   "source": [
    "# DEBUG model"
   ]
  },
  {
   "cell_type": "code",
   "execution_count": 17,
   "id": "d3092cd6-90e7-4054-9069-34224fb7f761",
   "metadata": {},
   "outputs": [
    {
     "data": {
      "text/plain": [
       "{'emb_params': {'part_of_day_enc': {'vocabulary_size': 5, 'dim': 2},\n",
       "  'request_cnt': {'vocabulary_size': 16, 'dim': 4},\n",
       "  'region_name_enc': {'vocabulary_size': 82, 'dim': 8},\n",
       "  'city_name_enc': {'vocabulary_size': 986, 'dim': 4},\n",
       "  'date_dow': {'vocabulary_size': 8, 'dim': 4},\n",
       "  'date_day': {'vocabulary_size': 32, 'dim': 4},\n",
       "  'date_month': {'vocabulary_size': 13, 'dim': 2},\n",
       "  'url_host_enc': {'vocabulary_size': 51, 'dim': 16}},\n",
       " 'cont_features': [],\n",
       " 'rnn': {'type': 'GRU',\n",
       "  'hidden_size': 128,\n",
       "  'rnn_num_layers': 2,\n",
       "  'rnn_bias': True,\n",
       "  'bidirectional': True},\n",
       " 'ffn': {'hid_linear': 128},\n",
       " 'seq_len': 10,\n",
       " 'batch_size': 128,\n",
       " 'num_workers': 0,\n",
       " 'device': 'cuda:0',\n",
       " 'lr': 0.001,\n",
       " 'weight_decay': 0.01,\n",
       " 'l1_weight': 0,\n",
       " 'step_size': 2,\n",
       " 'gamma': 0.5,\n",
       " 'fp16': False,\n",
       " 'clip_value': 1.5,\n",
       " 'batch_accum': 1,\n",
       " 'smooth_factor': None,\n",
       " 'early_stop': {'more_best': True, 'patience': 5},\n",
       " 'cont_features_const': ['price_sc', 'diff_date_m'],\n",
       " 'emb_params_const': {'cpe_manufacturer_name_enc': {'vocabulary_size': 38,\n",
       "   'dim': 4},\n",
       "  'cpe_model_name_enc': {'vocabulary_size': 600, 'dim': 64},\n",
       "  'cpe_type_cd_enc': {'vocabulary_size': 5, 'dim': 2},\n",
       "  'cpe_model_os_type_enc': {'vocabulary_size': 4, 'dim': 2},\n",
       "  'price_nan': {'vocabulary_size': 3, 'dim': 2}},\n",
       " 'target_col_bin': 'is_male',\n",
       " 'target_col_multyclass': 'age'}"
      ]
     },
     "execution_count": 17,
     "metadata": {},
     "output_type": "execute_result"
    }
   ],
   "source": [
    "params.__dict__"
   ]
  },
  {
   "cell_type": "code",
   "execution_count": 18,
   "id": "b3601126-4ebf-4290-bf70-fe90bd40f948",
   "metadata": {},
   "outputs": [
    {
     "name": "stdout",
     "output_type": "stream",
     "text": [
      "CPU times: user 8 µs, sys: 5 µs, total: 13 µs\n",
      "Wall time: 14.8 µs\n"
     ]
    }
   ],
   "source": [
    "%%time\n",
    "#rnn_types=['GRU', 'LSTM']\n",
    "#osses=['focal','bce']\n",
    "experiments = {f'exp_{i}':dict() for i in [4]}\n",
    "rnn_params = {'type':'GRU',\n",
    "             'hidden_size':128,\n",
    "              'rnn_num_layers':2,\n",
    "              'rnn_bias':False,\n",
    "              'bidirectional':True\n",
    "             }\n",
    "ffn_params ={\n",
    "    'hid_linear':128\n",
    "}\n",
    "params.save_checkpoints= False\n",
    "params.early_stop={\n",
    "    'more_best':True,\n",
    "    'patience':5\n",
    "}\n",
    "params.rnn =rnn_params\n",
    "params.ffn =ffn_params\n",
    "\n",
    "params.dropout=0\n",
    "#params.weight_decay = 0.00006\n",
    "\n",
    "#params.device='cuda:0'\n",
    "params.device='cpu'\n",
    "params.smooth_factor=None\n",
    "params.batch_accum =1\n",
    "params.pos_weight=1\n",
    "params.loss_choose ='focal'\n",
    "params.fp16= False\n",
    "params.seed =3111\n",
    "params.spatial_dropout =0.1"
   ]
  },
  {
   "cell_type": "code",
   "execution_count": 19,
   "id": "e1b84754-da1d-4b83-9832-44875baad9e1",
   "metadata": {},
   "outputs": [],
   "source": [
    "model = RNNClsReceipts(params)"
   ]
  },
  {
   "cell_type": "code",
   "execution_count": 20,
   "id": "4f55d728-bfbc-4d2c-9902-0189c233c17c",
   "metadata": {},
   "outputs": [],
   "source": [
    "#y = batch[target_col].flatten().float().to(device, non_blocking=True)\n",
    "\n",
    "#sample_weight = batch.get(\"sample_weight\")\n",
    "#if sample_weight is None:\n",
    "#    sample_weight = torch.ones_like(y)\n",
    "#sample_weight = sample_weight.flatten().to(device, non_blocking=True)\n",
    "batch=d\n",
    "#for feat in params.cont_features:\n",
    "    #batch[feat] = batch[feat].to(device, non_blocking=True)\n",
    "    #batch[feat]=\n",
    "#if params.__dict__.get(\"fasttesx_embeddings\", False):\n",
    "#    batch[\"fasttesx_embeddings\"] = batch[\"fasttesx_embeddings\"].to(\n",
    "#        device, non_blocking=True\n",
    "#    )\n",
    "for feat in list(params.emb_params.keys())+list(params.emb_params_const.keys()):\n",
    "    batch[feat] = batch[feat].long()\n",
    "#if batch.get(\"mask\") is not None:\n",
    "#    batch[\"mask\"] = batch[\"mask\"].to(device, non_blocking=True)"
   ]
  },
  {
   "cell_type": "code",
   "execution_count": 21,
   "id": "46262309-c9b2-482b-b9d6-a4b32bf39c12",
   "metadata": {},
   "outputs": [],
   "source": [
    "o1,o2 =model(batch)"
   ]
  },
  {
   "cell_type": "code",
   "execution_count": 22,
   "id": "2444b48d-caba-4270-a827-8f4ee1433d6a",
   "metadata": {},
   "outputs": [],
   "source": [
    "y_bi = batch[params.target_col_bin].flatten().long()\n",
    "y_mc = batch[params.target_col_multyclass].flatten().long()"
   ]
  },
  {
   "cell_type": "code",
   "execution_count": 23,
   "id": "455558f0-1f37-4d34-b346-8982ce93102a",
   "metadata": {},
   "outputs": [
    {
     "data": {
      "text/plain": [
       "tensor([3, 1, 1, 2, 0, 0, 1, 0, 3, 5, 1, 2, 1, 0, 2, 1])"
      ]
     },
     "execution_count": 23,
     "metadata": {},
     "output_type": "execute_result"
    }
   ],
   "source": [
    "y_mc"
   ]
  },
  {
   "cell_type": "code",
   "execution_count": 24,
   "id": "a84d535f-05e9-4f75-9799-6306077b6cf7",
   "metadata": {},
   "outputs": [],
   "source": [
    "crit_mc = torch.nn.CrossEntropyLoss()\n",
    "crit_bi =torch.nn.BCEWithLogitsLoss()"
   ]
  },
  {
   "cell_type": "code",
   "execution_count": 26,
   "id": "8ed8e066-5e67-4915-9dc6-0c5e88f71fd1",
   "metadata": {},
   "outputs": [
    {
     "data": {
      "text/plain": [
       "tensor([[ 0.0838],\n",
       "        [ 0.0985],\n",
       "        [ 0.1515],\n",
       "        [ 0.1452],\n",
       "        [ 0.1681],\n",
       "        [ 0.0655],\n",
       "        [ 0.0139],\n",
       "        [ 0.1829],\n",
       "        [ 0.0647],\n",
       "        [-0.0529],\n",
       "        [ 0.1944],\n",
       "        [ 0.1217],\n",
       "        [-0.0226],\n",
       "        [ 0.0890],\n",
       "        [ 0.1705],\n",
       "        [-0.0067]], grad_fn=<AddmmBackward0>)"
      ]
     },
     "execution_count": 26,
     "metadata": {},
     "output_type": "execute_result"
    }
   ],
   "source": [
    "o1"
   ]
  },
  {
   "cell_type": "code",
   "execution_count": 28,
   "id": "81aa7033-bcd6-475e-8ab1-c560ae97d9cb",
   "metadata": {},
   "outputs": [
    {
     "data": {
      "text/plain": [
       "tensor(0.7048, grad_fn=<BinaryCrossEntropyWithLogitsBackward0>)"
      ]
     },
     "execution_count": 28,
     "metadata": {},
     "output_type": "execute_result"
    }
   ],
   "source": [
    "crit_bi(o1.squeeze(), y_bi.float())"
   ]
  },
  {
   "cell_type": "code",
   "execution_count": 85,
   "id": "a71816c9-6e51-4a3c-be45-86ec47678b3b",
   "metadata": {},
   "outputs": [
    {
     "data": {
      "text/plain": [
       "tensor(1.8333, grad_fn=<NllLossBackward0>)"
      ]
     },
     "execution_count": 85,
     "metadata": {},
     "output_type": "execute_result"
    }
   ],
   "source": [
    "crit_mc(o2, y_mc)"
   ]
  },
  {
   "cell_type": "code",
   "execution_count": 30,
   "id": "9a6de127-27a4-4cf3-a838-ba9b875ee33e",
   "metadata": {},
   "outputs": [],
   "source": [
    "sm =torch.nn.Softmax(dim=1)\n",
    "sd = torch.nn.Sigmoid()"
   ]
  },
  {
   "cell_type": "code",
   "execution_count": 35,
   "id": "be5a3f5b-bd69-4a3b-917c-8e134ef03a6d",
   "metadata": {},
   "outputs": [],
   "source": [
    "from sklearn.metrics import f1_score, roc_auc_score\n",
    "\n",
    "\n",
    "def get_metrics(true_sex, pred_sex, true_age, pred_age):\n",
    "    sex_gini = (2*roc_auc_score(true_sex, pred_sex))-1\n",
    "    age_f1 = f1_score(true_age, pred_age, average='weighted')\n",
    "    val_score = 2*age_f1+sex_gini\n",
    "    return sex_gini, age_f1, val_score"
   ]
  },
  {
   "cell_type": "code",
   "execution_count": 46,
   "id": "d8c93a19-9577-4d2e-8357-045cbb4105fe",
   "metadata": {},
   "outputs": [
    {
     "data": {
      "text/plain": [
       "False"
      ]
     },
     "execution_count": 46,
     "metadata": {},
     "output_type": "execute_result"
    }
   ],
   "source": [
    "(params.device!=\"cpu\")"
   ]
  },
  {
   "cell_type": "code",
   "execution_count": 38,
   "id": "62469fe4-4983-4907-b236-06ad42a41b68",
   "metadata": {},
   "outputs": [
    {
     "data": {
      "text/plain": [
       "(0.06666666666666665, 0.09375, 0.25416666666666665)"
      ]
     },
     "execution_count": 38,
     "metadata": {},
     "output_type": "execute_result"
    }
   ],
   "source": [
    "get_metrics(y_bi, sd(o1).squeeze().tolist(), y_mc, sm(o2).argmax(dim=1).tolist())"
   ]
  },
  {
   "cell_type": "code",
   "execution_count": 36,
   "id": "f635fb4a-5422-45c1-b4b8-23d6adacf06d",
   "metadata": {},
   "outputs": [
    {
     "data": {
      "text/plain": [
       "0.5333333333333333"
      ]
     },
     "execution_count": 36,
     "metadata": {},
     "output_type": "execute_result"
    }
   ],
   "source": [
    "roc_auc_score(y_bi,sd(o1).squeeze().tolist())"
   ]
  },
  {
   "cell_type": "code",
   "execution_count": 43,
   "id": "602ef125-4151-4dea-9d69-f7b15dae7d82",
   "metadata": {},
   "outputs": [
    {
     "data": {
      "text/plain": [
       "tensor([0.1192])"
      ]
     },
     "execution_count": 43,
     "metadata": {},
     "output_type": "execute_result"
    }
   ],
   "source": [
    "sd(torch.tensor([-]))"
   ]
  },
  {
   "cell_type": "code",
   "execution_count": 102,
   "id": "ecfcdb3c-40a6-422a-b23c-58182ea24203",
   "metadata": {},
   "outputs": [
    {
     "data": {
      "text/plain": [
       "[[0.49170801043510437, 0.5082920789718628],\n",
       " [0.5065975785255432, 0.49340251088142395],\n",
       " [0.5291735529899597, 0.47082653641700745],\n",
       " [0.5006413459777832, 0.4993586540222168],\n",
       " [0.4736834168434143, 0.5263165831565857],\n",
       " [0.5002886652946472, 0.4997113049030304],\n",
       " [0.5653490424156189, 0.43465104699134827],\n",
       " [0.5458074808120728, 0.45419248938560486],\n",
       " [0.4708710014820099, 0.529128909111023],\n",
       " [0.4589308798313141, 0.5410690307617188],\n",
       " [0.48330774903297424, 0.5166922211647034],\n",
       " [0.45466673374176025, 0.5453333258628845],\n",
       " [0.5558969974517822, 0.4441030025482178],\n",
       " [0.5131338238716125, 0.48686620593070984],\n",
       " [0.5540385842323303, 0.44596147537231445],\n",
       " [0.5158259272575378, 0.48417410254478455]]"
      ]
     },
     "execution_count": 102,
     "metadata": {},
     "output_type": "execute_result"
    }
   ],
   "source": [
    "sm(o1).tolist()"
   ]
  },
  {
   "cell_type": "code",
   "execution_count": 97,
   "id": "27699a53-1e9e-40bb-8616-814e8675bfcd",
   "metadata": {},
   "outputs": [
    {
     "data": {
      "text/plain": [
       "tensor([3, 5, 5, 4, 3, 5, 4, 5, 5, 5, 3, 5, 5, 5, 4, 5])"
      ]
     },
     "execution_count": 97,
     "metadata": {},
     "output_type": "execute_result"
    }
   ],
   "source": [
    "sm(o2).argmax(dim=1)"
   ]
  },
  {
   "cell_type": "code",
   "execution_count": null,
   "id": "a6326953-aea8-4d31-8c7a-fd1e32ce091a",
   "metadata": {},
   "outputs": [],
   "source": [
    "d['price_sc'].un"
   ]
  },
  {
   "cell_type": "code",
   "execution_count": 54,
   "id": "793f2706-e946-4167-b77f-6dbb7f05991e",
   "metadata": {},
   "outputs": [
    {
     "data": {
      "text/plain": [
       "tensor([[ 0.2201,  0.2967,  0.2201,  0.2967, -0.6951],\n",
       "        [-0.1299,  2.1604, -0.1299,  2.1604,  0.6288],\n",
       "        [-0.1299,  2.1604, -0.1299,  2.1604, -0.6168],\n",
       "        [-0.1299,  2.1604, -0.1299,  2.1604, -0.0754],\n",
       "        [-0.1299,  2.1604, -0.1299,  2.1604,  0.3542],\n",
       "        [-0.1299,  2.1604, -0.1299,  2.1604,  0.4503],\n",
       "        [-0.1299,  2.1604, -0.1299,  2.1604,  2.0274],\n",
       "        [-0.1299,  2.1604, -0.1299,  2.1604,  3.0389],\n",
       "        [-0.1299,  2.1604, -0.1299,  2.1604, -0.7308],\n",
       "        [-0.1299,  2.1604, -0.1299,  2.1604, -0.8860],\n",
       "        [-0.1299,  2.1604, -0.1299,  2.1604, -0.0368],\n",
       "        [-0.1299,  2.1604, -0.1299,  2.1604, -0.5000],\n",
       "        [-0.1299,  2.1604, -0.1299,  2.1604,  1.3461],\n",
       "        [-0.1299,  2.1604, -0.1299,  2.1604,  0.4846],\n",
       "        [-0.1299,  2.1604, -0.1299,  2.1604, -0.5772],\n",
       "        [-0.1299,  2.1604, -0.1299,  2.1604,  0.8707]], grad_fn=<CatBackward0>)"
      ]
     },
     "execution_count": 54,
     "metadata": {},
     "output_type": "execute_result"
    }
   ],
   "source": [
    "torch.cat([k(d['price_nan'].squeeze()),k(d['price_nan'].squeeze()),d['price_sc']],dim=-1)"
   ]
  },
  {
   "cell_type": "markdown",
   "id": "598bb494-a8fa-4ddf-ba6e-c07f2b05f359",
   "metadata": {
    "jp-MarkdownHeadingCollapsed": true,
    "tags": []
   },
   "source": [
    "# DEBUG ENGINE"
   ]
  },
  {
   "cell_type": "code",
   "execution_count": 76,
   "id": "bb4a3f24-4b2d-4e15-85ce-ed0662f518ec",
   "metadata": {},
   "outputs": [],
   "source": [
    "params.seq_len=700"
   ]
  },
  {
   "cell_type": "code",
   "execution_count": 100,
   "id": "28ef75df-bdf0-454a-be27-c4f2696672bb",
   "metadata": {},
   "outputs": [],
   "source": [
    "train_path = '/home/evorsin/DS/mts_23/data/CV/debug/'\n",
    "train_loader = get_dataloader(train_path,\n",
    "                                      params,\n",
    "                                      batch_size=256,\n",
    "                              num_workers=2,\n",
    "                                      fasttext_emb=None, \n",
    "                              shuffle=False, resample_n=None, mapper_conf=mapper_conf)\n",
    "val_loader = get_dataloader(train_path,\n",
    "                                      params,\n",
    "                                      batch_size=256,\n",
    "                              num_workers=2,\n",
    "                                      fasttext_emb=None, shuffle=False, resample_n=None,\n",
    "                            mapper_conf=mapper_conf)"
   ]
  },
  {
   "cell_type": "code",
   "execution_count": 101,
   "id": "35f75d9f-153b-488e-9227-6bb4dc0d7cc1",
   "metadata": {},
   "outputs": [],
   "source": [
    "ch = next(iter(val_loader))"
   ]
  },
  {
   "cell_type": "code",
   "execution_count": 66,
   "id": "a77eff3c-e78d-41db-b0dd-8dc88c47f310",
   "metadata": {},
   "outputs": [],
   "source": [
    "del params.gamma"
   ]
  },
  {
   "cell_type": "code",
   "execution_count": 60,
   "id": "2d978cd3-edab-4c84-b190-d49d7873e43c",
   "metadata": {},
   "outputs": [
    {
     "data": {
      "text/plain": [
       "{'emb_params': {'part_of_day_enc': {'vocabulary_size': 5, 'dim': 2},\n",
       "  'request_cnt': {'vocabulary_size': 16, 'dim': 4},\n",
       "  'region_name_enc': {'vocabulary_size': 82, 'dim': 8},\n",
       "  'city_name_enc': {'vocabulary_size': 986, 'dim': 4},\n",
       "  'date_dow': {'vocabulary_size': 8, 'dim': 4},\n",
       "  'date_day': {'vocabulary_size': 32, 'dim': 4},\n",
       "  'date_month': {'vocabulary_size': 13, 'dim': 2},\n",
       "  'url_host_enc': {'vocabulary_size': 51, 'dim': 16}},\n",
       " 'cont_features': [],\n",
       " 'rnn': {'type': 'GRU',\n",
       "  'hidden_size': 128,\n",
       "  'rnn_num_layers': 2,\n",
       "  'rnn_bias': False,\n",
       "  'bidirectional': True},\n",
       " 'ffn': {'hid_linear': 128},\n",
       " 'seq_len': 700,\n",
       " 'batch_size': 128,\n",
       " 'num_workers': 0,\n",
       " 'device': 'cpu',\n",
       " 'lr': 0.001,\n",
       " 'weight_decay': 0.01,\n",
       " 'l1_weight': 0,\n",
       " 'step_size': 2,\n",
       " 'gamma': 0.5,\n",
       " 'fp16': False,\n",
       " 'clip_value': 1.5,\n",
       " 'batch_accum': 1,\n",
       " 'smooth_factor': None,\n",
       " 'early_stop': {'more_best': True, 'patience': 5},\n",
       " 'cont_features_const': ['price_sc', 'diff_date_m'],\n",
       " 'emb_params_const': {'cpe_manufacturer_name_enc': {'vocabulary_size': 38,\n",
       "   'dim': 4},\n",
       "  'cpe_model_name_enc': {'vocabulary_size': 600, 'dim': 64},\n",
       "  'cpe_type_cd_enc': {'vocabulary_size': 5, 'dim': 2},\n",
       "  'cpe_model_os_type_enc': {'vocabulary_size': 4, 'dim': 2},\n",
       "  'price_nan': {'vocabulary_size': 3, 'dim': 2}},\n",
       " 'target_col_bin': 'is_male',\n",
       " 'target_col_multyclass': 'age',\n",
       " 'save_checkpoints': False,\n",
       " 'dropout': 0,\n",
       " 'pos_weight': 1,\n",
       " 'seed': 3111,\n",
       " 'spatial_dropout': 0.1}"
      ]
     },
     "execution_count": 60,
     "metadata": {},
     "output_type": "execute_result"
    }
   ],
   "source": [
    "params.__dict__"
   ]
  },
  {
   "cell_type": "code",
   "execution_count": 102,
   "id": "6e41ed79-e000-499f-9f43-eb1398208254",
   "metadata": {},
   "outputs": [
    {
     "name": "stderr",
     "output_type": "stream",
     "text": [
      " 10%|████▏                                     | 42/420 [00:10<01:37,  3.86it/s]\n"
     ]
    },
    {
     "name": "stdout",
     "output_type": "stream",
     "text": [
      "Epoch 1 - loss: 2.3865304787953696, loss_bi: 0.6915637368247622, loss_mc: 1.69496674764724, curr_LR: 0.0001\n"
     ]
    },
    {
     "name": "stderr",
     "output_type": "stream",
     "text": [
      " 40%|████████████████▊                         | 42/105 [00:04<00:06,  9.28it/s]\n"
     ]
    },
    {
     "name": "stdout",
     "output_type": "stream",
     "text": [
      "Epoch 1 - score: 0.632362978159601, gini: 0.13891311069882484, f1: 0.24672493373038806\n"
     ]
    },
    {
     "name": "stderr",
     "output_type": "stream",
     "text": [
      " 10%|████▏                                     | 42/420 [00:10<01:34,  3.99it/s]\n"
     ]
    },
    {
     "name": "stdout",
     "output_type": "stream",
     "text": [
      "Epoch 2 - loss: 2.2699032567796253, loss_bi: 0.6871151995091211, loss_mc: 1.5827880643662953, curr_LR: 0.0001\n"
     ]
    },
    {
     "name": "stderr",
     "output_type": "stream",
     "text": [
      " 40%|████████████████▊                         | 42/105 [00:04<00:06, 10.14it/s]\n"
     ]
    },
    {
     "name": "stdout",
     "output_type": "stream",
     "text": [
      "Epoch 2 - score: 0.7255308939836428, gini: 0.1720519624340222, f1: 0.2767394657748103\n"
     ]
    },
    {
     "name": "stderr",
     "output_type": "stream",
     "text": [
      " 10%|████▏                                     | 42/420 [00:10<01:35,  3.97it/s]\n"
     ]
    },
    {
     "name": "stdout",
     "output_type": "stream",
     "text": [
      "Epoch 3 - loss: 2.2110334748313543, loss_bi: 0.6842010702405658, loss_mc: 1.5268323903992063, curr_LR: 0.0001\n"
     ]
    },
    {
     "name": "stderr",
     "output_type": "stream",
     "text": [
      " 40%|████████████████▊                         | 42/105 [00:04<00:06, 10.08it/s]\n"
     ]
    },
    {
     "name": "stdout",
     "output_type": "stream",
     "text": [
      "Epoch 3 - score: 0.793219933641303, gini: 0.19972239001308756, f1: 0.29674877181410775\n"
     ]
    },
    {
     "name": "stderr",
     "output_type": "stream",
     "text": [
      " 10%|████▏                                     | 42/420 [00:10<01:35,  3.96it/s]\n"
     ]
    },
    {
     "name": "stdout",
     "output_type": "stream",
     "text": [
      "Epoch 4 - loss: 2.169530329250154, loss_bi: 0.6812308671928587, loss_mc: 1.488299460638137, curr_LR: 0.0001\n"
     ]
    },
    {
     "name": "stderr",
     "output_type": "stream",
     "text": [
      " 40%|████████████████▊                         | 42/105 [00:04<00:06, 10.24it/s]\n"
     ]
    },
    {
     "name": "stdout",
     "output_type": "stream",
     "text": [
      "Epoch 4 - score: 0.8466014009552185, gini: 0.22454135565431255, f1: 0.311030022650453\n"
     ]
    },
    {
     "name": "stderr",
     "output_type": "stream",
     "text": [
      " 10%|████▏                                     | 42/420 [00:10<01:35,  3.96it/s]\n"
     ]
    },
    {
     "name": "stdout",
     "output_type": "stream",
     "text": [
      "Epoch 5 - loss: 2.1422119140625, loss_bi: 0.6787586197966621, loss_mc: 1.4634532956849962, curr_LR: 0.0001\n"
     ]
    },
    {
     "name": "stderr",
     "output_type": "stream",
     "text": [
      " 40%|████████████████▊                         | 42/105 [00:04<00:06,  9.89it/s]\n"
     ]
    },
    {
     "name": "stdout",
     "output_type": "stream",
     "text": [
      "Epoch 5 - score: 0.8868875310020427, gini: 0.2493372021112883, f1: 0.3187751644453772\n"
     ]
    },
    {
     "name": "stderr",
     "output_type": "stream",
     "text": [
      " 10%|████▏                                     | 42/420 [00:10<01:35,  3.96it/s]\n"
     ]
    },
    {
     "name": "stdout",
     "output_type": "stream",
     "text": [
      "Epoch 6 - loss: 2.1187875157310847, loss_bi: 0.674920936425527, loss_mc: 1.4438665878205073, curr_LR: 0.0001\n"
     ]
    },
    {
     "name": "stderr",
     "output_type": "stream",
     "text": [
      " 40%|████████████████▊                         | 42/105 [00:04<00:06, 10.20it/s]\n"
     ]
    },
    {
     "name": "stdout",
     "output_type": "stream",
     "text": [
      "Epoch 6 - score: 0.9396944876271309, gini: 0.2790555291884196, f1: 0.33031947921935567\n"
     ]
    },
    {
     "name": "stderr",
     "output_type": "stream",
     "text": [
      " 10%|████▏                                     | 42/420 [00:10<01:35,  3.94it/s]\n"
     ]
    },
    {
     "name": "stdout",
     "output_type": "stream",
     "text": [
      "Epoch 7 - loss: 2.103800838901883, loss_bi: 0.671181667418707, loss_mc: 1.4326191714831762, curr_LR: 0.0001\n"
     ]
    },
    {
     "name": "stderr",
     "output_type": "stream",
     "text": [
      " 40%|████████████████▊                         | 42/105 [00:04<00:06, 10.16it/s]\n"
     ]
    },
    {
     "name": "stdout",
     "output_type": "stream",
     "text": [
      "Epoch 7 - score: 0.9832338548707764, gini: 0.2994471171132298, f1: 0.3418933688787733\n"
     ]
    },
    {
     "name": "stderr",
     "output_type": "stream",
     "text": [
      " 10%|████▏                                     | 42/420 [00:10<01:36,  3.91it/s]\n"
     ]
    },
    {
     "name": "stdout",
     "output_type": "stream",
     "text": [
      "Epoch 8 - loss: 2.088175804842086, loss_bi: 0.6661298544633956, loss_mc: 1.4220459404445829, curr_LR: 0.0001\n"
     ]
    },
    {
     "name": "stderr",
     "output_type": "stream",
     "text": [
      " 40%|████████████████▊                         | 42/105 [00:04<00:06, 10.00it/s]\n"
     ]
    },
    {
     "name": "stdout",
     "output_type": "stream",
     "text": [
      "Epoch 8 - score: 1.0202581801598407, gini: 0.32213246609425994, f1: 0.3490628570327904\n"
     ]
    },
    {
     "name": "stderr",
     "output_type": "stream",
     "text": [
      " 10%|████▏                                     | 42/420 [00:10<01:35,  3.96it/s]\n"
     ]
    },
    {
     "name": "stdout",
     "output_type": "stream",
     "text": [
      "Epoch 9 - loss: 2.075678059032985, loss_bi: 0.6630839833191463, loss_mc: 1.4125940742946805, curr_LR: 0.0001\n"
     ]
    },
    {
     "name": "stderr",
     "output_type": "stream",
     "text": [
      " 40%|████████████████▊                         | 42/105 [00:04<00:06, 10.01it/s]"
     ]
    },
    {
     "name": "stdout",
     "output_type": "stream",
     "text": [
      "Epoch 9 - score: 1.0665060098453951, gini: 0.34391027023917387, f1: 0.36129786980311057\n",
      "CPU times: user 1min 31s, sys: 22 s, total: 1min 53s\n",
      "Wall time: 2min 13s\n"
     ]
    },
    {
     "name": "stderr",
     "output_type": "stream",
     "text": [
      "\n"
     ]
    }
   ],
   "source": [
    "%%time\n",
    "#rnn_types=['GRU', 'LSTM']\n",
    "#osses=['focal','bce']\n",
    "experiments = {f'exp_{i}':dict() for i in [4]}\n",
    "rnn_params = {'type':'GRU',\n",
    "             'hidden_size':128,\n",
    "              'rnn_num_layers':2,\n",
    "              'rnn_bias':False,\n",
    "              'bidirectional':True\n",
    "             }\n",
    "ffn_params ={\n",
    "    'hid_linear':128\n",
    "}\n",
    "params.save_checkpoints= False\n",
    "params.early_stop={\n",
    "    'more_best':True,\n",
    "    'patience':5\n",
    "}\n",
    "params.rnn =rnn_params\n",
    "params.ffn =ffn_params\n",
    "\n",
    "params.dropout=0\n",
    "#params.weight_decay = 0.00006\n",
    "\n",
    "params.device='cuda:0'\n",
    "#params.device='cpu'\n",
    "device = torch.device(params.device)\n",
    "params.batch_accum =1\n",
    "params.clip_value =2\n",
    "params.fp16= False\n",
    "params.seed =3111\n",
    "params.spatial_dropout =0.1\n",
    "\n",
    "model = RNNClsReceipts(params)\n",
    "model.to(device)\n",
    "\n",
    "params.lr = 0.0001\n",
    "params.weight_decay=0.01\n",
    "optimizer = torch.optim.AdamW(model.parameters(),\n",
    "                              lr=params.lr, weight_decay=params.weight_decay)\n",
    "scaler = torch.cuda.amp.GradScaler()\n",
    "\n",
    "for epoch in range(1, 10):\n",
    "    loss, loss_bi, loss_mc = train_fn(model=model, dataloader=train_loader,\n",
    "                          optimizer=optimizer,scaler=scaler, \n",
    "                                  params=params,device=device, total=420, scheduler=None)\n",
    "    curr_lr = optimizer.param_groups[0]['lr']\n",
    "    print(f'Epoch {epoch} - loss: {loss}, loss_bi: {loss_bi}, loss_mc: {loss_mc}, curr_LR: {curr_lr}')\n",
    "    \n",
    "    score, gini, f1  = val_fn(model=model, dataloader=val_loader, params=params,device=device, total=105)\n",
    "    print(f'Epoch {epoch} - score: {score}, gini: {gini}, f1: {f1}')       "
   ]
  },
  {
   "cell_type": "markdown",
   "id": "062243b2-d710-4121-9e4e-10ef92e7623c",
   "metadata": {},
   "source": [
    "# Тренировка"
   ]
  },
  {
   "cell_type": "code",
   "execution_count": 11,
   "id": "b745f7d8-6834-4f75-bd8f-941d6ea38068",
   "metadata": {},
   "outputs": [],
   "source": [
    "train_path = '/home/evorsin/DS/mts_23/data/CV/train/fold_1'\n",
    "val_path='/home/evorsin/DS/mts_23/data/CV/fold_1'\n",
    "train_loader = get_dataloader(train_path,\n",
    "                                      params,\n",
    "                                      batch_size=128,\n",
    "                              num_workers=4,\n",
    "                                      fasttext_emb=None, \n",
    "                              shuffle=True, resample_n=None, mapper_conf=mapper_conf)\n",
    "val_loader = get_dataloader(val_path,\n",
    "                                      params,\n",
    "                                      batch_size=128,\n",
    "                              num_workers=2,\n",
    "                                      fasttext_emb=None, shuffle=False, resample_n=None,\n",
    "                            mapper_conf=mapper_conf)"
   ]
  },
  {
   "cell_type": "code",
   "execution_count": 12,
   "id": "23025bbd-b78c-479b-9eb8-a8a12b04a1c7",
   "metadata": {},
   "outputs": [],
   "source": [
    "import torch_optimizer as optim"
   ]
  },
  {
   "cell_type": "code",
   "execution_count": 13,
   "id": "5bd922ce-4749-409e-9597-c2ba8aa8832b",
   "metadata": {},
   "outputs": [
    {
     "name": "stdout",
     "output_type": "stream",
     "text": [
      "Epoch 1 - start <<<<<<<<<<<<<<<>>>>>>>>>>>>>>>>>>>>>>>\n"
     ]
    },
    {
     "name": "stderr",
     "output_type": "stream",
     "text": [
      "1649it [03:26,  8.00it/s]                                                       \n"
     ]
    },
    {
     "name": "stdout",
     "output_type": "stream",
     "text": [
      "Epoch 1 - loss: 1.9944160115436904, loss_bi: 0.6021539453234074, loss_mc: 1.3922620659672613, curr_LR: 0.001\n"
     ]
    },
    {
     "name": "stderr",
     "output_type": "stream",
     "text": [
      "412it [00:22, 18.71it/s]                                                        \n"
     ]
    },
    {
     "name": "stdout",
     "output_type": "stream",
     "text": [
      "Epoch 1 - score: 1.4285111395707393, gini: 0.6031766347228305, f1: 0.4126672524239544\n",
      "----------- EPOCH 1 - NEW BEST METRIC: 1.4285 ----------------\n",
      "Epoch 2 - start <<<<<<<<<<<<<<<>>>>>>>>>>>>>>>>>>>>>>>\n"
     ]
    },
    {
     "name": "stderr",
     "output_type": "stream",
     "text": [
      "591it [01:14,  7.94it/s]                                                        \n"
     ]
    },
    {
     "ename": "KeyboardInterrupt",
     "evalue": "",
     "output_type": "error",
     "traceback": [
      "\u001b[0;31m---------------------------------------------------------------------------\u001b[0m",
      "\u001b[0;31mKeyboardInterrupt\u001b[0m                         Traceback (most recent call last)",
      "File \u001b[0;32m<timed exec>:70\u001b[0m, in \u001b[0;36m<module>\u001b[0;34m\u001b[0m\n",
      "File \u001b[0;32m~/DS/pqt_loader/sequence_dataloader/examples/mts_23/engine.py:78\u001b[0m, in \u001b[0;36mtrain_fn\u001b[0;34m(model, dataloader, optimizer, scaler, params, device, total, scheduler)\u001b[0m\n\u001b[1;32m     73\u001b[0m     batch[\u001b[38;5;124m\"\u001b[39m\u001b[38;5;124mmask\u001b[39m\u001b[38;5;124m\"\u001b[39m] \u001b[38;5;241m=\u001b[39m batch[\u001b[38;5;124m\"\u001b[39m\u001b[38;5;124mmask\u001b[39m\u001b[38;5;124m\"\u001b[39m]\u001b[38;5;241m.\u001b[39mto(\n\u001b[1;32m     74\u001b[0m         device, non_blocking\u001b[38;5;241m=\u001b[39m(params\u001b[38;5;241m.\u001b[39mdevice \u001b[38;5;241m!=\u001b[39m \u001b[38;5;124m\"\u001b[39m\u001b[38;5;124mcpu\u001b[39m\u001b[38;5;124m\"\u001b[39m)\n\u001b[1;32m     75\u001b[0m     )\n\u001b[1;32m     77\u001b[0m \u001b[38;5;28;01mwith\u001b[39;00m torch\u001b[38;5;241m.\u001b[39mcuda\u001b[38;5;241m.\u001b[39mamp\u001b[38;5;241m.\u001b[39mautocast(enabled\u001b[38;5;241m=\u001b[39mparams\u001b[38;5;241m.\u001b[39mfp16):\n\u001b[0;32m---> 78\u001b[0m     logit_bi, logit_mc \u001b[38;5;241m=\u001b[39m \u001b[43mmodel\u001b[49m\u001b[43m(\u001b[49m\u001b[43mbatch\u001b[49m\u001b[43m)\u001b[49m\n\u001b[1;32m     79\u001b[0m     loss_bi \u001b[38;5;241m=\u001b[39m crit_bi(logit_bi\u001b[38;5;241m.\u001b[39msqueeze(), y_bi)\n\u001b[1;32m     80\u001b[0m     loss_mc \u001b[38;5;241m=\u001b[39m crit_mc(logit_mc, y_mc)\n",
      "File \u001b[0;32m~/miniconda3/lib/python3.8/site-packages/torch/nn/modules/module.py:1501\u001b[0m, in \u001b[0;36mModule._call_impl\u001b[0;34m(self, *args, **kwargs)\u001b[0m\n\u001b[1;32m   1496\u001b[0m \u001b[38;5;66;03m# If we don't have any hooks, we want to skip the rest of the logic in\u001b[39;00m\n\u001b[1;32m   1497\u001b[0m \u001b[38;5;66;03m# this function, and just call forward.\u001b[39;00m\n\u001b[1;32m   1498\u001b[0m \u001b[38;5;28;01mif\u001b[39;00m \u001b[38;5;129;01mnot\u001b[39;00m (\u001b[38;5;28mself\u001b[39m\u001b[38;5;241m.\u001b[39m_backward_hooks \u001b[38;5;129;01mor\u001b[39;00m \u001b[38;5;28mself\u001b[39m\u001b[38;5;241m.\u001b[39m_backward_pre_hooks \u001b[38;5;129;01mor\u001b[39;00m \u001b[38;5;28mself\u001b[39m\u001b[38;5;241m.\u001b[39m_forward_hooks \u001b[38;5;129;01mor\u001b[39;00m \u001b[38;5;28mself\u001b[39m\u001b[38;5;241m.\u001b[39m_forward_pre_hooks\n\u001b[1;32m   1499\u001b[0m         \u001b[38;5;129;01mor\u001b[39;00m _global_backward_pre_hooks \u001b[38;5;129;01mor\u001b[39;00m _global_backward_hooks\n\u001b[1;32m   1500\u001b[0m         \u001b[38;5;129;01mor\u001b[39;00m _global_forward_hooks \u001b[38;5;129;01mor\u001b[39;00m _global_forward_pre_hooks):\n\u001b[0;32m-> 1501\u001b[0m     \u001b[38;5;28;01mreturn\u001b[39;00m \u001b[43mforward_call\u001b[49m\u001b[43m(\u001b[49m\u001b[38;5;241;43m*\u001b[39;49m\u001b[43margs\u001b[49m\u001b[43m,\u001b[49m\u001b[43m \u001b[49m\u001b[38;5;241;43m*\u001b[39;49m\u001b[38;5;241;43m*\u001b[39;49m\u001b[43mkwargs\u001b[49m\u001b[43m)\u001b[49m\n\u001b[1;32m   1502\u001b[0m \u001b[38;5;66;03m# Do not call functions when jit is used\u001b[39;00m\n\u001b[1;32m   1503\u001b[0m full_backward_hooks, non_full_backward_hooks \u001b[38;5;241m=\u001b[39m [], []\n",
      "File \u001b[0;32m~/DS/pqt_loader/sequence_dataloader/examples/mts_23/model.py:133\u001b[0m, in \u001b[0;36mRNNClsReceipts.forward\u001b[0;34m(self, batch)\u001b[0m\n\u001b[1;32m    127\u001b[0m stacked \u001b[38;5;241m=\u001b[39m stacked\u001b[38;5;241m.\u001b[39msqueeze(\u001b[38;5;241m3\u001b[39m)\u001b[38;5;241m.\u001b[39mpermute(\u001b[38;5;241m0\u001b[39m, \u001b[38;5;241m2\u001b[39m, \u001b[38;5;241m1\u001b[39m)\n\u001b[1;32m    129\u001b[0m stacked \u001b[38;5;241m=\u001b[39m pack_padded_sequence(\n\u001b[1;32m    130\u001b[0m     stacked, lengths\u001b[38;5;241m=\u001b[39mbatch[\u001b[38;5;124m\"\u001b[39m\u001b[38;5;124mlengths\u001b[39m\u001b[38;5;124m\"\u001b[39m], batch_first\u001b[38;5;241m=\u001b[39m\u001b[38;5;28;01mTrue\u001b[39;00m, enforce_sorted\u001b[38;5;241m=\u001b[39m\u001b[38;5;28;01mFalse\u001b[39;00m\n\u001b[1;32m    131\u001b[0m )\n\u001b[0;32m--> 133\u001b[0m rnn_d, _ \u001b[38;5;241m=\u001b[39m \u001b[38;5;28;43mself\u001b[39;49m\u001b[38;5;241;43m.\u001b[39;49m\u001b[43mrnn\u001b[49m\u001b[43m(\u001b[49m\u001b[43mstacked\u001b[49m\u001b[43m)\u001b[49m\n\u001b[1;32m    134\u001b[0m rnn_d, _ \u001b[38;5;241m=\u001b[39m pad_packed_sequence(\n\u001b[1;32m    135\u001b[0m     rnn_d, batch_first\u001b[38;5;241m=\u001b[39m\u001b[38;5;28;01mTrue\u001b[39;00m, total_length\u001b[38;5;241m=\u001b[39mparams\u001b[38;5;241m.\u001b[39mseq_len\n\u001b[1;32m    136\u001b[0m )\n\u001b[1;32m    138\u001b[0m max_pool \u001b[38;5;241m=\u001b[39m rnn_d\u001b[38;5;241m.\u001b[39mmax(\u001b[38;5;241m1\u001b[39m)[\u001b[38;5;241m0\u001b[39m]\n",
      "File \u001b[0;32m~/miniconda3/lib/python3.8/site-packages/torch/nn/modules/module.py:1501\u001b[0m, in \u001b[0;36mModule._call_impl\u001b[0;34m(self, *args, **kwargs)\u001b[0m\n\u001b[1;32m   1496\u001b[0m \u001b[38;5;66;03m# If we don't have any hooks, we want to skip the rest of the logic in\u001b[39;00m\n\u001b[1;32m   1497\u001b[0m \u001b[38;5;66;03m# this function, and just call forward.\u001b[39;00m\n\u001b[1;32m   1498\u001b[0m \u001b[38;5;28;01mif\u001b[39;00m \u001b[38;5;129;01mnot\u001b[39;00m (\u001b[38;5;28mself\u001b[39m\u001b[38;5;241m.\u001b[39m_backward_hooks \u001b[38;5;129;01mor\u001b[39;00m \u001b[38;5;28mself\u001b[39m\u001b[38;5;241m.\u001b[39m_backward_pre_hooks \u001b[38;5;129;01mor\u001b[39;00m \u001b[38;5;28mself\u001b[39m\u001b[38;5;241m.\u001b[39m_forward_hooks \u001b[38;5;129;01mor\u001b[39;00m \u001b[38;5;28mself\u001b[39m\u001b[38;5;241m.\u001b[39m_forward_pre_hooks\n\u001b[1;32m   1499\u001b[0m         \u001b[38;5;129;01mor\u001b[39;00m _global_backward_pre_hooks \u001b[38;5;129;01mor\u001b[39;00m _global_backward_hooks\n\u001b[1;32m   1500\u001b[0m         \u001b[38;5;129;01mor\u001b[39;00m _global_forward_hooks \u001b[38;5;129;01mor\u001b[39;00m _global_forward_pre_hooks):\n\u001b[0;32m-> 1501\u001b[0m     \u001b[38;5;28;01mreturn\u001b[39;00m \u001b[43mforward_call\u001b[49m\u001b[43m(\u001b[49m\u001b[38;5;241;43m*\u001b[39;49m\u001b[43margs\u001b[49m\u001b[43m,\u001b[49m\u001b[43m \u001b[49m\u001b[38;5;241;43m*\u001b[39;49m\u001b[38;5;241;43m*\u001b[39;49m\u001b[43mkwargs\u001b[49m\u001b[43m)\u001b[49m\n\u001b[1;32m   1502\u001b[0m \u001b[38;5;66;03m# Do not call functions when jit is used\u001b[39;00m\n\u001b[1;32m   1503\u001b[0m full_backward_hooks, non_full_backward_hooks \u001b[38;5;241m=\u001b[39m [], []\n",
      "File \u001b[0;32m~/miniconda3/lib/python3.8/site-packages/torch/nn/modules/rnn.py:815\u001b[0m, in \u001b[0;36mLSTM.forward\u001b[0;34m(self, input, hx)\u001b[0m\n\u001b[1;32m    812\u001b[0m     result \u001b[38;5;241m=\u001b[39m _VF\u001b[38;5;241m.\u001b[39mlstm(\u001b[38;5;28minput\u001b[39m, hx, \u001b[38;5;28mself\u001b[39m\u001b[38;5;241m.\u001b[39m_flat_weights, \u001b[38;5;28mself\u001b[39m\u001b[38;5;241m.\u001b[39mbias, \u001b[38;5;28mself\u001b[39m\u001b[38;5;241m.\u001b[39mnum_layers,\n\u001b[1;32m    813\u001b[0m                       \u001b[38;5;28mself\u001b[39m\u001b[38;5;241m.\u001b[39mdropout, \u001b[38;5;28mself\u001b[39m\u001b[38;5;241m.\u001b[39mtraining, \u001b[38;5;28mself\u001b[39m\u001b[38;5;241m.\u001b[39mbidirectional, \u001b[38;5;28mself\u001b[39m\u001b[38;5;241m.\u001b[39mbatch_first)\n\u001b[1;32m    814\u001b[0m \u001b[38;5;28;01melse\u001b[39;00m:\n\u001b[0;32m--> 815\u001b[0m     result \u001b[38;5;241m=\u001b[39m \u001b[43m_VF\u001b[49m\u001b[38;5;241;43m.\u001b[39;49m\u001b[43mlstm\u001b[49m\u001b[43m(\u001b[49m\u001b[38;5;28;43minput\u001b[39;49m\u001b[43m,\u001b[49m\u001b[43m \u001b[49m\u001b[43mbatch_sizes\u001b[49m\u001b[43m,\u001b[49m\u001b[43m \u001b[49m\u001b[43mhx\u001b[49m\u001b[43m,\u001b[49m\u001b[43m \u001b[49m\u001b[38;5;28;43mself\u001b[39;49m\u001b[38;5;241;43m.\u001b[39;49m\u001b[43m_flat_weights\u001b[49m\u001b[43m,\u001b[49m\u001b[43m \u001b[49m\u001b[38;5;28;43mself\u001b[39;49m\u001b[38;5;241;43m.\u001b[39;49m\u001b[43mbias\u001b[49m\u001b[43m,\u001b[49m\n\u001b[1;32m    816\u001b[0m \u001b[43m                      \u001b[49m\u001b[38;5;28;43mself\u001b[39;49m\u001b[38;5;241;43m.\u001b[39;49m\u001b[43mnum_layers\u001b[49m\u001b[43m,\u001b[49m\u001b[43m \u001b[49m\u001b[38;5;28;43mself\u001b[39;49m\u001b[38;5;241;43m.\u001b[39;49m\u001b[43mdropout\u001b[49m\u001b[43m,\u001b[49m\u001b[43m \u001b[49m\u001b[38;5;28;43mself\u001b[39;49m\u001b[38;5;241;43m.\u001b[39;49m\u001b[43mtraining\u001b[49m\u001b[43m,\u001b[49m\u001b[43m \u001b[49m\u001b[38;5;28;43mself\u001b[39;49m\u001b[38;5;241;43m.\u001b[39;49m\u001b[43mbidirectional\u001b[49m\u001b[43m)\u001b[49m\n\u001b[1;32m    817\u001b[0m output \u001b[38;5;241m=\u001b[39m result[\u001b[38;5;241m0\u001b[39m]\n\u001b[1;32m    818\u001b[0m hidden \u001b[38;5;241m=\u001b[39m result[\u001b[38;5;241m1\u001b[39m:]\n",
      "\u001b[0;31mKeyboardInterrupt\u001b[0m: "
     ]
    }
   ],
   "source": [
    "%%time\n",
    "#rnn_types=['GRU', 'LSTM']\n",
    "#osses=['focal','bce']\n",
    "experiments = {f'exp_{i}':dict() for i in [4]}\n",
    "rnn_params = {'type':'LSTM',\n",
    "             'hidden_size':128,\n",
    "              'rnn_num_layers':2,\n",
    "              'rnn_bias':True,\n",
    "              'bidirectional':True\n",
    "             }\n",
    "ffn_params ={\n",
    "    'hid_linear':128\n",
    "}\n",
    "params.save_checkpoints= False\n",
    "params.early_stop={\n",
    "    'more_best':True,\n",
    "    'patience':5\n",
    "}\n",
    "params.rnn =rnn_params\n",
    "params.ffn =ffn_params\n",
    "\n",
    "params.dropout=0.2\n",
    "#params.weight_decay = 0.00006\n",
    "\n",
    "params.device='cuda:0'\n",
    "#params.device='cpu'\n",
    "device = torch.device(params.device)\n",
    "params.batch_accum =1\n",
    "params.clip_value =2\n",
    "params.fp16= False\n",
    "params.seed =3111\n",
    "params.spatial_dropout =0.2\n",
    "\n",
    "\n",
    "\n",
    "for i, exp_name in enumerate(['v2_fold1']):\n",
    "    params.describe = \"\"\"just test fold2\"\"\"\n",
    "    params.lr = 0.001\n",
    "    params.weight_decay=0\n",
    "    params.step_size=2\n",
    "    params.gamma = 0.1\n",
    "    epochs = 50\n",
    "    path_to_save_checkpoints =f'/home/evorsin/DS/mts_23/nn_exps/rnn/{exp_name}/'\n",
    "    os.system(f'mkdir -p {path_to_save_checkpoints}')\n",
    "    \n",
    "    early_stop = EarlyStop(path_to_save_checkpoints, params)\n",
    "    seed_everything(params.seed)\n",
    "    \n",
    "    model = RNNClsReceipts(params)\n",
    "    model.to(device)\n",
    "    \n",
    "    #optimizer = torch.optim.AdamW(model.parameters(),\n",
    "    #                              lr=params.lr, weight_decay=params.weight_decay)\n",
    "    optimizer = optim.Lamb(\n",
    "    model.parameters(),\n",
    "    lr= params.lr,\n",
    "    betas=(0.9, 0.999),\n",
    "    eps=1e-8,\n",
    "    weight_decay=params.weight_decay,\n",
    ")\n",
    "    scaler = torch.cuda.amp.GradScaler()\n",
    "    scheduler= torch.optim.lr_scheduler.StepLR(optimizer, step_size=params.step_size, gamma=params.gamma)\n",
    "    with open(path_to_save_checkpoints+'lrs.csv', 'w') as csvFile:\n",
    "        fieldnames =['lr', 'epoch','loss', 'loss_bi', 'loss_mc','score', 'gini', 'f1' ]\n",
    "        writer = csv.DictWriter(csvFile, fieldnames=fieldnames)\n",
    "        writer.writeheader()\n",
    "        \n",
    "        for epoch in range(1, epochs+1,1):\n",
    "            print(f'Epoch {epoch} - start <<<<<<<<<<<<<<<>>>>>>>>>>>>>>>>>>>>>>>')\n",
    "            time.sleep(2)\n",
    "            loss, loss_bi, loss_mc = train_fn(model=model, dataloader=train_loader,\n",
    "                                  optimizer=optimizer,scaler=scaler, \n",
    "                                          params=params,device=device, total=412, scheduler=None)\n",
    "            curr_lr = optimizer.param_groups[0]['lr']\n",
    "            print(f'Epoch {epoch} - loss: {loss}, loss_bi: {loss_bi}, loss_mc: {loss_mc}, curr_LR: {curr_lr}')\n",
    "            time.sleep(2)\n",
    "            score, gini, f1  = val_fn(model=model, dataloader=val_loader, params=params,device=device, total=103)\n",
    "            print(f'Epoch {epoch} - score: {score}, gini: {gini}, f1: {f1}')\n",
    "            writer.writerow({'lr': curr_lr, 'epoch': epoch, 'loss':loss, 'loss_bi':loss_bi,\n",
    "                            'loss_mc': loss_mc, 'score': score, 'gini':gini, 'f1':f1,})\n",
    "            csvFile.flush()\n",
    "            es = early_stop(model, score, epoch, verbose=True )\n",
    "            #scheduler.step(val_score)\n",
    "            #lrfn(epoch,scheduler)\n",
    "            #scheduler.step()\n",
    "            if es=='STOP':\n",
    "                print('____EARLY STOPPING____')\n",
    "                break"
   ]
  },
  {
   "cell_type": "code",
   "execution_count": 11,
   "id": "911060d5-9699-4660-86c9-93edc2245e7c",
   "metadata": {},
   "outputs": [],
   "source": [
    "from copy import deepcopy"
   ]
  },
  {
   "cell_type": "code",
   "execution_count": 14,
   "id": "557eb3dc-b152-48c9-a5ba-e3331f6bd95d",
   "metadata": {},
   "outputs": [
    {
     "name": "stderr",
     "output_type": "stream",
     "text": [
      " 31%|████████████▋                            | 130/420 [00:47<01:45,  2.75it/s]\n"
     ]
    }
   ],
   "source": [
    "ch_l={}\n",
    "for i, batch in tqdm(enumerate(train_loader), total=420):\n",
    "    if i>127:\n",
    "        ch_l[f'b_{i}']=deepcopy(batch)\n",
    "    if i==130:\n",
    "        break"
   ]
  },
  {
   "cell_type": "code",
   "execution_count": 15,
   "id": "c0ac386d-ed0f-4104-9e85-95faf7114b9d",
   "metadata": {},
   "outputs": [
    {
     "data": {
      "text/plain": [
       "dict_keys(['b_128', 'b_129', 'b_130'])"
      ]
     },
     "execution_count": 15,
     "metadata": {},
     "output_type": "execute_result"
    }
   ],
   "source": [
    "ch_l.keys()"
   ]
  },
  {
   "cell_type": "code",
   "execution_count": 18,
   "id": "fdd12364-c083-4ac0-9893-cbfa2cb2901f",
   "metadata": {},
   "outputs": [
    {
     "data": {
      "text/plain": [
       "['lengths',\n",
       " 'diff_date_m',\n",
       " 'url_host_enc',\n",
       " 'user_tr_count',\n",
       " 'price_sc',\n",
       " 'age',\n",
       " 'date_day',\n",
       " 'cpe_type_cd_enc',\n",
       " 'cpe_manufacturer_name_enc',\n",
       " 'date_dow',\n",
       " 'price_nan',\n",
       " 'is_male',\n",
       " 'user_id',\n",
       " 'cpe_model_name_enc',\n",
       " 'city_name_enc',\n",
       " 'region_name_enc',\n",
       " 'request_cnt',\n",
       " 'cpe_model_os_type_enc',\n",
       " 'date_month',\n",
       " 'part_of_day_enc',\n",
       " 'mask']"
      ]
     },
     "execution_count": 18,
     "metadata": {},
     "output_type": "execute_result"
    }
   ],
   "source": [
    "cols = list(ch_l['b_128'].keys())\n",
    "cols"
   ]
  },
  {
   "cell_type": "code",
   "execution_count": 26,
   "id": "f8bbb514-1adf-406b-8480-a7834dd6aa13",
   "metadata": {},
   "outputs": [
    {
     "name": "stdout",
     "output_type": "stream",
     "text": [
      "lengths <class 'list'>\n",
      "diff_date_m <class 'torch.Tensor'>\n",
      "url_host_enc <class 'torch.Tensor'>\n",
      "user_tr_count <class 'torch.Tensor'>\n",
      "price_sc <class 'torch.Tensor'>\n",
      "age <class 'torch.Tensor'>\n",
      "date_day <class 'torch.Tensor'>\n",
      "cpe_type_cd_enc <class 'torch.Tensor'>\n",
      "cpe_manufacturer_name_enc <class 'torch.Tensor'>\n",
      "date_dow <class 'torch.Tensor'>\n",
      "price_nan <class 'torch.Tensor'>\n",
      "is_male <class 'torch.Tensor'>\n",
      "user_id <class 'torch.Tensor'>\n",
      "cpe_model_name_enc <class 'torch.Tensor'>\n",
      "city_name_enc <class 'torch.Tensor'>\n",
      "region_name_enc <class 'torch.Tensor'>\n",
      "request_cnt <class 'torch.Tensor'>\n",
      "cpe_model_os_type_enc <class 'torch.Tensor'>\n",
      "date_month <class 'torch.Tensor'>\n",
      "part_of_day_enc <class 'torch.Tensor'>\n",
      "mask <class 'torch.Tensor'>\n"
     ]
    }
   ],
   "source": [
    "for col in cols:\n",
    "    print(col,type(ch_l['b_128'][col]))"
   ]
  },
  {
   "cell_type": "code",
   "execution_count": 45,
   "id": "056c4e50-3960-4b26-b4e9-f78847d3a3f2",
   "metadata": {},
   "outputs": [
    {
     "data": {
      "text/plain": [
       "393.44140625"
      ]
     },
     "execution_count": 45,
     "metadata": {},
     "output_type": "execute_result"
    }
   ],
   "source": [
    "np.mean(ch_l['b_128']['lengths'])"
   ]
  },
  {
   "cell_type": "code",
   "execution_count": 41,
   "id": "e4c312d2-0579-4485-92f0-911d771cd62f",
   "metadata": {},
   "outputs": [
    {
     "name": "stdout",
     "output_type": "stream",
     "text": [
      "diff_date_m tensor(5.9139) tensor(5.9139) tensor(5.9139)\n",
      "__\n",
      "url_host_enc tensor(50) tensor(50) tensor(50)\n",
      "__\n",
      "user_tr_count tensor(8898) tensor(7885) tensor(9061)\n",
      "__\n",
      "price_sc tensor(4.1020) tensor(3.2091) tensor(3.2365)\n",
      "__\n",
      "age tensor(5., dtype=torch.float64) tensor(5., dtype=torch.float64) tensor(5., dtype=torch.float64)\n",
      "__\n",
      "date_day tensor(31) tensor(31) tensor(31)\n",
      "__\n",
      "cpe_type_cd_enc tensor(1) tensor(1) tensor(3)\n",
      "__\n",
      "cpe_manufacturer_name_enc tensor(29) tensor(23) tensor(20)\n",
      "__\n",
      "date_dow tensor(7) tensor(7) tensor(7)\n",
      "__\n",
      "price_nan tensor(2) tensor(2) tensor(2)\n",
      "__\n",
      "is_male tensor(1., dtype=torch.float64) tensor(1., dtype=torch.float64) tensor(1., dtype=torch.float64)\n",
      "__\n",
      "user_id tensor(208062) tensor(248556) tensor(290257)\n",
      "__\n",
      "cpe_model_name_enc tensor(497) tensor(581) tensor(556)\n",
      "__\n",
      "city_name_enc tensor(917) tensor(946) tensor(938)\n",
      "__\n",
      "region_name_enc tensor(79) tensor(78) tensor(74)\n",
      "__\n",
      "request_cnt tensor(12) tensor(16) tensor(12)\n",
      "__\n",
      "cpe_model_os_type_enc tensor(3) tensor(3) tensor(3)\n",
      "__\n",
      "date_month tensor(12) tensor(12) tensor(10)\n",
      "__\n",
      "part_of_day_enc tensor(4) tensor(4) tensor(4)\n",
      "__\n",
      "mask tensor(True) tensor(True) tensor(True)\n",
      "__\n"
     ]
    }
   ],
   "source": [
    "for col in cols[1:]:\n",
    "    print(col, ch_l['b_128'][col].max(), ch_l['b_129'][col].max(), ch_l['b_130'][col].max() )\n",
    "    print('__')"
   ]
  },
  {
   "cell_type": "code",
   "execution_count": 3,
   "id": "b97dfc95-b661-430b-80b6-d3b63b9abc63",
   "metadata": {},
   "outputs": [
    {
     "data": {
      "text/plain": [
       "3.125"
      ]
     },
     "execution_count": 3,
     "metadata": {},
     "output_type": "execute_result"
    }
   ],
   "source": [
    "45*100/60/24"
   ]
  },
  {
   "cell_type": "code",
   "execution_count": null,
   "id": "1763ba02-fbdf-45bc-b11a-b24d19558edb",
   "metadata": {},
   "outputs": [],
   "source": []
  }
 ],
 "metadata": {
  "kernelspec": {
   "display_name": "Python 3 (ipykernel)",
   "language": "python",
   "name": "python3"
  },
  "language_info": {
   "codemirror_mode": {
    "name": "ipython",
    "version": 3
   },
   "file_extension": ".py",
   "mimetype": "text/x-python",
   "name": "python",
   "nbconvert_exporter": "python",
   "pygments_lexer": "ipython3",
   "version": "3.8.12"
  }
 },
 "nbformat": 4,
 "nbformat_minor": 5
}
