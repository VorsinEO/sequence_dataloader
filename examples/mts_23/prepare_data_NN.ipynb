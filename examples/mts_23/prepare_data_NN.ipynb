{
 "cells": [
  {
   "cell_type": "code",
   "execution_count": 1,
   "id": "31321755-5aa7-4a27-879f-c4888da76557",
   "metadata": {},
   "outputs": [],
   "source": [
    "import pandas as pd\n",
    "import numpy as np\n",
    "import os\n",
    "from tqdm import tqdm"
   ]
  },
  {
   "cell_type": "code",
   "execution_count": 4,
   "id": "cdcb7ff7-a90b-4151-8e12-923ad52dcd2c",
   "metadata": {},
   "outputs": [],
   "source": [
    "import pathlib"
   ]
  },
  {
   "cell_type": "code",
   "execution_count": 12,
   "id": "fae57558-c4d3-468b-99eb-72c9a7ccf958",
   "metadata": {},
   "outputs": [],
   "source": [
    "data_path = pathlib.Path(\"/home/evorsin/DS/mts_23/data/competition_data_final_pqt\")\n",
    "pqs_path_list = [item for item in data_path.iterdir() if not item.is_dir()]"
   ]
  },
  {
   "cell_type": "code",
   "execution_count": 13,
   "id": "3b2327fa-143e-4a88-87e6-d1bf723ed949",
   "metadata": {},
   "outputs": [
    {
     "data": {
      "text/plain": [
       "[PosixPath('/home/evorsin/DS/mts_23/data/competition_data_final_pqt/part-00006-aba60f69-2b63-4cc1-95ca-542598094698-c000.snappy.parquet'),\n",
       " PosixPath('/home/evorsin/DS/mts_23/data/competition_data_final_pqt/part-00004-aba60f69-2b63-4cc1-95ca-542598094698-c000.snappy.parquet'),\n",
       " PosixPath('/home/evorsin/DS/mts_23/data/competition_data_final_pqt/part-00008-aba60f69-2b63-4cc1-95ca-542598094698-c000.snappy.parquet'),\n",
       " PosixPath('/home/evorsin/DS/mts_23/data/competition_data_final_pqt/part-00005-aba60f69-2b63-4cc1-95ca-542598094698-c000.snappy.parquet'),\n",
       " PosixPath('/home/evorsin/DS/mts_23/data/competition_data_final_pqt/part-00007-aba60f69-2b63-4cc1-95ca-542598094698-c000.snappy.parquet'),\n",
       " PosixPath('/home/evorsin/DS/mts_23/data/competition_data_final_pqt/part-00001-aba60f69-2b63-4cc1-95ca-542598094698-c000.snappy.parquet'),\n",
       " PosixPath('/home/evorsin/DS/mts_23/data/competition_data_final_pqt/part-00000-aba60f69-2b63-4cc1-95ca-542598094698-c000.snappy.parquet'),\n",
       " PosixPath('/home/evorsin/DS/mts_23/data/competition_data_final_pqt/part-00009-aba60f69-2b63-4cc1-95ca-542598094698-c000.snappy.parquet'),\n",
       " PosixPath('/home/evorsin/DS/mts_23/data/competition_data_final_pqt/part-00003-aba60f69-2b63-4cc1-95ca-542598094698-c000.snappy.parquet'),\n",
       " PosixPath('/home/evorsin/DS/mts_23/data/competition_data_final_pqt/part-00002-aba60f69-2b63-4cc1-95ca-542598094698-c000.snappy.parquet')]"
      ]
     },
     "execution_count": 13,
     "metadata": {},
     "output_type": "execute_result"
    }
   ],
   "source": [
    "pqs_path_list"
   ]
  },
  {
   "cell_type": "markdown",
   "id": "70529713-8c3c-41b6-a55d-8155594463a9",
   "metadata": {},
   "source": [
    "# на первом паркете извлекаем сведения"
   ]
  },
  {
   "cell_type": "code",
   "execution_count": 7,
   "id": "bec00335-82bb-48f6-b357-d6508432233e",
   "metadata": {},
   "outputs": [],
   "source": [
    "data = pd.read_parquet(pqs_path_list[0])"
   ]
  },
  {
   "cell_type": "code",
   "execution_count": 8,
   "id": "09d9264a-021d-410e-99c6-8685254ac156",
   "metadata": {},
   "outputs": [
    {
     "name": "stdout",
     "output_type": "stream",
     "text": [
      "<class 'pandas.core.frame.DataFrame'>\n",
      "RangeIndex: 32134423 entries, 0 to 32134422\n",
      "Data columns (total 12 columns):\n",
      " #   Column                 Dtype  \n",
      "---  ------                 -----  \n",
      " 0   region_name            object \n",
      " 1   city_name              object \n",
      " 2   cpe_manufacturer_name  object \n",
      " 3   cpe_model_name         object \n",
      " 4   url_host               object \n",
      " 5   cpe_type_cd            object \n",
      " 6   cpe_model_os_type      object \n",
      " 7   price                  float64\n",
      " 8   date                   object \n",
      " 9   part_of_day            object \n",
      " 10  request_cnt            int64  \n",
      " 11  user_id                int64  \n",
      "dtypes: float64(1), int64(2), object(9)\n",
      "memory usage: 2.9+ GB\n"
     ]
    }
   ],
   "source": [
    "data.info()"
   ]
  },
  {
   "cell_type": "code",
   "execution_count": 9,
   "id": "34a0aa36-d7c0-4d40-9226-8eec07f398c1",
   "metadata": {},
   "outputs": [
    {
     "data": {
      "text/plain": [
       "0    2021-07-08\n",
       "1    2021-07-26\n",
       "2    2021-07-09\n",
       "3    2021-07-10\n",
       "4    2021-08-01\n",
       "Name: date, dtype: object"
      ]
     },
     "execution_count": 9,
     "metadata": {},
     "output_type": "execute_result"
    }
   ],
   "source": [
    "data.date.head()"
   ]
  },
  {
   "cell_type": "code",
   "execution_count": 10,
   "id": "4a5f401d-414f-4a2b-a2df-8ca3618083d1",
   "metadata": {},
   "outputs": [
    {
     "data": {
      "text/plain": [
       "datetime.date(2021, 7, 8)"
      ]
     },
     "execution_count": 10,
     "metadata": {},
     "output_type": "execute_result"
    }
   ],
   "source": [
    "data.date.head().min()"
   ]
  },
  {
   "cell_type": "code",
   "execution_count": 11,
   "id": "3a695115-af2d-4a3c-91d9-457b12517cce",
   "metadata": {},
   "outputs": [
    {
     "data": {
      "text/plain": [
       "datetime.date(2021, 8, 1)"
      ]
     },
     "execution_count": 11,
     "metadata": {},
     "output_type": "execute_result"
    }
   ],
   "source": [
    "data.date.head().max()"
   ]
  },
  {
   "cell_type": "markdown",
   "id": "222cd5c7-b6ff-44c6-ba5e-f0d1c86bcd9c",
   "metadata": {},
   "source": [
    "## по Клиентам извлекаем статы\n",
    "* ИД\n",
    "* мин дата\n",
    "* макс дата\n",
    "* разница в днях (после считаем)\n",
    "* количество строк по клиенту"
   ]
  },
  {
   "cell_type": "code",
   "execution_count": 16,
   "id": "a2f27545-f797-4d5e-89df-1d4488ac6b43",
   "metadata": {},
   "outputs": [],
   "source": [
    "user_stats = data.groupby('user_id').agg({'date':['min','max'],'user_id':['count']}).reset_index()\n",
    "user_stats.columns = ['user_id', 'min_date', 'max_date', 's_count']"
   ]
  },
  {
   "cell_type": "code",
   "execution_count": 17,
   "id": "fad3e78c-83eb-4aa3-930a-f88dfac31cfd",
   "metadata": {},
   "outputs": [
    {
     "data": {
      "text/html": [
       "<div>\n",
       "<style scoped>\n",
       "    .dataframe tbody tr th:only-of-type {\n",
       "        vertical-align: middle;\n",
       "    }\n",
       "\n",
       "    .dataframe tbody tr th {\n",
       "        vertical-align: top;\n",
       "    }\n",
       "\n",
       "    .dataframe thead th {\n",
       "        text-align: right;\n",
       "    }\n",
       "</style>\n",
       "<table border=\"1\" class=\"dataframe\">\n",
       "  <thead>\n",
       "    <tr style=\"text-align: right;\">\n",
       "      <th></th>\n",
       "      <th>user_id</th>\n",
       "      <th>min_date</th>\n",
       "      <th>max_date</th>\n",
       "      <th>s_count</th>\n",
       "    </tr>\n",
       "  </thead>\n",
       "  <tbody>\n",
       "    <tr>\n",
       "      <th>0</th>\n",
       "      <td>8</td>\n",
       "      <td>2022-02-23</td>\n",
       "      <td>2022-06-19</td>\n",
       "      <td>976</td>\n",
       "    </tr>\n",
       "    <tr>\n",
       "      <th>1</th>\n",
       "      <td>25</td>\n",
       "      <td>2021-06-30</td>\n",
       "      <td>2021-07-18</td>\n",
       "      <td>252</td>\n",
       "    </tr>\n",
       "    <tr>\n",
       "      <th>2</th>\n",
       "      <td>38</td>\n",
       "      <td>2021-06-16</td>\n",
       "      <td>2021-08-23</td>\n",
       "      <td>5392</td>\n",
       "    </tr>\n",
       "    <tr>\n",
       "      <th>3</th>\n",
       "      <td>62</td>\n",
       "      <td>2021-07-07</td>\n",
       "      <td>2022-01-03</td>\n",
       "      <td>4789</td>\n",
       "    </tr>\n",
       "    <tr>\n",
       "      <th>4</th>\n",
       "      <td>72</td>\n",
       "      <td>2021-06-16</td>\n",
       "      <td>2021-07-24</td>\n",
       "      <td>819</td>\n",
       "    </tr>\n",
       "    <tr>\n",
       "      <th>...</th>\n",
       "      <td>...</td>\n",
       "      <td>...</td>\n",
       "      <td>...</td>\n",
       "      <td>...</td>\n",
       "    </tr>\n",
       "    <tr>\n",
       "      <th>41456</th>\n",
       "      <td>415268</td>\n",
       "      <td>2021-06-16</td>\n",
       "      <td>2021-07-28</td>\n",
       "      <td>19</td>\n",
       "    </tr>\n",
       "    <tr>\n",
       "      <th>41457</th>\n",
       "      <td>415297</td>\n",
       "      <td>2021-08-07</td>\n",
       "      <td>2021-08-07</td>\n",
       "      <td>2</td>\n",
       "    </tr>\n",
       "    <tr>\n",
       "      <th>41458</th>\n",
       "      <td>415300</td>\n",
       "      <td>2021-06-16</td>\n",
       "      <td>2021-06-16</td>\n",
       "      <td>4</td>\n",
       "    </tr>\n",
       "    <tr>\n",
       "      <th>41459</th>\n",
       "      <td>415307</td>\n",
       "      <td>2021-08-07</td>\n",
       "      <td>2021-08-07</td>\n",
       "      <td>1</td>\n",
       "    </tr>\n",
       "    <tr>\n",
       "      <th>41460</th>\n",
       "      <td>415315</td>\n",
       "      <td>2021-06-20</td>\n",
       "      <td>2021-06-20</td>\n",
       "      <td>1</td>\n",
       "    </tr>\n",
       "  </tbody>\n",
       "</table>\n",
       "<p>41461 rows × 4 columns</p>\n",
       "</div>"
      ],
      "text/plain": [
       "       user_id    min_date    max_date  s_count\n",
       "0            8  2022-02-23  2022-06-19      976\n",
       "1           25  2021-06-30  2021-07-18      252\n",
       "2           38  2021-06-16  2021-08-23     5392\n",
       "3           62  2021-07-07  2022-01-03     4789\n",
       "4           72  2021-06-16  2021-07-24      819\n",
       "...        ...         ...         ...      ...\n",
       "41456   415268  2021-06-16  2021-07-28       19\n",
       "41457   415297  2021-08-07  2021-08-07        2\n",
       "41458   415300  2021-06-16  2021-06-16        4\n",
       "41459   415307  2021-08-07  2021-08-07        1\n",
       "41460   415315  2021-06-20  2021-06-20        1\n",
       "\n",
       "[41461 rows x 4 columns]"
      ]
     },
     "execution_count": 17,
     "metadata": {},
     "output_type": "execute_result"
    }
   ],
   "source": [
    "user_stats"
   ]
  },
  {
   "cell_type": "code",
   "execution_count": 23,
   "id": "570defc7-2414-4efa-89f4-ebd5a97583f1",
   "metadata": {},
   "outputs": [],
   "source": [
    "prices = data.groupby(['cpe_manufacturer_name','cpe_model_name']).agg({'price':['min', 'max', 'mean']}).reset_index()\n",
    "prices.columns = ['cpe_manufacturer_name','cpe_model_name', 'price_min', 'price_max', 'price_mean']"
   ]
  },
  {
   "cell_type": "code",
   "execution_count": 28,
   "id": "b47ae1dc-e38a-412c-a7b6-fa62a8966a69",
   "metadata": {},
   "outputs": [
    {
     "data": {
      "text/html": [
       "<div>\n",
       "<style scoped>\n",
       "    .dataframe tbody tr th:only-of-type {\n",
       "        vertical-align: middle;\n",
       "    }\n",
       "\n",
       "    .dataframe tbody tr th {\n",
       "        vertical-align: top;\n",
       "    }\n",
       "\n",
       "    .dataframe thead th {\n",
       "        text-align: right;\n",
       "    }\n",
       "</style>\n",
       "<table border=\"1\" class=\"dataframe\">\n",
       "  <thead>\n",
       "    <tr style=\"text-align: right;\">\n",
       "      <th></th>\n",
       "      <th>cpe_manufacturer_name</th>\n",
       "      <th>cpe_model_name</th>\n",
       "      <th>price_min</th>\n",
       "      <th>price_max</th>\n",
       "      <th>price_mean</th>\n",
       "    </tr>\n",
       "  </thead>\n",
       "  <tbody>\n",
       "    <tr>\n",
       "      <th>0</th>\n",
       "      <td>Alcatel</td>\n",
       "      <td>1</td>\n",
       "      <td>3490.0</td>\n",
       "      <td>4990.0</td>\n",
       "      <td>3878.272478</td>\n",
       "    </tr>\n",
       "    <tr>\n",
       "      <th>1</th>\n",
       "      <td>Alcatel</td>\n",
       "      <td>1X</td>\n",
       "      <td>6823.0</td>\n",
       "      <td>7990.0</td>\n",
       "      <td>7110.963504</td>\n",
       "    </tr>\n",
       "    <tr>\n",
       "      <th>2</th>\n",
       "      <td>Alcatel</td>\n",
       "      <td>3x</td>\n",
       "      <td>NaN</td>\n",
       "      <td>NaN</td>\n",
       "      <td>NaN</td>\n",
       "    </tr>\n",
       "    <tr>\n",
       "      <th>3</th>\n",
       "      <td>Alcatel</td>\n",
       "      <td>U5 3G Dual</td>\n",
       "      <td>3990.0</td>\n",
       "      <td>3990.0</td>\n",
       "      <td>3990.000000</td>\n",
       "    </tr>\n",
       "    <tr>\n",
       "      <th>4</th>\n",
       "      <td>Apple</td>\n",
       "      <td>iPad Air</td>\n",
       "      <td>NaN</td>\n",
       "      <td>NaN</td>\n",
       "      <td>NaN</td>\n",
       "    </tr>\n",
       "    <tr>\n",
       "      <th>...</th>\n",
       "      <td>...</td>\n",
       "      <td>...</td>\n",
       "      <td>...</td>\n",
       "      <td>...</td>\n",
       "      <td>...</td>\n",
       "    </tr>\n",
       "    <tr>\n",
       "      <th>520</th>\n",
       "      <td>ZTE</td>\n",
       "      <td>Blade L210RU</td>\n",
       "      <td>5290.0</td>\n",
       "      <td>5290.0</td>\n",
       "      <td>5290.000000</td>\n",
       "    </tr>\n",
       "    <tr>\n",
       "      <th>521</th>\n",
       "      <td>ZTE</td>\n",
       "      <td>Blade L8</td>\n",
       "      <td>2889.0</td>\n",
       "      <td>4490.0</td>\n",
       "      <td>3850.110116</td>\n",
       "    </tr>\n",
       "    <tr>\n",
       "      <th>522</th>\n",
       "      <td>ZTE</td>\n",
       "      <td>Blade V10 Vita RU</td>\n",
       "      <td>NaN</td>\n",
       "      <td>NaN</td>\n",
       "      <td>NaN</td>\n",
       "    </tr>\n",
       "    <tr>\n",
       "      <th>523</th>\n",
       "      <td>ZTE</td>\n",
       "      <td>Blade V9</td>\n",
       "      <td>NaN</td>\n",
       "      <td>NaN</td>\n",
       "      <td>NaN</td>\n",
       "    </tr>\n",
       "    <tr>\n",
       "      <th>524</th>\n",
       "      <td>ZTE</td>\n",
       "      <td>Blade V9 Vita</td>\n",
       "      <td>NaN</td>\n",
       "      <td>NaN</td>\n",
       "      <td>NaN</td>\n",
       "    </tr>\n",
       "  </tbody>\n",
       "</table>\n",
       "<p>525 rows × 5 columns</p>\n",
       "</div>"
      ],
      "text/plain": [
       "    cpe_manufacturer_name     cpe_model_name  price_min  price_max  \\\n",
       "0                 Alcatel                  1     3490.0     4990.0   \n",
       "1                 Alcatel                 1X     6823.0     7990.0   \n",
       "2                 Alcatel                 3x        NaN        NaN   \n",
       "3                 Alcatel         U5 3G Dual     3990.0     3990.0   \n",
       "4                   Apple           iPad Air        NaN        NaN   \n",
       "..                    ...                ...        ...        ...   \n",
       "520                   ZTE       Blade L210RU     5290.0     5290.0   \n",
       "521                   ZTE           Blade L8     2889.0     4490.0   \n",
       "522                   ZTE  Blade V10 Vita RU        NaN        NaN   \n",
       "523                   ZTE           Blade V9        NaN        NaN   \n",
       "524                   ZTE      Blade V9 Vita        NaN        NaN   \n",
       "\n",
       "      price_mean  \n",
       "0    3878.272478  \n",
       "1    7110.963504  \n",
       "2            NaN  \n",
       "3    3990.000000  \n",
       "4            NaN  \n",
       "..           ...  \n",
       "520  5290.000000  \n",
       "521  3850.110116  \n",
       "522          NaN  \n",
       "523          NaN  \n",
       "524          NaN  \n",
       "\n",
       "[525 rows x 5 columns]"
      ]
     },
     "execution_count": 28,
     "metadata": {},
     "output_type": "execute_result"
    }
   ],
   "source": [
    "prices"
   ]
  },
  {
   "cell_type": "code",
   "execution_count": 19,
   "id": "baddef16-887e-488c-92d5-8c4e43baf510",
   "metadata": {},
   "outputs": [
    {
     "data": {
      "text/plain": [
       "region_name                   0\n",
       "city_name                     0\n",
       "cpe_manufacturer_name         0\n",
       "cpe_model_name                0\n",
       "url_host                      0\n",
       "cpe_type_cd                   0\n",
       "cpe_model_os_type             0\n",
       "price                    654577\n",
       "date                          0\n",
       "part_of_day                   0\n",
       "request_cnt                   0\n",
       "user_id                       0\n",
       "dtype: int64"
      ]
     },
     "execution_count": 19,
     "metadata": {},
     "output_type": "execute_result"
    }
   ],
   "source": [
    "data.isna().sum()"
   ]
  },
  {
   "cell_type": "markdown",
   "id": "e0683536-e520-4939-a254-21be34d4530c",
   "metadata": {},
   "source": [
    "## по фичам считаем уникальные внутри каждого файла"
   ]
  },
  {
   "cell_type": "code",
   "execution_count": 18,
   "id": "9b62962e-e092-442e-8a1f-f8478bd5b08c",
   "metadata": {},
   "outputs": [
    {
     "data": {
      "text/plain": [
       "Index(['region_name', 'city_name', 'cpe_manufacturer_name', 'cpe_model_name',\n",
       "       'url_host', 'cpe_type_cd', 'cpe_model_os_type', 'price', 'date',\n",
       "       'part_of_day', 'request_cnt', 'user_id'],\n",
       "      dtype='object')"
      ]
     },
     "execution_count": 18,
     "metadata": {},
     "output_type": "execute_result"
    }
   ],
   "source": [
    "cols = ['region_name', 'city_name', 'cpe_manufacturer_name', 'cpe_model_name',\n",
    "       'url_host', 'cpe_type_cd', 'cpe_model_os_type', 'date',\n",
    "       'part_of_day', 'request_cnt', 'user_id']"
   ]
  },
  {
   "cell_type": "code",
   "execution_count": 32,
   "id": "61ae9784-1c1e-4114-8d57-edcfbe1c472a",
   "metadata": {},
   "outputs": [],
   "source": [
    "agg = data['region_name'].value_counts()\n",
    "agg = agg.reset_index()\n",
    "agg.columns = ['region_name','region_name_cnt']"
   ]
  },
  {
   "cell_type": "code",
   "execution_count": 33,
   "id": "dfa10a56-3f9a-4fad-9375-e94204a9a87a",
   "metadata": {},
   "outputs": [],
   "source": []
  },
  {
   "cell_type": "code",
   "execution_count": 34,
   "id": "0746e10b-51a8-4098-922a-977471648af7",
   "metadata": {},
   "outputs": [
    {
     "data": {
      "text/html": [
       "<div>\n",
       "<style scoped>\n",
       "    .dataframe tbody tr th:only-of-type {\n",
       "        vertical-align: middle;\n",
       "    }\n",
       "\n",
       "    .dataframe tbody tr th {\n",
       "        vertical-align: top;\n",
       "    }\n",
       "\n",
       "    .dataframe thead th {\n",
       "        text-align: right;\n",
       "    }\n",
       "</style>\n",
       "<table border=\"1\" class=\"dataframe\">\n",
       "  <thead>\n",
       "    <tr style=\"text-align: right;\">\n",
       "      <th></th>\n",
       "      <th>region_name</th>\n",
       "      <th>region_name_cnt</th>\n",
       "    </tr>\n",
       "  </thead>\n",
       "  <tbody>\n",
       "    <tr>\n",
       "      <th>0</th>\n",
       "      <td>Москва</td>\n",
       "      <td>4531489</td>\n",
       "    </tr>\n",
       "    <tr>\n",
       "      <th>1</th>\n",
       "      <td>Краснодарский край</td>\n",
       "      <td>2532520</td>\n",
       "    </tr>\n",
       "    <tr>\n",
       "      <th>2</th>\n",
       "      <td>Московская область</td>\n",
       "      <td>2127212</td>\n",
       "    </tr>\n",
       "    <tr>\n",
       "      <th>3</th>\n",
       "      <td>Санкт-Петербург</td>\n",
       "      <td>2058942</td>\n",
       "    </tr>\n",
       "    <tr>\n",
       "      <th>4</th>\n",
       "      <td>Республика Башкортостан</td>\n",
       "      <td>1512755</td>\n",
       "    </tr>\n",
       "    <tr>\n",
       "      <th>...</th>\n",
       "      <td>...</td>\n",
       "      <td>...</td>\n",
       "    </tr>\n",
       "    <tr>\n",
       "      <th>75</th>\n",
       "      <td>Республика Калмыкия</td>\n",
       "      <td>12463</td>\n",
       "    </tr>\n",
       "    <tr>\n",
       "      <th>76</th>\n",
       "      <td>Чеченская Республика</td>\n",
       "      <td>10110</td>\n",
       "    </tr>\n",
       "    <tr>\n",
       "      <th>77</th>\n",
       "      <td>Ненецкий АО</td>\n",
       "      <td>7181</td>\n",
       "    </tr>\n",
       "    <tr>\n",
       "      <th>78</th>\n",
       "      <td>Республика Ингушетия</td>\n",
       "      <td>535</td>\n",
       "    </tr>\n",
       "    <tr>\n",
       "      <th>79</th>\n",
       "      <td>Чукотский АО</td>\n",
       "      <td>252</td>\n",
       "    </tr>\n",
       "  </tbody>\n",
       "</table>\n",
       "<p>80 rows × 2 columns</p>\n",
       "</div>"
      ],
      "text/plain": [
       "                region_name  region_name_cnt\n",
       "0                    Москва          4531489\n",
       "1        Краснодарский край          2532520\n",
       "2        Московская область          2127212\n",
       "3           Санкт-Петербург          2058942\n",
       "4   Республика Башкортостан          1512755\n",
       "..                      ...              ...\n",
       "75      Республика Калмыкия            12463\n",
       "76     Чеченская Республика            10110\n",
       "77              Ненецкий АО             7181\n",
       "78     Республика Ингушетия              535\n",
       "79             Чукотский АО              252\n",
       "\n",
       "[80 rows x 2 columns]"
      ]
     },
     "execution_count": 34,
     "metadata": {},
     "output_type": "execute_result"
    }
   ],
   "source": [
    "agg"
   ]
  },
  {
   "cell_type": "markdown",
   "id": "c69d2082-4da5-4949-9c7c-677150d48152",
   "metadata": {},
   "source": [
    "# Теперь для каждого паркета собираем сведения и объединяем"
   ]
  },
  {
   "cell_type": "code",
   "execution_count": 37,
   "id": "05891c2c-c607-4f42-96f6-fdcbd346303a",
   "metadata": {},
   "outputs": [],
   "source": [
    "import gc\n",
    "from tqdm import tqdm"
   ]
  },
  {
   "cell_type": "code",
   "execution_count": 40,
   "id": "540f5116-8ccf-4623-9fcd-5d751df2e81c",
   "metadata": {},
   "outputs": [],
   "source": [
    "from collections import defaultdict"
   ]
  },
  {
   "cell_type": "code",
   "execution_count": 36,
   "id": "14c75f1f-605c-45aa-8159-2a1b87a5ff3c",
   "metadata": {},
   "outputs": [],
   "source": [
    "cols = ['region_name', 'city_name', 'cpe_manufacturer_name', 'cpe_model_name',\n",
    "       'url_host', 'cpe_type_cd', 'cpe_model_os_type', 'date',\n",
    "       'part_of_day', 'request_cnt', 'user_id']"
   ]
  },
  {
   "cell_type": "code",
   "execution_count": 45,
   "id": "c4ba9b02-d284-4b0f-b3e4-a47b8eb66db8",
   "metadata": {},
   "outputs": [],
   "source": [
    "del data"
   ]
  },
  {
   "cell_type": "code",
   "execution_count": 47,
   "id": "fbb9a26c-032f-4cc7-9297-708b4787b5f0",
   "metadata": {},
   "outputs": [
    {
     "name": "stderr",
     "output_type": "stream",
     "text": [
      "  0%|                                                    | 0/10 [00:00<?, ?it/s]\n",
      "  0%|                                                    | 0/11 [00:00<?, ?it/s]\u001b[A\n",
      "  9%|████                                        | 1/11 [00:01<00:11,  1.11s/it]\u001b[A\n",
      " 18%|████████                                    | 2/11 [00:02<00:10,  1.11s/it]\u001b[A\n",
      " 27%|████████████                                | 3/11 [00:03<00:08,  1.11s/it]\u001b[A\n",
      " 36%|████████████████                            | 4/11 [00:04<00:07,  1.11s/it]\u001b[A\n",
      " 45%|████████████████████                        | 5/11 [00:05<00:06,  1.14s/it]\u001b[A\n",
      " 55%|████████████████████████                    | 6/11 [00:06<00:05,  1.13s/it]\u001b[A\n",
      " 64%|████████████████████████████                | 7/11 [00:07<00:04,  1.12s/it]\u001b[A\n",
      " 73%|████████████████████████████████            | 8/11 [00:08<00:03,  1.12s/it]\u001b[A\n",
      " 82%|████████████████████████████████████        | 9/11 [00:10<00:02,  1.11s/it]\u001b[A\n",
      " 91%|███████████████████████████████████████    | 10/11 [00:10<00:00,  1.22it/s]\u001b[A\n",
      "100%|███████████████████████████████████████████| 11/11 [00:10<00:00,  1.06it/s]\u001b[A\n",
      " 10%|████▍                                       | 1/10 [00:41<06:15, 41.78s/it]\n",
      "  0%|                                                    | 0/11 [00:00<?, ?it/s]\u001b[A\n",
      "  9%|████                                        | 1/11 [00:01<00:11,  1.11s/it]\u001b[A\n",
      " 18%|████████                                    | 2/11 [00:02<00:10,  1.11s/it]\u001b[A\n",
      " 27%|████████████                                | 3/11 [00:03<00:08,  1.11s/it]\u001b[A\n",
      " 36%|████████████████                            | 4/11 [00:04<00:07,  1.11s/it]\u001b[A\n",
      " 45%|████████████████████                        | 5/11 [00:05<00:06,  1.14s/it]\u001b[A\n",
      " 55%|████████████████████████                    | 6/11 [00:06<00:05,  1.13s/it]\u001b[A\n",
      " 64%|████████████████████████████                | 7/11 [00:07<00:04,  1.12s/it]\u001b[A\n",
      " 73%|████████████████████████████████            | 8/11 [00:08<00:03,  1.12s/it]\u001b[A\n",
      " 82%|████████████████████████████████████        | 9/11 [00:10<00:02,  1.11s/it]\u001b[A\n",
      " 91%|███████████████████████████████████████    | 10/11 [00:10<00:00,  1.22it/s]\u001b[A\n",
      "100%|███████████████████████████████████████████| 11/11 [00:10<00:00,  1.05it/s]\u001b[A\n",
      " 20%|████████▊                                   | 2/10 [01:25<05:42, 42.82s/it]\n",
      "  0%|                                                    | 0/11 [00:00<?, ?it/s]\u001b[A\n",
      "  9%|████                                        | 1/11 [00:01<00:11,  1.12s/it]\u001b[A\n",
      " 18%|████████                                    | 2/11 [00:02<00:10,  1.12s/it]\u001b[A\n",
      " 27%|████████████                                | 3/11 [00:03<00:08,  1.11s/it]\u001b[A\n",
      " 36%|████████████████                            | 4/11 [00:04<00:07,  1.11s/it]\u001b[A\n",
      " 45%|████████████████████                        | 5/11 [00:05<00:06,  1.14s/it]\u001b[A\n",
      " 55%|████████████████████████                    | 6/11 [00:06<00:05,  1.13s/it]\u001b[A\n",
      " 64%|████████████████████████████                | 7/11 [00:07<00:04,  1.12s/it]\u001b[A\n",
      " 73%|████████████████████████████████            | 8/11 [00:08<00:03,  1.12s/it]\u001b[A\n",
      " 82%|████████████████████████████████████        | 9/11 [00:10<00:02,  1.11s/it]\u001b[A\n",
      " 91%|███████████████████████████████████████    | 10/11 [00:10<00:00,  1.23it/s]\u001b[A\n",
      "100%|███████████████████████████████████████████| 11/11 [00:10<00:00,  1.06it/s]\u001b[A\n",
      " 30%|█████████████▏                              | 3/10 [02:08<05:00, 42.99s/it]\n",
      "  0%|                                                    | 0/11 [00:00<?, ?it/s]\u001b[A\n",
      "  9%|████                                        | 1/11 [00:01<00:11,  1.11s/it]\u001b[A\n",
      " 18%|████████                                    | 2/11 [00:02<00:10,  1.12s/it]\u001b[A\n",
      " 27%|████████████                                | 3/11 [00:03<00:08,  1.11s/it]\u001b[A\n",
      " 36%|████████████████                            | 4/11 [00:04<00:07,  1.11s/it]\u001b[A\n",
      " 45%|████████████████████                        | 5/11 [00:05<00:06,  1.14s/it]\u001b[A\n",
      " 55%|████████████████████████                    | 6/11 [00:06<00:05,  1.13s/it]\u001b[A\n",
      " 64%|████████████████████████████                | 7/11 [00:07<00:04,  1.12s/it]\u001b[A\n",
      " 73%|████████████████████████████████            | 8/11 [00:08<00:03,  1.12s/it]\u001b[A\n",
      " 82%|████████████████████████████████████        | 9/11 [00:10<00:02,  1.12s/it]\u001b[A\n",
      " 91%|███████████████████████████████████████    | 10/11 [00:10<00:00,  1.22it/s]\u001b[A\n",
      "100%|███████████████████████████████████████████| 11/11 [00:10<00:00,  1.05it/s]\u001b[A\n",
      " 40%|█████████████████▌                          | 4/10 [02:51<04:18, 43.11s/it]\n",
      "  0%|                                                    | 0/11 [00:00<?, ?it/s]\u001b[A\n",
      "  9%|████                                        | 1/11 [00:01<00:11,  1.12s/it]\u001b[A\n",
      " 18%|████████                                    | 2/11 [00:02<00:10,  1.12s/it]\u001b[A\n",
      " 27%|████████████                                | 3/11 [00:03<00:08,  1.12s/it]\u001b[A\n",
      " 36%|████████████████                            | 4/11 [00:04<00:07,  1.12s/it]\u001b[A\n",
      " 45%|████████████████████                        | 5/11 [00:05<00:06,  1.15s/it]\u001b[A\n",
      " 55%|████████████████████████                    | 6/11 [00:06<00:05,  1.14s/it]\u001b[A\n",
      " 64%|████████████████████████████                | 7/11 [00:07<00:04,  1.13s/it]\u001b[A\n",
      " 73%|████████████████████████████████            | 8/11 [00:09<00:03,  1.13s/it]\u001b[A\n",
      " 82%|████████████████████████████████████        | 9/11 [00:10<00:02,  1.13s/it]\u001b[A\n",
      " 91%|███████████████████████████████████████    | 10/11 [00:10<00:00,  1.21it/s]\u001b[A\n",
      "100%|███████████████████████████████████████████| 11/11 [00:10<00:00,  1.04it/s]\u001b[A\n",
      " 50%|██████████████████████                      | 5/10 [03:35<03:35, 43.15s/it]\n",
      "  0%|                                                    | 0/11 [00:00<?, ?it/s]\u001b[A\n",
      "  9%|████                                        | 1/11 [00:01<00:11,  1.12s/it]\u001b[A\n",
      " 18%|████████                                    | 2/11 [00:02<00:10,  1.13s/it]\u001b[A\n",
      " 27%|████████████                                | 3/11 [00:03<00:08,  1.12s/it]\u001b[A\n",
      " 36%|████████████████                            | 4/11 [00:04<00:07,  1.12s/it]\u001b[A\n",
      " 45%|████████████████████                        | 5/11 [00:05<00:06,  1.15s/it]\u001b[A\n",
      " 55%|████████████████████████                    | 6/11 [00:06<00:05,  1.14s/it]\u001b[A\n",
      " 64%|████████████████████████████                | 7/11 [00:07<00:04,  1.13s/it]\u001b[A\n",
      " 73%|████████████████████████████████            | 8/11 [00:09<00:03,  1.13s/it]\u001b[A\n",
      " 82%|████████████████████████████████████        | 9/11 [00:10<00:02,  1.12s/it]\u001b[A\n",
      " 91%|███████████████████████████████████████    | 10/11 [00:10<00:00,  1.21it/s]\u001b[A\n",
      "100%|███████████████████████████████████████████| 11/11 [00:10<00:00,  1.05it/s]\u001b[A\n",
      " 60%|██████████████████████████▍                 | 6/10 [04:18<02:52, 43.21s/it]\n",
      "  0%|                                                    | 0/11 [00:00<?, ?it/s]\u001b[A\n",
      "  9%|████                                        | 1/11 [00:01<00:11,  1.13s/it]\u001b[A\n",
      " 18%|████████                                    | 2/11 [00:02<00:10,  1.13s/it]\u001b[A\n",
      " 27%|████████████                                | 3/11 [00:03<00:08,  1.12s/it]\u001b[A\n",
      " 36%|████████████████                            | 4/11 [00:04<00:07,  1.12s/it]\u001b[A\n",
      " 45%|████████████████████                        | 5/11 [00:05<00:06,  1.16s/it]\u001b[A\n",
      " 55%|████████████████████████                    | 6/11 [00:06<00:05,  1.15s/it]\u001b[A\n",
      " 64%|████████████████████████████                | 7/11 [00:07<00:04,  1.14s/it]\u001b[A\n",
      " 73%|████████████████████████████████            | 8/11 [00:09<00:03,  1.14s/it]\u001b[A\n",
      " 82%|████████████████████████████████████        | 9/11 [00:10<00:02,  1.14s/it]\u001b[A\n",
      " 91%|███████████████████████████████████████    | 10/11 [00:10<00:00,  1.19it/s]\u001b[A\n",
      "100%|███████████████████████████████████████████| 11/11 [00:10<00:00,  1.03it/s]\u001b[A\n",
      " 70%|██████████████████████████████▊             | 7/10 [05:01<02:10, 43.35s/it]\n",
      "  0%|                                                    | 0/11 [00:00<?, ?it/s]\u001b[A\n",
      "  9%|████                                        | 1/11 [00:01<00:11,  1.12s/it]\u001b[A\n",
      " 18%|████████                                    | 2/11 [00:02<00:10,  1.13s/it]\u001b[A\n",
      " 27%|████████████                                | 3/11 [00:03<00:08,  1.12s/it]\u001b[A\n",
      " 36%|████████████████                            | 4/11 [00:04<00:07,  1.12s/it]\u001b[A\n",
      " 45%|████████████████████                        | 5/11 [00:05<00:06,  1.15s/it]\u001b[A\n",
      " 55%|████████████████████████                    | 6/11 [00:06<00:05,  1.14s/it]\u001b[A\n",
      " 64%|████████████████████████████                | 7/11 [00:07<00:04,  1.13s/it]\u001b[A\n",
      " 73%|████████████████████████████████            | 8/11 [00:09<00:03,  1.13s/it]\u001b[A\n",
      " 82%|████████████████████████████████████        | 9/11 [00:10<00:02,  1.12s/it]\u001b[A\n",
      " 91%|███████████████████████████████████████    | 10/11 [00:10<00:00,  1.22it/s]\u001b[A\n",
      "100%|███████████████████████████████████████████| 11/11 [00:10<00:00,  1.05it/s]\u001b[A\n",
      " 80%|███████████████████████████████████▏        | 8/10 [05:45<01:26, 43.25s/it]\n",
      "  0%|                                                    | 0/11 [00:00<?, ?it/s]\u001b[A\n",
      "  9%|████                                        | 1/11 [00:01<00:11,  1.11s/it]\u001b[A\n",
      " 18%|████████                                    | 2/11 [00:02<00:10,  1.11s/it]\u001b[A\n",
      " 27%|████████████                                | 3/11 [00:03<00:08,  1.11s/it]\u001b[A\n",
      " 36%|████████████████                            | 4/11 [00:04<00:07,  1.11s/it]\u001b[A\n",
      " 45%|████████████████████                        | 5/11 [00:05<00:06,  1.14s/it]\u001b[A\n",
      " 55%|████████████████████████                    | 6/11 [00:06<00:05,  1.13s/it]\u001b[A\n",
      " 64%|████████████████████████████                | 7/11 [00:07<00:04,  1.12s/it]\u001b[A\n",
      " 73%|████████████████████████████████            | 8/11 [00:08<00:03,  1.12s/it]\u001b[A\n",
      " 82%|████████████████████████████████████        | 9/11 [00:10<00:02,  1.12s/it]\u001b[A\n",
      " 91%|███████████████████████████████████████    | 10/11 [00:10<00:00,  1.22it/s]\u001b[A\n",
      "100%|███████████████████████████████████████████| 11/11 [00:10<00:00,  1.05it/s]\u001b[A\n",
      " 90%|███████████████████████████████████████▌    | 9/10 [06:28<00:43, 43.29s/it]\n",
      "  0%|                                                    | 0/11 [00:00<?, ?it/s]\u001b[A\n",
      "  9%|████                                        | 1/11 [00:01<00:11,  1.11s/it]\u001b[A\n",
      " 18%|████████                                    | 2/11 [00:02<00:10,  1.12s/it]\u001b[A\n",
      " 27%|████████████                                | 3/11 [00:03<00:08,  1.11s/it]\u001b[A\n",
      " 36%|████████████████                            | 4/11 [00:04<00:07,  1.11s/it]\u001b[A\n",
      " 45%|████████████████████                        | 5/11 [00:05<00:06,  1.14s/it]\u001b[A\n",
      " 55%|████████████████████████                    | 6/11 [00:06<00:05,  1.13s/it]\u001b[A\n",
      " 64%|████████████████████████████                | 7/11 [00:07<00:04,  1.12s/it]\u001b[A\n",
      " 73%|████████████████████████████████            | 8/11 [00:08<00:03,  1.12s/it]\u001b[A\n",
      " 82%|████████████████████████████████████        | 9/11 [00:10<00:02,  1.11s/it]\u001b[A\n",
      " 91%|███████████████████████████████████████    | 10/11 [00:10<00:00,  1.23it/s]\u001b[A\n",
      "100%|███████████████████████████████████████████| 11/11 [00:10<00:00,  1.06it/s]\u001b[A\n",
      "100%|███████████████████████████████████████████| 10/10 [07:11<00:00, 43.15s/it]\n"
     ]
    }
   ],
   "source": [
    "stats = defaultdict(list)\n",
    "for pq_path in tqdm(pqs_path_list, total=len(pqs_path_list)):\n",
    "    data = pd.read_parquet(pq_path)\n",
    "    \n",
    "    #по клиентам считаем статы\n",
    "    user_stats = data.groupby('user_id').agg({'date':['min','max'],'user_id':['count']}).reset_index()\n",
    "    user_stats.columns = ['user_id', 'min_date', 'max_date', 's_count']\n",
    "    \n",
    "    stats['user_stats'].append(user_stats)\n",
    "    \n",
    "    #по телефонам считаем цены\n",
    "    prices = data.groupby(['cpe_manufacturer_name','cpe_model_name']).agg({'price':['min', 'max', 'mean']}).reset_index()\n",
    "    prices.columns = ['cpe_manufacturer_name','cpe_model_name', 'price_min', 'price_max', 'price_mean']\n",
    "    \n",
    "    stats['prices_stats'].append(prices)\n",
    "    \n",
    "    #по фичам собираем стату\n",
    "    for col in tqdm(cols, total=len(cols)):\n",
    "        agg = data[col].value_counts()\n",
    "        agg = agg.reset_index()\n",
    "        agg.columns = [col,col+'_cnt']\n",
    "        stats[col].append(agg)\n",
    "    del data\n",
    "    gc.collect()"
   ]
  },
  {
   "cell_type": "markdown",
   "id": "4cbfc969-c886-460b-a1be-28a293daf1cb",
   "metadata": {},
   "source": [
    "## собираем в разрезе клиентов, цен статистики"
   ]
  },
  {
   "cell_type": "code",
   "execution_count": 48,
   "id": "7d636205-9b51-472c-be37-58fbc36195b2",
   "metadata": {},
   "outputs": [
    {
     "data": {
      "text/plain": [
       "dict_keys(['user_stats', 'prices_stats', 'region_name', 'city_name', 'cpe_manufacturer_name', 'cpe_model_name', 'url_host', 'cpe_type_cd', 'cpe_model_os_type', 'date', 'part_of_day', 'request_cnt', 'user_id'])"
      ]
     },
     "execution_count": 48,
     "metadata": {},
     "output_type": "execute_result"
    }
   ],
   "source": [
    "stats.keys()"
   ]
  },
  {
   "cell_type": "code",
   "execution_count": 49,
   "id": "fb8c2ed0-99ea-4a40-abca-3f077110aeb8",
   "metadata": {},
   "outputs": [],
   "source": [
    "users_all = pd.concat(stats['user_stats'])"
   ]
  },
  {
   "cell_type": "code",
   "execution_count": 50,
   "id": "79633b44-d222-4519-b636-d8c8e74dab6d",
   "metadata": {},
   "outputs": [
    {
     "data": {
      "text/html": [
       "<div>\n",
       "<style scoped>\n",
       "    .dataframe tbody tr th:only-of-type {\n",
       "        vertical-align: middle;\n",
       "    }\n",
       "\n",
       "    .dataframe tbody tr th {\n",
       "        vertical-align: top;\n",
       "    }\n",
       "\n",
       "    .dataframe thead th {\n",
       "        text-align: right;\n",
       "    }\n",
       "</style>\n",
       "<table border=\"1\" class=\"dataframe\">\n",
       "  <thead>\n",
       "    <tr style=\"text-align: right;\">\n",
       "      <th></th>\n",
       "      <th>user_id</th>\n",
       "      <th>min_date</th>\n",
       "      <th>max_date</th>\n",
       "      <th>s_count</th>\n",
       "    </tr>\n",
       "  </thead>\n",
       "  <tbody>\n",
       "    <tr>\n",
       "      <th>0</th>\n",
       "      <td>8</td>\n",
       "      <td>2022-02-23</td>\n",
       "      <td>2022-06-19</td>\n",
       "      <td>976</td>\n",
       "    </tr>\n",
       "    <tr>\n",
       "      <th>1</th>\n",
       "      <td>25</td>\n",
       "      <td>2021-06-30</td>\n",
       "      <td>2021-07-18</td>\n",
       "      <td>252</td>\n",
       "    </tr>\n",
       "    <tr>\n",
       "      <th>2</th>\n",
       "      <td>38</td>\n",
       "      <td>2021-06-16</td>\n",
       "      <td>2021-08-23</td>\n",
       "      <td>5392</td>\n",
       "    </tr>\n",
       "    <tr>\n",
       "      <th>3</th>\n",
       "      <td>62</td>\n",
       "      <td>2021-07-07</td>\n",
       "      <td>2022-01-03</td>\n",
       "      <td>4789</td>\n",
       "    </tr>\n",
       "    <tr>\n",
       "      <th>4</th>\n",
       "      <td>72</td>\n",
       "      <td>2021-06-16</td>\n",
       "      <td>2021-07-24</td>\n",
       "      <td>819</td>\n",
       "    </tr>\n",
       "    <tr>\n",
       "      <th>...</th>\n",
       "      <td>...</td>\n",
       "      <td>...</td>\n",
       "      <td>...</td>\n",
       "      <td>...</td>\n",
       "    </tr>\n",
       "    <tr>\n",
       "      <th>41330</th>\n",
       "      <td>415257</td>\n",
       "      <td>2021-07-13</td>\n",
       "      <td>2021-07-18</td>\n",
       "      <td>9</td>\n",
       "    </tr>\n",
       "    <tr>\n",
       "      <th>41331</th>\n",
       "      <td>415285</td>\n",
       "      <td>2021-06-25</td>\n",
       "      <td>2021-07-09</td>\n",
       "      <td>3</td>\n",
       "    </tr>\n",
       "    <tr>\n",
       "      <th>41332</th>\n",
       "      <td>415291</td>\n",
       "      <td>2021-07-10</td>\n",
       "      <td>2021-07-10</td>\n",
       "      <td>1</td>\n",
       "    </tr>\n",
       "    <tr>\n",
       "      <th>41333</th>\n",
       "      <td>415304</td>\n",
       "      <td>2021-06-16</td>\n",
       "      <td>2021-06-16</td>\n",
       "      <td>2</td>\n",
       "    </tr>\n",
       "    <tr>\n",
       "      <th>41334</th>\n",
       "      <td>415316</td>\n",
       "      <td>2021-08-01</td>\n",
       "      <td>2021-08-01</td>\n",
       "      <td>1</td>\n",
       "    </tr>\n",
       "  </tbody>\n",
       "</table>\n",
       "<p>415317 rows × 4 columns</p>\n",
       "</div>"
      ],
      "text/plain": [
       "       user_id    min_date    max_date  s_count\n",
       "0            8  2022-02-23  2022-06-19      976\n",
       "1           25  2021-06-30  2021-07-18      252\n",
       "2           38  2021-06-16  2021-08-23     5392\n",
       "3           62  2021-07-07  2022-01-03     4789\n",
       "4           72  2021-06-16  2021-07-24      819\n",
       "...        ...         ...         ...      ...\n",
       "41330   415257  2021-07-13  2021-07-18        9\n",
       "41331   415285  2021-06-25  2021-07-09        3\n",
       "41332   415291  2021-07-10  2021-07-10        1\n",
       "41333   415304  2021-06-16  2021-06-16        2\n",
       "41334   415316  2021-08-01  2021-08-01        1\n",
       "\n",
       "[415317 rows x 4 columns]"
      ]
     },
     "execution_count": 50,
     "metadata": {},
     "output_type": "execute_result"
    }
   ],
   "source": [
    "users_all.user_id"
   ]
  },
  {
   "cell_type": "code",
   "execution_count": 54,
   "id": "af6d8c42-820a-4160-9714-a6bbccad7cca",
   "metadata": {},
   "outputs": [],
   "source": [
    "prices_all = pd.concat(stats['prices_stats'])"
   ]
  },
  {
   "cell_type": "code",
   "execution_count": 63,
   "id": "d65195d4-705f-4585-853b-404673b0f4b2",
   "metadata": {},
   "outputs": [],
   "source": [
    "prices_all_clean = prices_all[~prices_all.price_min.isna()].groupby(['cpe_manufacturer_name', 'cpe_model_name'])\\\n",
    ".agg({'price_min':['mean'],'price_max':['mean'],'price_mean':['mean'],}).reset_index()"
   ]
  },
  {
   "cell_type": "code",
   "execution_count": 65,
   "id": "d10866cb-3b63-439d-b80c-97cb15948b27",
   "metadata": {},
   "outputs": [
    {
     "data": {
      "text/plain": [
       "Index(['cpe_manufacturer_name', 'cpe_model_name', 'price_min', 'price_max',\n",
       "       'price_mean'],\n",
       "      dtype='object')"
      ]
     },
     "execution_count": 65,
     "metadata": {},
     "output_type": "execute_result"
    }
   ],
   "source": [
    "prices_all.columns"
   ]
  },
  {
   "cell_type": "code",
   "execution_count": 66,
   "id": "80921963-d404-4a20-9ab3-a6277d60e3f3",
   "metadata": {},
   "outputs": [],
   "source": [
    "prices_all_clean.columns = ['cpe_manufacturer_name', 'cpe_model_name', 'price_min', 'price_max',\n",
    "       'price_mean']"
   ]
  },
  {
   "cell_type": "code",
   "execution_count": 68,
   "id": "e9986722-b5ce-45a6-ac49-ec00b48a4d04",
   "metadata": {},
   "outputs": [
    {
     "data": {
      "text/html": [
       "<div>\n",
       "<style scoped>\n",
       "    .dataframe tbody tr th:only-of-type {\n",
       "        vertical-align: middle;\n",
       "    }\n",
       "\n",
       "    .dataframe tbody tr th {\n",
       "        vertical-align: top;\n",
       "    }\n",
       "\n",
       "    .dataframe thead th {\n",
       "        text-align: right;\n",
       "    }\n",
       "</style>\n",
       "<table border=\"1\" class=\"dataframe\">\n",
       "  <thead>\n",
       "    <tr style=\"text-align: right;\">\n",
       "      <th></th>\n",
       "      <th>cpe_manufacturer_name</th>\n",
       "      <th>cpe_model_name</th>\n",
       "      <th>price_min</th>\n",
       "      <th>price_max</th>\n",
       "      <th>price_mean</th>\n",
       "    </tr>\n",
       "  </thead>\n",
       "  <tbody>\n",
       "    <tr>\n",
       "      <th>151</th>\n",
       "      <td>Meizu</td>\n",
       "      <td>M8</td>\n",
       "      <td>928.500000</td>\n",
       "      <td>965.250000</td>\n",
       "      <td>932.724909</td>\n",
       "    </tr>\n",
       "    <tr>\n",
       "      <th>47</th>\n",
       "      <td>BQ Devices Limited</td>\n",
       "      <td>BQ-5340 Choice</td>\n",
       "      <td>720.000000</td>\n",
       "      <td>2761.700000</td>\n",
       "      <td>1355.004756</td>\n",
       "    </tr>\n",
       "    <tr>\n",
       "      <th>261</th>\n",
       "      <td>Samsung</td>\n",
       "      <td>Galaxy J1 mini 3G Dual</td>\n",
       "      <td>858.000000</td>\n",
       "      <td>3408.100000</td>\n",
       "      <td>1574.446209</td>\n",
       "    </tr>\n",
       "    <tr>\n",
       "      <th>3</th>\n",
       "      <td>Alcatel</td>\n",
       "      <td>U5 3G Dual</td>\n",
       "      <td>1872.000000</td>\n",
       "      <td>1978.600000</td>\n",
       "      <td>1879.434279</td>\n",
       "    </tr>\n",
       "    <tr>\n",
       "      <th>154</th>\n",
       "      <td>Nokia</td>\n",
       "      <td>1 Dual</td>\n",
       "      <td>1676.000000</td>\n",
       "      <td>2200.571429</td>\n",
       "      <td>2095.079404</td>\n",
       "    </tr>\n",
       "    <tr>\n",
       "      <th>...</th>\n",
       "      <td>...</td>\n",
       "      <td>...</td>\n",
       "      <td>...</td>\n",
       "      <td>...</td>\n",
       "      <td>...</td>\n",
       "    </tr>\n",
       "    <tr>\n",
       "      <th>295</th>\n",
       "      <td>Samsung</td>\n",
       "      <td>Galaxy Note20 Ultra 5G Dual Global</td>\n",
       "      <td>111240.000000</td>\n",
       "      <td>119990.000000</td>\n",
       "      <td>116988.666008</td>\n",
       "    </tr>\n",
       "    <tr>\n",
       "      <th>14</th>\n",
       "      <td>Apple</td>\n",
       "      <td>iPhone 13 Pro Max</td>\n",
       "      <td>114531.900000</td>\n",
       "      <td>179190.300000</td>\n",
       "      <td>119329.407778</td>\n",
       "    </tr>\n",
       "    <tr>\n",
       "      <th>311</th>\n",
       "      <td>Samsung</td>\n",
       "      <td>Galaxy S22 Ultra</td>\n",
       "      <td>120444.666667</td>\n",
       "      <td>126475.666667</td>\n",
       "      <td>125252.718028</td>\n",
       "    </tr>\n",
       "    <tr>\n",
       "      <th>327</th>\n",
       "      <td>Samsung</td>\n",
       "      <td>Galaxy Z Fold3 5G</td>\n",
       "      <td>160877.333333</td>\n",
       "      <td>161488.833333</td>\n",
       "      <td>161462.538833</td>\n",
       "    </tr>\n",
       "    <tr>\n",
       "      <th>326</th>\n",
       "      <td>Samsung</td>\n",
       "      <td>Galaxy Z Fold2 5G</td>\n",
       "      <td>165990.000000</td>\n",
       "      <td>167990.000000</td>\n",
       "      <td>166015.641026</td>\n",
       "    </tr>\n",
       "  </tbody>\n",
       "</table>\n",
       "<p>439 rows × 5 columns</p>\n",
       "</div>"
      ],
      "text/plain": [
       "    cpe_manufacturer_name                      cpe_model_name      price_min  \\\n",
       "151                 Meizu                                  M8     928.500000   \n",
       "47     BQ Devices Limited                      BQ-5340 Choice     720.000000   \n",
       "261               Samsung              Galaxy J1 mini 3G Dual     858.000000   \n",
       "3                 Alcatel                          U5 3G Dual    1872.000000   \n",
       "154                 Nokia                              1 Dual    1676.000000   \n",
       "..                    ...                                 ...            ...   \n",
       "295               Samsung  Galaxy Note20 Ultra 5G Dual Global  111240.000000   \n",
       "14                  Apple                   iPhone 13 Pro Max  114531.900000   \n",
       "311               Samsung                    Galaxy S22 Ultra  120444.666667   \n",
       "327               Samsung                   Galaxy Z Fold3 5G  160877.333333   \n",
       "326               Samsung                   Galaxy Z Fold2 5G  165990.000000   \n",
       "\n",
       "         price_max     price_mean  \n",
       "151     965.250000     932.724909  \n",
       "47     2761.700000    1355.004756  \n",
       "261    3408.100000    1574.446209  \n",
       "3      1978.600000    1879.434279  \n",
       "154    2200.571429    2095.079404  \n",
       "..             ...            ...  \n",
       "295  119990.000000  116988.666008  \n",
       "14   179190.300000  119329.407778  \n",
       "311  126475.666667  125252.718028  \n",
       "327  161488.833333  161462.538833  \n",
       "326  167990.000000  166015.641026  \n",
       "\n",
       "[439 rows x 5 columns]"
      ]
     },
     "execution_count": 68,
     "metadata": {},
     "output_type": "execute_result"
    }
   ],
   "source": [
    "prices_all_clean.sort_values('price_mean')"
   ]
  },
  {
   "cell_type": "code",
   "execution_count": 69,
   "id": "268da804-c34e-42a4-9ff6-90b3e43d098e",
   "metadata": {},
   "outputs": [],
   "source": [
    "prices_all_clean.to_csv(d, index=False)"
   ]
  },
  {
   "cell_type": "code",
   "execution_count": 71,
   "id": "1282925f-5054-45f1-beaa-650f972057e2",
   "metadata": {},
   "outputs": [],
   "source": [
    "users_all.to_csv('/home/evorsin/DS/mts_23/mts_project_23/refs/users_all.csv', index=False)"
   ]
  },
  {
   "cell_type": "markdown",
   "id": "302f29a1-42da-4f56-82fb-d79ef5961ec0",
   "metadata": {},
   "source": [
    "## для кат фичей формируем маппинги для энгодинга"
   ]
  },
  {
   "cell_type": "code",
   "execution_count": 72,
   "id": "d76d947f-00b7-479b-be33-5b6964d0754a",
   "metadata": {},
   "outputs": [
    {
     "data": {
      "text/plain": [
       "['region_name',\n",
       " 'city_name',\n",
       " 'cpe_manufacturer_name',\n",
       " 'cpe_model_name',\n",
       " 'url_host',\n",
       " 'cpe_type_cd',\n",
       " 'cpe_model_os_type',\n",
       " 'date',\n",
       " 'part_of_day',\n",
       " 'request_cnt',\n",
       " 'user_id']"
      ]
     },
     "execution_count": 72,
     "metadata": {},
     "output_type": "execute_result"
    }
   ],
   "source": [
    "cols"
   ]
  },
  {
   "cell_type": "code",
   "execution_count": 73,
   "id": "de67ec38-2458-429d-b3c9-07dc298d8389",
   "metadata": {},
   "outputs": [],
   "source": [
    "agg =pd.concat(stats['region_name'])"
   ]
  },
  {
   "cell_type": "code",
   "execution_count": 79,
   "id": "e86395d7-8794-417c-b25b-64c91710d485",
   "metadata": {},
   "outputs": [],
   "source": [
    "agg = agg.groupby('region_name')['region_name_cnt'].sum().reset_index().sort_values('region_name_cnt', ascending=False)"
   ]
  },
  {
   "cell_type": "code",
   "execution_count": 81,
   "id": "ca5b68e7-bf8c-4e5c-8054-ddc40d37c00f",
   "metadata": {},
   "outputs": [],
   "source": [
    "agg['region_name_id'] = range(1,len(agg)+1)"
   ]
  },
  {
   "cell_type": "code",
   "execution_count": 85,
   "id": "19074c79-e86a-439c-bdfd-1abade9be147",
   "metadata": {},
   "outputs": [],
   "source": [
    "agg_dict = {k:v for k,v in zip(agg['region_name'].to_list(), agg['region_name_id'].to_list())}"
   ]
  },
  {
   "cell_type": "code",
   "execution_count": 87,
   "id": "a986a04d-fd70-4c48-9139-0d7622ed41c8",
   "metadata": {},
   "outputs": [],
   "source": [
    "stats_map = defaultdict(dict)"
   ]
  },
  {
   "cell_type": "code",
   "execution_count": 88,
   "id": "d9d18ae6-cb08-4210-973e-9cf3287f6846",
   "metadata": {},
   "outputs": [],
   "source": [
    "for col in cols:\n",
    "    if col!='user_id':\n",
    "        agg =pd.concat(stats[col])\n",
    "        agg = agg.groupby(col)[col+'_cnt'].sum().reset_index().sort_values(col+'_cnt', ascending=False)\n",
    "        agg[col+'_id'] = range(1,len(agg)+1)\n",
    "        agg_dict = {k:v for k,v in zip(agg[col].to_list(), agg[col+'_id'].to_list())}\n",
    "        \n",
    "        stats_map[col]['stats']=agg\n",
    "        stats_map[col]['col2id']=agg_dict"
   ]
  },
  {
   "cell_type": "code",
   "execution_count": 97,
   "id": "8ea408c7-4cd7-4938-99a6-9d4907bc31fe",
   "metadata": {},
   "outputs": [
    {
     "data": {
      "text/plain": [
       "1881.0"
      ]
     },
     "execution_count": 97,
     "metadata": {},
     "output_type": "execute_result"
    }
   ],
   "source": [
    "stats_map['url_host']['stats'].url_host_cnt.quantile(.99)"
   ]
  },
  {
   "cell_type": "code",
   "execution_count": 3,
   "id": "839a2e80-bf5d-4059-a6ed-3dfd88d33bbe",
   "metadata": {},
   "outputs": [],
   "source": [
    "from utils import save_pickle, load_pickle"
   ]
  },
  {
   "cell_type": "code",
   "execution_count": null,
   "id": "db9aca8a-7767-46b7-85f3-81bd83b3dcbe",
   "metadata": {},
   "outputs": [],
   "source": [
    "save_pickle()"
   ]
  },
  {
   "cell_type": "code",
   "execution_count": 4,
   "id": "3f197acc-5542-4e05-a6be-a44980c4dfbf",
   "metadata": {},
   "outputs": [],
   "source": [
    "import pickle"
   ]
  },
  {
   "cell_type": "code",
   "execution_count": 5,
   "id": "3746fd40-263f-4795-9c85-62ca1e089389",
   "metadata": {},
   "outputs": [],
   "source": [
    "def save_pickle(path='filename.pickle', your_data=None):\n",
    "    with open(path, 'wb') as handle:\n",
    "        pickle.dump(your_data, handle, protocol=pickle.HIGHEST_PROTOCOL)\n",
    "def load_pickle(path='filename.pickle'):\n",
    "    with open(path, 'rb') as handle:\n",
    "        unserialized_data = pickle.load(handle)\n",
    "    return unserialized_data"
   ]
  },
  {
   "cell_type": "code",
   "execution_count": 103,
   "id": "7c52ad4d-1b88-4290-8718-f7270a7cd0ce",
   "metadata": {},
   "outputs": [],
   "source": [
    "save_pickle('/home/evorsin/DS/mts_23/mts_project_23/refs/feats_stat.pickle', stats_map)"
   ]
  },
  {
   "cell_type": "code",
   "execution_count": 104,
   "id": "57222b7a-9e07-4983-9514-32c208d7e3b4",
   "metadata": {},
   "outputs": [],
   "source": [
    "stats_map_t = load_pickle('/home/evorsin/DS/mts_23/mts_project_23/refs/feats_stat.pickle')"
   ]
  },
  {
   "cell_type": "code",
   "execution_count": 105,
   "id": "e67a9be8-0abf-4db9-b674-079e2906df44",
   "metadata": {},
   "outputs": [
    {
     "data": {
      "text/plain": [
       "1881.0"
      ]
     },
     "execution_count": 105,
     "metadata": {},
     "output_type": "execute_result"
    }
   ],
   "source": [
    "stats_map_t['url_host']['stats'].url_host_cnt.quantile(.99)"
   ]
  },
  {
   "cell_type": "markdown",
   "id": "e615b822-c13f-4983-8550-e7df46ddf314",
   "metadata": {},
   "source": [
    "# Выполним энкодинг и понизим размерность\n",
    "* Для цены вставим среднее в пропуски\n",
    "* Кат фичи меняем\n",
    "* Генерим фичи по дате\n",
    "* Понижаем размерность\n",
    "* Удаляем старые фичи и сохраняем"
   ]
  },
  {
   "cell_type": "code",
   "execution_count": 6,
   "id": "b73b34d2-9c68-44f7-a27c-53477006a3da",
   "metadata": {},
   "outputs": [],
   "source": [
    "stats_map_t = load_pickle('/home/evorsin/DS/mts_23/mts_project_23/refs/feats_stat.pickle')"
   ]
  },
  {
   "cell_type": "code",
   "execution_count": 7,
   "id": "78963de9-db19-47a6-9d4c-1914e2d27e2e",
   "metadata": {},
   "outputs": [
    {
     "data": {
      "text/plain": [
       "dict_keys(['region_name', 'city_name', 'cpe_manufacturer_name', 'cpe_model_name', 'url_host', 'cpe_type_cd', 'cpe_model_os_type', 'date', 'part_of_day', 'request_cnt'])"
      ]
     },
     "execution_count": 7,
     "metadata": {},
     "output_type": "execute_result"
    }
   ],
   "source": [
    "stats_map_t.keys()"
   ]
  },
  {
   "cell_type": "code",
   "execution_count": 38,
   "id": "68f3cba1-9776-4e45-8d52-49438e5b740a",
   "metadata": {},
   "outputs": [
    {
     "name": "stdout",
     "output_type": "stream",
     "text": [
      "region_name 81\n",
      "city_name 985\n",
      "cpe_manufacturer_name 37\n",
      "cpe_model_name 599\n",
      "url_host 199683\n",
      "cpe_type_cd 4\n",
      "cpe_model_os_type 3\n",
      "date 396\n",
      "part_of_day 4\n",
      "request_cnt 15\n"
     ]
    }
   ],
   "source": [
    "for col in stats_map_t.keys():\n",
    "    print(col, len(stats_map_t[col]['col2id']))"
   ]
  },
  {
   "cell_type": "code",
   "execution_count": 14,
   "id": "7b0a3adf-685b-40b6-bbf3-9ce8f2969a08",
   "metadata": {},
   "outputs": [],
   "source": [
    "data_path = pathlib.Path(\"/home/evorsin/DS/mts_23/data/competition_data_final_pqt\")\n",
    "pqs_path_list = [item for item in data_path.iterdir() if not item.is_dir()]"
   ]
  },
  {
   "cell_type": "code",
   "execution_count": 15,
   "id": "606abd00-4bed-4cf2-80dd-6f06c5182328",
   "metadata": {},
   "outputs": [],
   "source": [
    "data = pd.read_parquet(pqs_path_list[0])"
   ]
  },
  {
   "cell_type": "code",
   "execution_count": 90,
   "id": "41c2ab38-783c-4de9-9585-37aac84702f7",
   "metadata": {},
   "outputs": [],
   "source": [
    "def preprocess(ch):\n",
    "    prices = pd.read_csv('~/DS/mts_23/mts_project_23/refs/prices_all_clean.csv')\n",
    "    median_prices = prices.price_mean.median()\n",
    "    prices_mean = prices.groupby(['cpe_manufacturer_name']).price_mean.mean().reset_index()\n",
    "    ch['price_nan'] = ch['price'].isna()*1\n",
    "    ch['price_nan'] =ch['price_nan'].astype('int16') \n",
    "    phone_cls = ['cpe_manufacturer_name','cpe_model_name']\n",
    "    price =pd.merge(ch[ch.price.isna()][phone_cls], \n",
    "        prices[phone_cls+['price_mean']].rename({'price_mean':'price'}, axis=1),\n",
    "        on=phone_cls, how='left').price\n",
    "    ch.loc[ch.price.isna(), 'price']=price\n",
    "    price =pd.merge(ch[ch.price.isna()]['cpe_manufacturer_name'], \n",
    "        prices_mean.rename({'price_mean':'price'}, axis=1),\n",
    "        on='cpe_manufacturer_name', how='left')\n",
    "    ch.loc[ch.price.isna(), 'price']=price\n",
    "    ch['price'].fillna(median_prices, inplace=True)\n",
    "    mean_p = ch['price'].mean()\n",
    "    std_p = ch['price'].std()\n",
    "    #(value - mean) / stdev\n",
    "    ch['price_sc'] = (ch['price']-mean_p)/std_p\n",
    "    ch['price_sc'] =ch['price_sc'].astype('float32')\n",
    "    ch['price'] =ch['price'].astype('float32')\n",
    "    \n",
    "    for col in ['region_name', 'city_name', 'cpe_manufacturer_name', 'cpe_model_name', \n",
    "                'url_host', 'cpe_type_cd', 'cpe_model_os_type', 'part_of_day']:\n",
    "        ch[col+'_enc'] = ch[col].map(stats_map_t[col]['col2id'])\n",
    "        if col=='url_host':\n",
    "            ch[col+'_enc'] = ch[col+'_enc'].astype('int32')\n",
    "        else:\n",
    "            ch[col+'_enc'] = ch[col+'_enc'].astype('int16')\n",
    "        ch.drop(col, axis=1, inplace=True)\n",
    "        \n",
    "    ch['request_cnt'] =ch['request_cnt'].astype('int16')\n",
    "    ch['user_id']=ch['user_id'].astype('int32')\n",
    "    \n",
    "    ch['date'] = pd.to_datetime(ch['date'])\n",
    "    ch['date_dow'] = ch['date'].dt.dayofweek.astype('int16') +1\n",
    "    ch['date_day'] = ch['date'].dt.day.astype('int16')\n",
    "    ch['date_month']=ch['date'].dt.month.astype('int16')\n",
    "    \n",
    "    ch.sort_values(['user_id','date'], inplace=True)\n",
    "    return ch\n",
    "    "
   ]
  },
  {
   "cell_type": "code",
   "execution_count": 100,
   "id": "7bd16930-5812-43a1-b4a6-429a7f0df465",
   "metadata": {},
   "outputs": [
    {
     "name": "stderr",
     "output_type": "stream",
     "text": [
      "100%|███████████████████████████████████████████| 10/10 [08:49<00:00, 52.96s/it]\n"
     ]
    }
   ],
   "source": [
    "for i, p_path in enumerate(tqdm(pqs_path_list, total=len(pqs_path_list))):\n",
    "    data = pd.read_parquet(p_path)\n",
    "    data = preprocess(data)\n",
    "    data.to_parquet(f'/home/evorsin/DS/mts_23/data/encoded_data/part_{i}.parquet', index=False)"
   ]
  },
  {
   "cell_type": "markdown",
   "id": "9021861e-ff03-40cb-a955-4199ac0f47f7",
   "metadata": {},
   "source": [
    "# Приведем в вертикальный вид и сохраним куски поменьше\n",
    "важно - данные в разрезе клиента отсортированы по дате по возрастанию (ascending=True)\n",
    "дело в том, что в нейронках буду брать последние N записей и чтобы отрезать именно последние нужна сортировка, а также, чтобы нейронки работали с последовательностью по клиенту хотя бы на уровне дней.\n",
    "\n",
    "Ниже фичи константы для клиента, так что их вообще можно  брать в одном экземпляре для экономии места. \n",
    "'city_name_enc', 'cpe_manufacturer_name_enc',\n",
    "       'cpe_model_name_enc', 'cpe_type_cd_enc',\n",
    "       'cpe_model_os_type_enc', price, price_sc, price_nan"
   ]
  },
  {
   "cell_type": "code",
   "execution_count": 2,
   "id": "f220937d-9a65-419a-8f84-b0d84271bf2a",
   "metadata": {},
   "outputs": [],
   "source": [
    "import gc"
   ]
  },
  {
   "cell_type": "code",
   "execution_count": 5,
   "id": "65841928-a3ec-443f-bb7e-c695e67cd319",
   "metadata": {},
   "outputs": [],
   "source": [
    "data_path = pathlib.Path(\"/home/evorsin/DS/mts_23/data/encoded_data/\")\n",
    "pqs_path_list = [item for item in data_path.iterdir() if not item.is_dir()]"
   ]
  },
  {
   "cell_type": "code",
   "execution_count": 7,
   "id": "bfd3fc95-6608-4b2d-99a3-b8e53c8275bc",
   "metadata": {},
   "outputs": [],
   "source": [
    "pqs_path_list.sort()"
   ]
  },
  {
   "cell_type": "code",
   "execution_count": 8,
   "id": "e2fbcb8e-1ed4-4815-95f2-d473dba9f918",
   "metadata": {},
   "outputs": [
    {
     "data": {
      "text/plain": [
       "[PosixPath('/home/evorsin/DS/mts_23/data/encoded_data/part_0.parquet'),\n",
       " PosixPath('/home/evorsin/DS/mts_23/data/encoded_data/part_1.parquet'),\n",
       " PosixPath('/home/evorsin/DS/mts_23/data/encoded_data/part_2.parquet'),\n",
       " PosixPath('/home/evorsin/DS/mts_23/data/encoded_data/part_3.parquet'),\n",
       " PosixPath('/home/evorsin/DS/mts_23/data/encoded_data/part_4.parquet'),\n",
       " PosixPath('/home/evorsin/DS/mts_23/data/encoded_data/part_5.parquet'),\n",
       " PosixPath('/home/evorsin/DS/mts_23/data/encoded_data/part_6.parquet'),\n",
       " PosixPath('/home/evorsin/DS/mts_23/data/encoded_data/part_7.parquet'),\n",
       " PosixPath('/home/evorsin/DS/mts_23/data/encoded_data/part_8.parquet'),\n",
       " PosixPath('/home/evorsin/DS/mts_23/data/encoded_data/part_9.parquet')]"
      ]
     },
     "execution_count": 8,
     "metadata": {},
     "output_type": "execute_result"
    }
   ],
   "source": [
    "pqs_path_list"
   ]
  },
  {
   "cell_type": "code",
   "execution_count": 5,
   "id": "be30f06a-9696-4f40-b8e2-e44c9ac8fe40",
   "metadata": {},
   "outputs": [],
   "source": [
    "data = pd.read_parquet(pqs_path_list[0])"
   ]
  },
  {
   "cell_type": "code",
   "execution_count": 30,
   "id": "41d62e16-f3cc-428d-bcbe-7c671b53144f",
   "metadata": {},
   "outputs": [],
   "source": [
    "def make_agg_sequence(data):\n",
    "    agg = data.groupby('user_id').agg({'price':'first',\n",
    "                                         'price_nan':'first',\n",
    "                                         'price_sc':'first',\n",
    "                                         'cpe_manufacturer_name_enc':'first',\n",
    "                                         'cpe_model_name_enc':'first',\n",
    "                                         'cpe_type_cd_enc':'first',\n",
    "                                         'cpe_model_os_type_enc':'first',                                         \n",
    "                                         'date':lambda x:x.tolist(),\n",
    "                                         'request_cnt':lambda x:x.tolist(),\n",
    "                                         'region_name_enc':lambda x:x.tolist(),\n",
    "                                         'city_name_enc':lambda x:x.tolist(),\n",
    "                                         'url_host_enc':lambda x:x.tolist(),\n",
    "                                         'part_of_day_enc':lambda x:x.tolist(),\n",
    "                                         'date_dow':lambda x:x.tolist(),\n",
    "                                         'date_day':lambda x:x.tolist(),\n",
    "                                         'date_month':lambda x:x.tolist(),\n",
    "                                         'user_id':'count'}).rename({'user_id':'user_tr_count'}, axis=1).reset_index()\n",
    "    del data\n",
    "    gc.collect()\n",
    "    return agg"
   ]
  },
  {
   "cell_type": "code",
   "execution_count": 35,
   "id": "638f862c-3227-4d04-95d0-65b9d15d86c0",
   "metadata": {},
   "outputs": [
    {
     "name": "stderr",
     "output_type": "stream",
     "text": [
      "100%|███████████████████████████████████████████| 10/10 [13:48<00:00, 82.80s/it]\n"
     ]
    }
   ],
   "source": [
    "for i, p_path in enumerate(tqdm(pqs_path_list, total=len(pqs_path_list))):\n",
    "    data = pd.read_parquet(p_path)\n",
    "    agg = make_agg_sequence(data)\n",
    "    agg.to_parquet(f'/home/evorsin/DS/mts_23/data/encoded_data_vert/part_{i}.parquet', index=False)"
   ]
  },
  {
   "cell_type": "markdown",
   "id": "284fdcb6-80bd-44de-8692-ab269e6e2808",
   "metadata": {},
   "source": [
    "# Разобьем по фолдам и добавим таргет"
   ]
  },
  {
   "cell_type": "code",
   "execution_count": 36,
   "id": "3685db39-a234-4166-b7e8-b18f2290dfe8",
   "metadata": {},
   "outputs": [],
   "source": [
    "tgs = pd.read_csv('/home/evorsin/DS/mts_23/data/clean_users_tgs_cv.csv')"
   ]
  },
  {
   "cell_type": "code",
   "execution_count": 37,
   "id": "3caa34e6-415b-41d1-8823-78b1b43e52de",
   "metadata": {},
   "outputs": [],
   "source": [
    "data_path = pathlib.Path(\"/home/evorsin/DS/mts_23/data/encoded_data_vert//\")\n",
    "pqs_path_list = [item for item in data_path.iterdir() if not item.is_dir()]\n",
    "pqs_path_list.sort()"
   ]
  },
  {
   "cell_type": "code",
   "execution_count": 38,
   "id": "78b1a8ac-460a-48c7-8f9c-bd41fca643c8",
   "metadata": {},
   "outputs": [
    {
     "data": {
      "text/plain": [
       "[PosixPath('/home/evorsin/DS/mts_23/data/encoded_data_vert/part_0.parquet'),\n",
       " PosixPath('/home/evorsin/DS/mts_23/data/encoded_data_vert/part_1.parquet'),\n",
       " PosixPath('/home/evorsin/DS/mts_23/data/encoded_data_vert/part_2.parquet'),\n",
       " PosixPath('/home/evorsin/DS/mts_23/data/encoded_data_vert/part_3.parquet'),\n",
       " PosixPath('/home/evorsin/DS/mts_23/data/encoded_data_vert/part_4.parquet'),\n",
       " PosixPath('/home/evorsin/DS/mts_23/data/encoded_data_vert/part_5.parquet'),\n",
       " PosixPath('/home/evorsin/DS/mts_23/data/encoded_data_vert/part_6.parquet'),\n",
       " PosixPath('/home/evorsin/DS/mts_23/data/encoded_data_vert/part_7.parquet'),\n",
       " PosixPath('/home/evorsin/DS/mts_23/data/encoded_data_vert/part_8.parquet'),\n",
       " PosixPath('/home/evorsin/DS/mts_23/data/encoded_data_vert/part_9.parquet')]"
      ]
     },
     "execution_count": 38,
     "metadata": {},
     "output_type": "execute_result"
    }
   ],
   "source": [
    "pqs_path_list"
   ]
  },
  {
   "cell_type": "code",
   "execution_count": 39,
   "id": "28f48947-179c-4f8d-888c-75476184418c",
   "metadata": {},
   "outputs": [],
   "source": [
    "data = pd.read_parquet(pqs_path_list[0])"
   ]
  },
  {
   "cell_type": "code",
   "execution_count": 40,
   "id": "c90396b7-bb83-4327-8123-47e6ea333260",
   "metadata": {},
   "outputs": [
    {
     "data": {
      "text/html": [
       "<div>\n",
       "<style scoped>\n",
       "    .dataframe tbody tr th:only-of-type {\n",
       "        vertical-align: middle;\n",
       "    }\n",
       "\n",
       "    .dataframe tbody tr th {\n",
       "        vertical-align: top;\n",
       "    }\n",
       "\n",
       "    .dataframe thead th {\n",
       "        text-align: right;\n",
       "    }\n",
       "</style>\n",
       "<table border=\"1\" class=\"dataframe\">\n",
       "  <thead>\n",
       "    <tr style=\"text-align: right;\">\n",
       "      <th></th>\n",
       "      <th>user_id</th>\n",
       "      <th>min_date</th>\n",
       "      <th>max_date</th>\n",
       "      <th>s_count</th>\n",
       "      <th>split_data</th>\n",
       "      <th>age</th>\n",
       "      <th>is_male</th>\n",
       "      <th>diff_date_d</th>\n",
       "      <th>diff_date_m</th>\n",
       "    </tr>\n",
       "  </thead>\n",
       "  <tbody>\n",
       "    <tr>\n",
       "      <th>0</th>\n",
       "      <td>8</td>\n",
       "      <td>2022-02-23</td>\n",
       "      <td>2022-06-19</td>\n",
       "      <td>976</td>\n",
       "      <td>fold_5</td>\n",
       "      <td>2.0</td>\n",
       "      <td>0.0</td>\n",
       "      <td>116.0</td>\n",
       "      <td>3.811167</td>\n",
       "    </tr>\n",
       "    <tr>\n",
       "      <th>1</th>\n",
       "      <td>25</td>\n",
       "      <td>2021-06-30</td>\n",
       "      <td>2021-07-18</td>\n",
       "      <td>252</td>\n",
       "      <td>fold_1</td>\n",
       "      <td>2.0</td>\n",
       "      <td>0.0</td>\n",
       "      <td>18.0</td>\n",
       "      <td>0.591388</td>\n",
       "    </tr>\n",
       "    <tr>\n",
       "      <th>2</th>\n",
       "      <td>38</td>\n",
       "      <td>2021-06-16</td>\n",
       "      <td>2021-08-23</td>\n",
       "      <td>5392</td>\n",
       "      <td>fold_4</td>\n",
       "      <td>1.0</td>\n",
       "      <td>1.0</td>\n",
       "      <td>68.0</td>\n",
       "      <td>2.234132</td>\n",
       "    </tr>\n",
       "    <tr>\n",
       "      <th>3</th>\n",
       "      <td>62</td>\n",
       "      <td>2021-07-07</td>\n",
       "      <td>2022-01-03</td>\n",
       "      <td>4789</td>\n",
       "      <td>fold_1</td>\n",
       "      <td>3.0</td>\n",
       "      <td>1.0</td>\n",
       "      <td>180.0</td>\n",
       "      <td>5.913879</td>\n",
       "    </tr>\n",
       "    <tr>\n",
       "      <th>4</th>\n",
       "      <td>72</td>\n",
       "      <td>2021-06-16</td>\n",
       "      <td>2021-07-24</td>\n",
       "      <td>819</td>\n",
       "      <td>subm</td>\n",
       "      <td>NaN</td>\n",
       "      <td>NaN</td>\n",
       "      <td>38.0</td>\n",
       "      <td>1.248486</td>\n",
       "    </tr>\n",
       "    <tr>\n",
       "      <th>...</th>\n",
       "      <td>...</td>\n",
       "      <td>...</td>\n",
       "      <td>...</td>\n",
       "      <td>...</td>\n",
       "      <td>...</td>\n",
       "      <td>...</td>\n",
       "      <td>...</td>\n",
       "      <td>...</td>\n",
       "      <td>...</td>\n",
       "    </tr>\n",
       "    <tr>\n",
       "      <th>408227</th>\n",
       "      <td>415257</td>\n",
       "      <td>2021-07-13</td>\n",
       "      <td>2021-07-18</td>\n",
       "      <td>9</td>\n",
       "      <td>fold_1</td>\n",
       "      <td>1.0</td>\n",
       "      <td>1.0</td>\n",
       "      <td>5.0</td>\n",
       "      <td>0.164274</td>\n",
       "    </tr>\n",
       "    <tr>\n",
       "      <th>408228</th>\n",
       "      <td>415285</td>\n",
       "      <td>2021-06-25</td>\n",
       "      <td>2021-07-09</td>\n",
       "      <td>3</td>\n",
       "      <td>subm</td>\n",
       "      <td>NaN</td>\n",
       "      <td>NaN</td>\n",
       "      <td>14.0</td>\n",
       "      <td>0.459968</td>\n",
       "    </tr>\n",
       "    <tr>\n",
       "      <th>408229</th>\n",
       "      <td>415291</td>\n",
       "      <td>2021-07-10</td>\n",
       "      <td>2021-07-10</td>\n",
       "      <td>1</td>\n",
       "      <td>subm</td>\n",
       "      <td>NaN</td>\n",
       "      <td>NaN</td>\n",
       "      <td>0.0</td>\n",
       "      <td>0.000000</td>\n",
       "    </tr>\n",
       "    <tr>\n",
       "      <th>408230</th>\n",
       "      <td>415304</td>\n",
       "      <td>2021-06-16</td>\n",
       "      <td>2021-06-16</td>\n",
       "      <td>2</td>\n",
       "      <td>fold_3</td>\n",
       "      <td>2.0</td>\n",
       "      <td>0.0</td>\n",
       "      <td>0.0</td>\n",
       "      <td>0.000000</td>\n",
       "    </tr>\n",
       "    <tr>\n",
       "      <th>408231</th>\n",
       "      <td>415316</td>\n",
       "      <td>2021-08-01</td>\n",
       "      <td>2021-08-01</td>\n",
       "      <td>1</td>\n",
       "      <td>subm</td>\n",
       "      <td>NaN</td>\n",
       "      <td>NaN</td>\n",
       "      <td>0.0</td>\n",
       "      <td>0.000000</td>\n",
       "    </tr>\n",
       "  </tbody>\n",
       "</table>\n",
       "<p>408232 rows × 9 columns</p>\n",
       "</div>"
      ],
      "text/plain": [
       "        user_id    min_date    max_date  s_count split_data  age  is_male  \\\n",
       "0             8  2022-02-23  2022-06-19      976     fold_5  2.0      0.0   \n",
       "1            25  2021-06-30  2021-07-18      252     fold_1  2.0      0.0   \n",
       "2            38  2021-06-16  2021-08-23     5392     fold_4  1.0      1.0   \n",
       "3            62  2021-07-07  2022-01-03     4789     fold_1  3.0      1.0   \n",
       "4            72  2021-06-16  2021-07-24      819       subm  NaN      NaN   \n",
       "...         ...         ...         ...      ...        ...  ...      ...   \n",
       "408227   415257  2021-07-13  2021-07-18        9     fold_1  1.0      1.0   \n",
       "408228   415285  2021-06-25  2021-07-09        3       subm  NaN      NaN   \n",
       "408229   415291  2021-07-10  2021-07-10        1       subm  NaN      NaN   \n",
       "408230   415304  2021-06-16  2021-06-16        2     fold_3  2.0      0.0   \n",
       "408231   415316  2021-08-01  2021-08-01        1       subm  NaN      NaN   \n",
       "\n",
       "        diff_date_d  diff_date_m  \n",
       "0             116.0     3.811167  \n",
       "1              18.0     0.591388  \n",
       "2              68.0     2.234132  \n",
       "3             180.0     5.913879  \n",
       "4              38.0     1.248486  \n",
       "...             ...          ...  \n",
       "408227          5.0     0.164274  \n",
       "408228         14.0     0.459968  \n",
       "408229          0.0     0.000000  \n",
       "408230          0.0     0.000000  \n",
       "408231          0.0     0.000000  \n",
       "\n",
       "[408232 rows x 9 columns]"
      ]
     },
     "execution_count": 40,
     "metadata": {},
     "output_type": "execute_result"
    }
   ],
   "source": [
    "tgs"
   ]
  },
  {
   "cell_type": "code",
   "execution_count": 42,
   "id": "de049756-582e-4e66-880f-0157e3c6f195",
   "metadata": {},
   "outputs": [
    {
     "data": {
      "text/plain": [
       "(41461, 18)"
      ]
     },
     "execution_count": 42,
     "metadata": {},
     "output_type": "execute_result"
    }
   ],
   "source": [
    "data.shape"
   ]
  },
  {
   "cell_type": "code",
   "execution_count": 43,
   "id": "e09c1e04-e09b-4ff1-ac66-b7a1e09762db",
   "metadata": {},
   "outputs": [],
   "source": [
    "data = pd.merge(data, tgs, on ='user_id', how='inner')"
   ]
  },
  {
   "cell_type": "code",
   "execution_count": 44,
   "id": "b551435d-93cd-4c21-a885-e94bd2b6a5f9",
   "metadata": {},
   "outputs": [
    {
     "data": {
      "text/plain": [
       "(40772, 26)"
      ]
     },
     "execution_count": 44,
     "metadata": {},
     "output_type": "execute_result"
    }
   ],
   "source": [
    "data.shape"
   ]
  },
  {
   "cell_type": "code",
   "execution_count": 47,
   "id": "1688b41f-9cda-48ef-bbbe-f401090a3e8a",
   "metadata": {},
   "outputs": [
    {
     "data": {
      "text/plain": [
       "array(['fold_5', 'fold_1', 'fold_4', 'subm', 'fold_3', 'fold_2'],\n",
       "      dtype=object)"
      ]
     },
     "execution_count": 47,
     "metadata": {},
     "output_type": "execute_result"
    }
   ],
   "source": [
    "data.split_data.unique()"
   ]
  },
  {
   "cell_type": "code",
   "execution_count": 45,
   "id": "ad0db494-a54a-470a-a6da-dce4acdd0110",
   "metadata": {},
   "outputs": [
    {
     "data": {
      "text/plain": [
       "subm      14485\n",
       "fold_2     5340\n",
       "fold_1     5318\n",
       "fold_3     5248\n",
       "fold_4     5196\n",
       "fold_5     5185\n",
       "Name: split_data, dtype: int64"
      ]
     },
     "execution_count": 45,
     "metadata": {},
     "output_type": "execute_result"
    }
   ],
   "source": [
    "data.split_data.value_counts()"
   ]
  },
  {
   "cell_type": "code",
   "execution_count": 61,
   "id": "1ddd4393-1b5b-4302-bee9-86fb454f2c85",
   "metadata": {},
   "outputs": [
    {
     "name": "stderr",
     "output_type": "stream",
     "text": [
      "100%|███████████████████████████████████████████| 10/10 [01:39<00:00,  9.95s/it]\n"
     ]
    }
   ],
   "source": [
    "for i, p_path in enumerate(tqdm(pqs_path_list, total=len(pqs_path_list))):\n",
    "    data = pd.read_parquet(p_path)\n",
    "    data = pd.merge(data, tgs, on ='user_id', how='inner')\n",
    "    for fold in ['fold_5', 'fold_1', 'fold_4', 'subm', 'fold_3', 'fold_2']:\n",
    "        data[data.split_data==fold].to_parquet(f'/home/evorsin/DS/mts_23/data/CV/{fold}/{fold}_part_{i}.parquet', index=False)\n",
    "        "
   ]
  },
  {
   "cell_type": "code",
   "execution_count": 62,
   "id": "f94fa9fb-c3f0-4629-a72e-c1ea88b53932",
   "metadata": {},
   "outputs": [
    {
     "data": {
      "text/plain": [
       "7640"
      ]
     },
     "execution_count": 62,
     "metadata": {},
     "output_type": "execute_result"
    }
   ],
   "source": [
    "del data\n",
    "gc.collect()"
   ]
  },
  {
   "cell_type": "code",
   "execution_count": 63,
   "id": "541028da-9104-4e8c-9a39-dfe7f66976dd",
   "metadata": {},
   "outputs": [
    {
     "name": "stdout",
     "output_type": "stream",
     "text": [
      "1\n",
      "from fold_2/ TO fold_1\n",
      "from fold_3/ TO fold_1\n",
      "from fold_4/ TO fold_1\n",
      "from fold_5/ TO fold_1\n",
      "2\n",
      "from fold_1/ TO fold_2\n",
      "from fold_3/ TO fold_2\n",
      "from fold_4/ TO fold_2\n",
      "from fold_5/ TO fold_2\n",
      "3\n",
      "from fold_1/ TO fold_3\n",
      "from fold_2/ TO fold_3\n",
      "from fold_4/ TO fold_3\n",
      "from fold_5/ TO fold_3\n",
      "4\n",
      "from fold_1/ TO fold_4\n",
      "from fold_2/ TO fold_4\n",
      "from fold_3/ TO fold_4\n",
      "from fold_5/ TO fold_4\n",
      "5\n",
      "from fold_1/ TO fold_5\n",
      "from fold_2/ TO fold_5\n",
      "from fold_3/ TO fold_5\n",
      "from fold_4/ TO fold_5\n"
     ]
    }
   ],
   "source": [
    "for j in range(1,6):\n",
    "    print(j)\n",
    "    curr = [i for i in range(1,6) if i!=j]\n",
    "    for l in curr:\n",
    "        source = f'/home/evorsin/DS/mts_23/data/CV/fold_{l}/.'\n",
    "        dest = f'/home/evorsin/DS/mts_23/data/CV/train/fold_{j}/'\n",
    "        print(f'from fold_{l}/ TO fold_{j}')\n",
    "        os.system(f'cp -a {source} {dest}')"
   ]
  },
  {
   "cell_type": "code",
   "execution_count": 51,
   "id": "2561d3fc-eab5-4274-9b57-b4c1ccb2adb1",
   "metadata": {},
   "outputs": [],
   "source": [
    "import os"
   ]
  },
  {
   "cell_type": "code",
   "execution_count": 52,
   "id": "b1947cc0-aa67-408b-9650-7c42ec6c3259",
   "metadata": {},
   "outputs": [],
   "source": [
    "import sys"
   ]
  },
  {
   "cell_type": "code",
   "execution_count": 55,
   "id": "e96a3e6a-2071-4ab4-a7bd-6d693b16779a",
   "metadata": {},
   "outputs": [],
   "source": [
    "a = '/home/evorsin/DS/mts_23/data/CV/val'"
   ]
  },
  {
   "cell_type": "code",
   "execution_count": 54,
   "id": "71082444-8d01-444b-a981-69384e7f21fb",
   "metadata": {},
   "outputs": [
    {
     "name": "stdout",
     "output_type": "stream",
     "text": [
      "fold_1\tfold_2\tfold_3\tfold_4\tfold_5\n"
     ]
    }
   ],
   "source": [
    "!ls {a}"
   ]
  },
  {
   "cell_type": "code",
   "execution_count": 57,
   "id": "de320639-94b1-4c86-9cd8-938832dde354",
   "metadata": {},
   "outputs": [
    {
     "name": "stdout",
     "output_type": "stream",
     "text": [
      "fold_1\n",
      "fold_2\n",
      "fold_3\n",
      "fold_4\n",
      "fold_5\n"
     ]
    },
    {
     "data": {
      "text/plain": [
       "0"
      ]
     },
     "execution_count": 57,
     "metadata": {},
     "output_type": "execute_result"
    }
   ],
   "source": [
    "os.system(f'ls {a}')"
   ]
  },
  {
   "cell_type": "code",
   "execution_count": 64,
   "id": "0907d382-e998-4083-a2a3-ab088dd1c00f",
   "metadata": {},
   "outputs": [],
   "source": [
    "data_path = pathlib.Path(\"/home/evorsin/DS/mts_23/data/CV/train/fold_5\")\n",
    "pqs_path_list = [item for item in data_path.iterdir() if not item.is_dir()]\n",
    "pqs_path_list.sort()"
   ]
  },
  {
   "cell_type": "code",
   "execution_count": 67,
   "id": "dea67195-8367-4149-a166-26a7bdf907e1",
   "metadata": {},
   "outputs": [],
   "source": [
    "f3 = pd.read_parquet('/home/evorsin/DS/mts_23/data/CV/fold_3')"
   ]
  },
  {
   "cell_type": "code",
   "execution_count": 68,
   "id": "153fb55e-ba44-4e8a-b52d-b913dd9654d9",
   "metadata": {},
   "outputs": [
    {
     "data": {
      "text/html": [
       "<div>\n",
       "<style scoped>\n",
       "    .dataframe tbody tr th:only-of-type {\n",
       "        vertical-align: middle;\n",
       "    }\n",
       "\n",
       "    .dataframe tbody tr th {\n",
       "        vertical-align: top;\n",
       "    }\n",
       "\n",
       "    .dataframe thead th {\n",
       "        text-align: right;\n",
       "    }\n",
       "</style>\n",
       "<table border=\"1\" class=\"dataframe\">\n",
       "  <thead>\n",
       "    <tr style=\"text-align: right;\">\n",
       "      <th></th>\n",
       "      <th>user_id</th>\n",
       "      <th>price</th>\n",
       "      <th>price_nan</th>\n",
       "      <th>price_sc</th>\n",
       "      <th>cpe_manufacturer_name_enc</th>\n",
       "      <th>cpe_model_name_enc</th>\n",
       "      <th>cpe_type_cd_enc</th>\n",
       "      <th>cpe_model_os_type_enc</th>\n",
       "      <th>date</th>\n",
       "      <th>request_cnt</th>\n",
       "      <th>...</th>\n",
       "      <th>date_month</th>\n",
       "      <th>user_tr_count</th>\n",
       "      <th>min_date</th>\n",
       "      <th>max_date</th>\n",
       "      <th>s_count</th>\n",
       "      <th>split_data</th>\n",
       "      <th>age</th>\n",
       "      <th>is_male</th>\n",
       "      <th>diff_date_d</th>\n",
       "      <th>diff_date_m</th>\n",
       "    </tr>\n",
       "  </thead>\n",
       "  <tbody>\n",
       "    <tr>\n",
       "      <th>0</th>\n",
       "      <td>87</td>\n",
       "      <td>34990.0</td>\n",
       "      <td>0</td>\n",
       "      <td>0.094888</td>\n",
       "      <td>3</td>\n",
       "      <td>134</td>\n",
       "      <td>1</td>\n",
       "      <td>1</td>\n",
       "      <td>[2021-06-16T00:00:00.000000, 2021-06-16T00:00:...</td>\n",
       "      <td>[1, 1, 2, 1, 3, 1, 1, 3, 1, 1, 1, 3, 1, 1, 1, ...</td>\n",
       "      <td>...</td>\n",
       "      <td>[6, 6, 6, 6, 6, 6, 6, 6, 6, 6, 6, 6, 6, 6, 6, ...</td>\n",
       "      <td>1105</td>\n",
       "      <td>2021-06-16</td>\n",
       "      <td>2021-07-01</td>\n",
       "      <td>1105</td>\n",
       "      <td>fold_3</td>\n",
       "      <td>1.0</td>\n",
       "      <td>0.0</td>\n",
       "      <td>15.0</td>\n",
       "      <td>0.492823</td>\n",
       "    </tr>\n",
       "    <tr>\n",
       "      <th>1</th>\n",
       "      <td>182</td>\n",
       "      <td>7987.0</td>\n",
       "      <td>0</td>\n",
       "      <td>-0.961281</td>\n",
       "      <td>4</td>\n",
       "      <td>80</td>\n",
       "      <td>1</td>\n",
       "      <td>1</td>\n",
       "      <td>[2021-06-16T00:00:00.000000, 2021-06-16T00:00:...</td>\n",
       "      <td>[2, 2, 2, 3, 1, 2, 4, 2, 2, 2, 3, 5, 4, 1, 1, ...</td>\n",
       "      <td>...</td>\n",
       "      <td>[6, 6, 6, 6, 6, 6, 6, 6, 6, 6, 6, 6, 6, 6, 6, ...</td>\n",
       "      <td>1256</td>\n",
       "      <td>2021-06-16</td>\n",
       "      <td>2021-07-31</td>\n",
       "      <td>1256</td>\n",
       "      <td>fold_3</td>\n",
       "      <td>3.0</td>\n",
       "      <td>1.0</td>\n",
       "      <td>45.0</td>\n",
       "      <td>1.478470</td>\n",
       "    </tr>\n",
       "    <tr>\n",
       "      <th>2</th>\n",
       "      <td>215</td>\n",
       "      <td>56734.0</td>\n",
       "      <td>0</td>\n",
       "      <td>0.945363</td>\n",
       "      <td>1</td>\n",
       "      <td>2</td>\n",
       "      <td>1</td>\n",
       "      <td>2</td>\n",
       "      <td>[2022-02-23T00:00:00.000000, 2022-02-23T00:00:...</td>\n",
       "      <td>[1, 2, 1, 1, 1, 2, 3, 1, 1, 1, 1, 1, 1, 1, 1, ...</td>\n",
       "      <td>...</td>\n",
       "      <td>[2, 2, 2, 2, 2, 2, 2, 2, 2, 2, 2, 2, 2, 2, 2, ...</td>\n",
       "      <td>600</td>\n",
       "      <td>2022-02-23</td>\n",
       "      <td>2022-06-19</td>\n",
       "      <td>600</td>\n",
       "      <td>fold_3</td>\n",
       "      <td>6.0</td>\n",
       "      <td>1.0</td>\n",
       "      <td>116.0</td>\n",
       "      <td>3.811167</td>\n",
       "    </tr>\n",
       "    <tr>\n",
       "      <th>3</th>\n",
       "      <td>235</td>\n",
       "      <td>14938.0</td>\n",
       "      <td>0</td>\n",
       "      <td>-0.689406</td>\n",
       "      <td>4</td>\n",
       "      <td>51</td>\n",
       "      <td>1</td>\n",
       "      <td>1</td>\n",
       "      <td>[2021-06-16T00:00:00.000000, 2021-06-16T00:00:...</td>\n",
       "      <td>[4, 1, 1, 1, 4, 1, 1, 1, 1, 1, 1, 1, 1, 2, 2, ...</td>\n",
       "      <td>...</td>\n",
       "      <td>[6, 6, 6, 6, 6, 6, 6, 6, 6, 6, 6, 6, 6, 6, 6, ...</td>\n",
       "      <td>1005</td>\n",
       "      <td>2021-06-16</td>\n",
       "      <td>2021-08-26</td>\n",
       "      <td>1005</td>\n",
       "      <td>fold_3</td>\n",
       "      <td>3.0</td>\n",
       "      <td>1.0</td>\n",
       "      <td>71.0</td>\n",
       "      <td>2.332697</td>\n",
       "    </tr>\n",
       "    <tr>\n",
       "      <th>4</th>\n",
       "      <td>304</td>\n",
       "      <td>72387.0</td>\n",
       "      <td>0</td>\n",
       "      <td>1.557599</td>\n",
       "      <td>1</td>\n",
       "      <td>9</td>\n",
       "      <td>1</td>\n",
       "      <td>2</td>\n",
       "      <td>[2021-06-16T00:00:00.000000, 2021-06-16T00:00:...</td>\n",
       "      <td>[1, 1, 3, 1, 2, 2, 1, 1, 1, 1, 3, 1, 3, 1, 1, ...</td>\n",
       "      <td>...</td>\n",
       "      <td>[6, 6, 6, 6, 6, 6, 6, 6, 6, 6, 6, 6, 6, 6, 6, ...</td>\n",
       "      <td>2125</td>\n",
       "      <td>2021-06-16</td>\n",
       "      <td>2021-07-28</td>\n",
       "      <td>2125</td>\n",
       "      <td>fold_3</td>\n",
       "      <td>1.0</td>\n",
       "      <td>1.0</td>\n",
       "      <td>42.0</td>\n",
       "      <td>1.379905</td>\n",
       "    </tr>\n",
       "    <tr>\n",
       "      <th>...</th>\n",
       "      <td>...</td>\n",
       "      <td>...</td>\n",
       "      <td>...</td>\n",
       "      <td>...</td>\n",
       "      <td>...</td>\n",
       "      <td>...</td>\n",
       "      <td>...</td>\n",
       "      <td>...</td>\n",
       "      <td>...</td>\n",
       "      <td>...</td>\n",
       "      <td>...</td>\n",
       "      <td>...</td>\n",
       "      <td>...</td>\n",
       "      <td>...</td>\n",
       "      <td>...</td>\n",
       "      <td>...</td>\n",
       "      <td>...</td>\n",
       "      <td>...</td>\n",
       "      <td>...</td>\n",
       "      <td>...</td>\n",
       "      <td>...</td>\n",
       "    </tr>\n",
       "    <tr>\n",
       "      <th>52690</th>\n",
       "      <td>414930</td>\n",
       "      <td>35748.0</td>\n",
       "      <td>0</td>\n",
       "      <td>0.119159</td>\n",
       "      <td>1</td>\n",
       "      <td>3</td>\n",
       "      <td>1</td>\n",
       "      <td>2</td>\n",
       "      <td>[2021-06-16T00:00:00.000000, 2021-06-16T00:00:...</td>\n",
       "      <td>[2, 1, 2, 3, 4, 2, 3, 3, 2, 3, 3, 1, 1, 6, 1, ...</td>\n",
       "      <td>...</td>\n",
       "      <td>[6, 6, 6, 6, 6, 6, 6, 6, 6, 6, 6, 6, 6, 6, 6, ...</td>\n",
       "      <td>142</td>\n",
       "      <td>2021-06-16</td>\n",
       "      <td>2021-06-28</td>\n",
       "      <td>142</td>\n",
       "      <td>fold_3</td>\n",
       "      <td>5.0</td>\n",
       "      <td>0.0</td>\n",
       "      <td>12.0</td>\n",
       "      <td>0.394259</td>\n",
       "    </tr>\n",
       "    <tr>\n",
       "      <th>52691</th>\n",
       "      <td>414984</td>\n",
       "      <td>13063.0</td>\n",
       "      <td>0</td>\n",
       "      <td>-0.760609</td>\n",
       "      <td>4</td>\n",
       "      <td>99</td>\n",
       "      <td>1</td>\n",
       "      <td>1</td>\n",
       "      <td>[2021-06-19T00:00:00.000000, 2021-06-20T00:00:...</td>\n",
       "      <td>[1, 1, 1, 1, 2, 2, 1, 1, 1, 2, 1, 2, 1, 2, 2, ...</td>\n",
       "      <td>...</td>\n",
       "      <td>[6, 6, 6, 6, 6, 6, 6, 6, 6, 6, 6, 6, 6, 6, 6, ...</td>\n",
       "      <td>63</td>\n",
       "      <td>2021-06-19</td>\n",
       "      <td>2021-07-14</td>\n",
       "      <td>63</td>\n",
       "      <td>fold_3</td>\n",
       "      <td>4.0</td>\n",
       "      <td>0.0</td>\n",
       "      <td>25.0</td>\n",
       "      <td>0.821372</td>\n",
       "    </tr>\n",
       "    <tr>\n",
       "      <th>52692</th>\n",
       "      <td>415084</td>\n",
       "      <td>7786.0</td>\n",
       "      <td>0</td>\n",
       "      <td>-0.965262</td>\n",
       "      <td>3</td>\n",
       "      <td>39</td>\n",
       "      <td>1</td>\n",
       "      <td>1</td>\n",
       "      <td>[2021-06-25T00:00:00.000000, 2021-06-25T00:00:...</td>\n",
       "      <td>[1, 1, 1, 1, 1, 1, 1, 1, 1, 1, 1, 1, 1, 1]</td>\n",
       "      <td>...</td>\n",
       "      <td>[6, 6, 7, 7, 7, 7, 7, 7, 7, 7, 7, 7, 7, 7]</td>\n",
       "      <td>14</td>\n",
       "      <td>2021-06-25</td>\n",
       "      <td>2021-07-29</td>\n",
       "      <td>14</td>\n",
       "      <td>fold_3</td>\n",
       "      <td>4.0</td>\n",
       "      <td>1.0</td>\n",
       "      <td>34.0</td>\n",
       "      <td>1.117066</td>\n",
       "    </tr>\n",
       "    <tr>\n",
       "      <th>52693</th>\n",
       "      <td>415188</td>\n",
       "      <td>13990.0</td>\n",
       "      <td>0</td>\n",
       "      <td>-0.724658</td>\n",
       "      <td>3</td>\n",
       "      <td>121</td>\n",
       "      <td>1</td>\n",
       "      <td>1</td>\n",
       "      <td>[2021-06-16T00:00:00.000000, 2021-06-16T00:00:...</td>\n",
       "      <td>[2, 1, 1, 1, 1, 1, 1, 1, 1, 1, 1, 1]</td>\n",
       "      <td>...</td>\n",
       "      <td>[6, 6, 6, 6, 6, 6, 6, 6, 6, 6, 6, 6]</td>\n",
       "      <td>12</td>\n",
       "      <td>2021-06-16</td>\n",
       "      <td>2021-06-16</td>\n",
       "      <td>12</td>\n",
       "      <td>fold_3</td>\n",
       "      <td>5.0</td>\n",
       "      <td>1.0</td>\n",
       "      <td>0.0</td>\n",
       "      <td>0.000000</td>\n",
       "    </tr>\n",
       "    <tr>\n",
       "      <th>52694</th>\n",
       "      <td>415304</td>\n",
       "      <td>11990.0</td>\n",
       "      <td>0</td>\n",
       "      <td>-0.802222</td>\n",
       "      <td>2</td>\n",
       "      <td>128</td>\n",
       "      <td>1</td>\n",
       "      <td>1</td>\n",
       "      <td>[2021-06-16T00:00:00.000000, 2021-06-16T00:00:...</td>\n",
       "      <td>[1, 1]</td>\n",
       "      <td>...</td>\n",
       "      <td>[6, 6]</td>\n",
       "      <td>2</td>\n",
       "      <td>2021-06-16</td>\n",
       "      <td>2021-06-16</td>\n",
       "      <td>2</td>\n",
       "      <td>fold_3</td>\n",
       "      <td>2.0</td>\n",
       "      <td>0.0</td>\n",
       "      <td>0.0</td>\n",
       "      <td>0.000000</td>\n",
       "    </tr>\n",
       "  </tbody>\n",
       "</table>\n",
       "<p>52695 rows × 26 columns</p>\n",
       "</div>"
      ],
      "text/plain": [
       "       user_id    price  price_nan  price_sc  cpe_manufacturer_name_enc  \\\n",
       "0           87  34990.0          0  0.094888                          3   \n",
       "1          182   7987.0          0 -0.961281                          4   \n",
       "2          215  56734.0          0  0.945363                          1   \n",
       "3          235  14938.0          0 -0.689406                          4   \n",
       "4          304  72387.0          0  1.557599                          1   \n",
       "...        ...      ...        ...       ...                        ...   \n",
       "52690   414930  35748.0          0  0.119159                          1   \n",
       "52691   414984  13063.0          0 -0.760609                          4   \n",
       "52692   415084   7786.0          0 -0.965262                          3   \n",
       "52693   415188  13990.0          0 -0.724658                          3   \n",
       "52694   415304  11990.0          0 -0.802222                          2   \n",
       "\n",
       "       cpe_model_name_enc  cpe_type_cd_enc  cpe_model_os_type_enc  \\\n",
       "0                     134                1                      1   \n",
       "1                      80                1                      1   \n",
       "2                       2                1                      2   \n",
       "3                      51                1                      1   \n",
       "4                       9                1                      2   \n",
       "...                   ...              ...                    ...   \n",
       "52690                   3                1                      2   \n",
       "52691                  99                1                      1   \n",
       "52692                  39                1                      1   \n",
       "52693                 121                1                      1   \n",
       "52694                 128                1                      1   \n",
       "\n",
       "                                                    date  \\\n",
       "0      [2021-06-16T00:00:00.000000, 2021-06-16T00:00:...   \n",
       "1      [2021-06-16T00:00:00.000000, 2021-06-16T00:00:...   \n",
       "2      [2022-02-23T00:00:00.000000, 2022-02-23T00:00:...   \n",
       "3      [2021-06-16T00:00:00.000000, 2021-06-16T00:00:...   \n",
       "4      [2021-06-16T00:00:00.000000, 2021-06-16T00:00:...   \n",
       "...                                                  ...   \n",
       "52690  [2021-06-16T00:00:00.000000, 2021-06-16T00:00:...   \n",
       "52691  [2021-06-19T00:00:00.000000, 2021-06-20T00:00:...   \n",
       "52692  [2021-06-25T00:00:00.000000, 2021-06-25T00:00:...   \n",
       "52693  [2021-06-16T00:00:00.000000, 2021-06-16T00:00:...   \n",
       "52694  [2021-06-16T00:00:00.000000, 2021-06-16T00:00:...   \n",
       "\n",
       "                                             request_cnt  ...  \\\n",
       "0      [1, 1, 2, 1, 3, 1, 1, 3, 1, 1, 1, 3, 1, 1, 1, ...  ...   \n",
       "1      [2, 2, 2, 3, 1, 2, 4, 2, 2, 2, 3, 5, 4, 1, 1, ...  ...   \n",
       "2      [1, 2, 1, 1, 1, 2, 3, 1, 1, 1, 1, 1, 1, 1, 1, ...  ...   \n",
       "3      [4, 1, 1, 1, 4, 1, 1, 1, 1, 1, 1, 1, 1, 2, 2, ...  ...   \n",
       "4      [1, 1, 3, 1, 2, 2, 1, 1, 1, 1, 3, 1, 3, 1, 1, ...  ...   \n",
       "...                                                  ...  ...   \n",
       "52690  [2, 1, 2, 3, 4, 2, 3, 3, 2, 3, 3, 1, 1, 6, 1, ...  ...   \n",
       "52691  [1, 1, 1, 1, 2, 2, 1, 1, 1, 2, 1, 2, 1, 2, 2, ...  ...   \n",
       "52692         [1, 1, 1, 1, 1, 1, 1, 1, 1, 1, 1, 1, 1, 1]  ...   \n",
       "52693               [2, 1, 1, 1, 1, 1, 1, 1, 1, 1, 1, 1]  ...   \n",
       "52694                                             [1, 1]  ...   \n",
       "\n",
       "                                              date_month user_tr_count  \\\n",
       "0      [6, 6, 6, 6, 6, 6, 6, 6, 6, 6, 6, 6, 6, 6, 6, ...          1105   \n",
       "1      [6, 6, 6, 6, 6, 6, 6, 6, 6, 6, 6, 6, 6, 6, 6, ...          1256   \n",
       "2      [2, 2, 2, 2, 2, 2, 2, 2, 2, 2, 2, 2, 2, 2, 2, ...           600   \n",
       "3      [6, 6, 6, 6, 6, 6, 6, 6, 6, 6, 6, 6, 6, 6, 6, ...          1005   \n",
       "4      [6, 6, 6, 6, 6, 6, 6, 6, 6, 6, 6, 6, 6, 6, 6, ...          2125   \n",
       "...                                                  ...           ...   \n",
       "52690  [6, 6, 6, 6, 6, 6, 6, 6, 6, 6, 6, 6, 6, 6, 6, ...           142   \n",
       "52691  [6, 6, 6, 6, 6, 6, 6, 6, 6, 6, 6, 6, 6, 6, 6, ...            63   \n",
       "52692         [6, 6, 7, 7, 7, 7, 7, 7, 7, 7, 7, 7, 7, 7]            14   \n",
       "52693               [6, 6, 6, 6, 6, 6, 6, 6, 6, 6, 6, 6]            12   \n",
       "52694                                             [6, 6]             2   \n",
       "\n",
       "         min_date    max_date s_count split_data  age  is_male diff_date_d  \\\n",
       "0      2021-06-16  2021-07-01    1105     fold_3  1.0      0.0        15.0   \n",
       "1      2021-06-16  2021-07-31    1256     fold_3  3.0      1.0        45.0   \n",
       "2      2022-02-23  2022-06-19     600     fold_3  6.0      1.0       116.0   \n",
       "3      2021-06-16  2021-08-26    1005     fold_3  3.0      1.0        71.0   \n",
       "4      2021-06-16  2021-07-28    2125     fold_3  1.0      1.0        42.0   \n",
       "...           ...         ...     ...        ...  ...      ...         ...   \n",
       "52690  2021-06-16  2021-06-28     142     fold_3  5.0      0.0        12.0   \n",
       "52691  2021-06-19  2021-07-14      63     fold_3  4.0      0.0        25.0   \n",
       "52692  2021-06-25  2021-07-29      14     fold_3  4.0      1.0        34.0   \n",
       "52693  2021-06-16  2021-06-16      12     fold_3  5.0      1.0         0.0   \n",
       "52694  2021-06-16  2021-06-16       2     fold_3  2.0      0.0         0.0   \n",
       "\n",
       "      diff_date_m  \n",
       "0        0.492823  \n",
       "1        1.478470  \n",
       "2        3.811167  \n",
       "3        2.332697  \n",
       "4        1.379905  \n",
       "...           ...  \n",
       "52690    0.394259  \n",
       "52691    0.821372  \n",
       "52692    1.117066  \n",
       "52693    0.000000  \n",
       "52694    0.000000  \n",
       "\n",
       "[52695 rows x 26 columns]"
      ]
     },
     "execution_count": 68,
     "metadata": {},
     "output_type": "execute_result"
    }
   ],
   "source": [
    "f3"
   ]
  },
  {
   "cell_type": "code",
   "execution_count": 9,
   "id": "47480b59-74d9-419f-804a-7092e3d6722d",
   "metadata": {},
   "outputs": [],
   "source": [
    "data = pd.read_parquet(pqs_path_list[0])"
   ]
  },
  {
   "cell_type": "code",
   "execution_count": 10,
   "id": "f789cb75-3747-4eda-a061-2e914e1de795",
   "metadata": {},
   "outputs": [
    {
     "data": {
      "text/plain": [
       "[PosixPath('/home/evorsin/DS/mts_23/data/encoded_data/part_1.parquet'),\n",
       " PosixPath('/home/evorsin/DS/mts_23/data/encoded_data/part_2.parquet'),\n",
       " PosixPath('/home/evorsin/DS/mts_23/data/encoded_data/part_3.parquet'),\n",
       " PosixPath('/home/evorsin/DS/mts_23/data/encoded_data/part_4.parquet'),\n",
       " PosixPath('/home/evorsin/DS/mts_23/data/encoded_data/part_5.parquet'),\n",
       " PosixPath('/home/evorsin/DS/mts_23/data/encoded_data/part_6.parquet'),\n",
       " PosixPath('/home/evorsin/DS/mts_23/data/encoded_data/part_7.parquet'),\n",
       " PosixPath('/home/evorsin/DS/mts_23/data/encoded_data/part_8.parquet'),\n",
       " PosixPath('/home/evorsin/DS/mts_23/data/encoded_data/part_9.parquet')]"
      ]
     },
     "execution_count": 10,
     "metadata": {},
     "output_type": "execute_result"
    }
   ],
   "source": [
    "pqs_path_list[1:]"
   ]
  },
  {
   "cell_type": "code",
   "execution_count": 11,
   "id": "4a97539c-1d0c-444a-86c1-12ce7ff97bce",
   "metadata": {},
   "outputs": [],
   "source": [
    "import gc"
   ]
  },
  {
   "cell_type": "code",
   "execution_count": 12,
   "id": "fb4ca19f-a3a1-4dcd-9c2f-f49e21a4de16",
   "metadata": {},
   "outputs": [],
   "source": [
    "for p in pqs_path_list[1:]:\n",
    "    t_d = pd.read_parquet(p)\n",
    "    data=pd.concat([data,t_d], ignore_index=True)\n",
    "    del t_d\n",
    "    gc.collect()\n"
   ]
  },
  {
   "cell_type": "code",
   "execution_count": 13,
   "id": "d97ca1c5-1b22-404a-a1f7-f76c10933dbf",
   "metadata": {},
   "outputs": [
    {
     "data": {
      "text/plain": [
       "(322899435, 17)"
      ]
     },
     "execution_count": 13,
     "metadata": {},
     "output_type": "execute_result"
    }
   ],
   "source": [
    "data.shape"
   ]
  },
  {
   "cell_type": "code",
   "execution_count": 15,
   "id": "f55183bf-df9c-489c-af82-6b0284c7b1d7",
   "metadata": {},
   "outputs": [
    {
     "name": "stdout",
     "output_type": "stream",
     "text": [
      "<class 'pandas.core.frame.DataFrame'>\n",
      "RangeIndex: 322899435 entries, 0 to 322899434\n",
      "Data columns (total 17 columns):\n",
      " #   Column                     Dtype         \n",
      "---  ------                     -----         \n",
      " 0   price                      float32       \n",
      " 1   date                       datetime64[ns]\n",
      " 2   request_cnt                int16         \n",
      " 3   user_id                    int32         \n",
      " 4   price_nan                  int16         \n",
      " 5   price_sc                   float32       \n",
      " 6   region_name_enc            int16         \n",
      " 7   city_name_enc              int16         \n",
      " 8   cpe_manufacturer_name_enc  int16         \n",
      " 9   cpe_model_name_enc         int16         \n",
      " 10  url_host_enc               int32         \n",
      " 11  cpe_type_cd_enc            int16         \n",
      " 12  cpe_model_os_type_enc      int16         \n",
      " 13  part_of_day_enc            int16         \n",
      " 14  date_dow                   int16         \n",
      " 15  date_day                   int16         \n",
      " 16  date_month                 int16         \n",
      "dtypes: datetime64[ns](1), float32(2), int16(12), int32(2)\n",
      "memory usage: 14.4 GB\n"
     ]
    }
   ],
   "source": [
    "data.info()"
   ]
  },
  {
   "cell_type": "code",
   "execution_count": 1,
   "id": "59d1a9f0-c809-4786-bc64-841035021ed6",
   "metadata": {},
   "outputs": [
    {
     "data": {
      "text/plain": [
       "488.28125"
      ]
     },
     "execution_count": 1,
     "metadata": {},
     "output_type": "execute_result"
    }
   ],
   "source": [
    "250000/512"
   ]
  },
  {
   "cell_type": "code",
   "execution_count": null,
   "id": "35d283b5-29a5-495b-ae05-ef49d4dd357d",
   "metadata": {},
   "outputs": [],
   "source": []
  }
 ],
 "metadata": {
  "kernelspec": {
   "display_name": "Python 3 (ipykernel)",
   "language": "python",
   "name": "python3"
  },
  "language_info": {
   "codemirror_mode": {
    "name": "ipython",
    "version": 3
   },
   "file_extension": ".py",
   "mimetype": "text/x-python",
   "name": "python",
   "nbconvert_exporter": "python",
   "pygments_lexer": "ipython3",
   "version": "3.8.12"
  }
 },
 "nbformat": 4,
 "nbformat_minor": 5
}
