{
 "cells": [
  {
   "cell_type": "code",
   "execution_count": 1,
   "id": "3e0c8037-0c6e-41fc-a623-33c9c23723f9",
   "metadata": {},
   "outputs": [],
   "source": [
    "%load_ext autoreload"
   ]
  },
  {
   "cell_type": "code",
   "execution_count": null,
   "id": "48f620dd-a0c9-43a6-b0a2-4b22a27b8fba",
   "metadata": {},
   "outputs": [],
   "source": [
    "%autoreload 2"
   ]
  },
  {
   "cell_type": "markdown",
   "id": "84b14e98-6a1d-484b-8bf0-19dd23ec1a5f",
   "metadata": {},
   "source": [
    "# Make simple data in spec format"
   ]
  },
  {
   "cell_type": "code",
   "execution_count": null,
   "id": "62f85826-dcb8-4958-a6dc-faf79ef973f3",
   "metadata": {},
   "outputs": [],
   "source": [
    "import pandas as pd\n",
    "import numpy as np"
   ]
  },
  {
   "cell_type": "code",
   "execution_count": null,
   "id": "d06527d5-d776-49fb-936a-d71cb7d0d802",
   "metadata": {},
   "outputs": [],
   "source": [
    "np.random.choice(list(range(1,100)),size=np.random.randint(1,30)).tolist()"
   ]
  },
  {
   "cell_type": "code",
   "execution_count": null,
   "id": "a325abe5-2678-4666-abd5-ddaf38c1e7c0",
   "metadata": {},
   "outputs": [],
   "source": [
    "data1 = {'user_id':list(range(71,81))\\\n",
    "         ,'seq_1':[np.random.choice(list(range(1,100)),size=np.random.randint(1,30)).tolist() for _ in range(10)]}\n",
    "\n",
    "data1 = pd.DataFrame(data1)\n",
    "\n",
    "data1['seq_sort']=data1.seq_1.str.len()\n",
    "\n",
    "data1['seq_sort'] = [list(range(1, l+1) )for l in data1['seq_sort']]\n"
   ]
  },
  {
   "cell_type": "code",
   "execution_count": null,
   "id": "5e87d0e8-6e39-4ffc-a1f0-59af91e5d2f9",
   "metadata": {},
   "outputs": [],
   "source": [
    "data1.head(2)"
   ]
  },
  {
   "cell_type": "code",
   "execution_count": null,
   "id": "f7e753a9-af80-4657-a6d5-8c589ed27e7d",
   "metadata": {},
   "outputs": [],
   "source": [
    "data1.to_parquet('/Users/ltorrick/DS/pqt_dataset/data/pq8.parquet',index=False)"
   ]
  },
  {
   "cell_type": "code",
   "execution_count": null,
   "id": "f939c167-9c19-4117-8ca6-d0925b90d5d2",
   "metadata": {},
   "outputs": [],
   "source": [
    "pd.read_parquet('/Users/ltorrick/DS/pqt_dataset/data/')"
   ]
  },
  {
   "cell_type": "code",
   "execution_count": null,
   "id": "3f8c48fc-8010-482a-b53c-415a6ed484a5",
   "metadata": {},
   "outputs": [],
   "source": [
    "import pathlib"
   ]
  },
  {
   "cell_type": "code",
   "execution_count": null,
   "id": "2e4a3da5-9a47-4cb8-98b3-6ad77ca1ed2a",
   "metadata": {},
   "outputs": [],
   "source": [
    "data_path = pathlib.Path('/Users/ltorrick/DS/pqt_dataset/data/')\n",
    "url_list = [item for item in data_path.iterdir() if not item.is_dir()]\n",
    "url_list = [item.as_uri()  for item in url_list if str(item).endswith('parquet')]"
   ]
  },
  {
   "cell_type": "code",
   "execution_count": null,
   "id": "53cbf8e4-942e-49bc-ae91-413c3778e050",
   "metadata": {},
   "outputs": [],
   "source": [
    "import pandas as pd"
   ]
  },
  {
   "cell_type": "code",
   "execution_count": null,
   "id": "ec6ff352-0bdd-4b32-a182-b2a8d7683f8b",
   "metadata": {},
   "outputs": [],
   "source": [
    "for ur in url_list:\n",
    "    df = pd.read_parquet(ur)   \n",
    "    df['user_tr_count'] = df.seq_1.str.len()\n",
    "    df['seq_2_emb'] = df['seq_1']*2\n",
    "    df['target'] =1  \n",
    "    df['item_id'] =df['seq_sort']*2\n",
    "    #df['score_dt_border'] = '2022-01-01'\n",
    "    df['score_dt_border'] = [['2022-01-01']*l for l in df['user_tr_count']]\n",
    "    df.to_parquet(ur,index=False)"
   ]
  },
  {
   "cell_type": "code",
   "execution_count": null,
   "id": "046a2788-04f5-47a0-9662-416161c33a7b",
   "metadata": {},
   "outputs": [],
   "source": [
    "df = pd.read_parquet(ur) "
   ]
  },
  {
   "cell_type": "code",
   "execution_count": null,
   "id": "19652f0e-076f-4e09-8f50-7b7565a57f4b",
   "metadata": {},
   "outputs": [],
   "source": [
    "df"
   ]
  },
  {
   "cell_type": "code",
   "execution_count": null,
   "id": "9c10ac36-8e4a-4b70-9387-2bc403c3367e",
   "metadata": {},
   "outputs": [],
   "source": [
    "url_list"
   ]
  },
  {
   "cell_type": "code",
   "execution_count": null,
   "id": "4a0d25c1-45db-4e80-ba6b-87619cf737ae",
   "metadata": {},
   "outputs": [],
   "source": [
    "!pip install webdataset==0.1.62"
   ]
  },
  {
   "cell_type": "code",
   "execution_count": null,
   "id": "56cf511f-4202-457a-8d2a-7d0ec24ebb58",
   "metadata": {},
   "outputs": [],
   "source": [
    "from contextlib import contextmanager"
   ]
  },
  {
   "cell_type": "code",
   "execution_count": null,
   "id": "8f7639a5-1815-47ae-a258-5b32f3d39a23",
   "metadata": {},
   "outputs": [],
   "source": [
    "import urllib.parse"
   ]
  },
  {
   "cell_type": "code",
   "execution_count": null,
   "id": "14c8fe14-cd98-4506-912e-49fe2f4994b1",
   "metadata": {},
   "outputs": [],
   "source": [
    "url ='/Users/ltorrick/DS/pqt_dataset/data/pq8.parquet'"
   ]
  },
  {
   "cell_type": "code",
   "execution_count": null,
   "id": "7737fa6b-a52c-4a86-8c56-84663f911555",
   "metadata": {},
   "outputs": [],
   "source": [
    "url2 ='hdfs:///Users/ltorrick/DS/pqt_dataset/data/pq8.parquet'"
   ]
  },
  {
   "cell_type": "code",
   "execution_count": null,
   "id": "bc6a9c5a-1c49-42f1-b821-474cf3ad390f",
   "metadata": {},
   "outputs": [],
   "source": [
    "uri = urllib.parse.urlparse(url, scheme=\"file\", allow_fragments=False)"
   ]
  },
  {
   "cell_type": "code",
   "execution_count": null,
   "id": "4915ddf9-82b6-4df7-8dbc-96a9528aaa48",
   "metadata": {},
   "outputs": [],
   "source": [
    "uri2 = urllib.parse.urlparse(url2, scheme=\"file\", allow_fragments=False)"
   ]
  },
  {
   "cell_type": "code",
   "execution_count": null,
   "id": "57144e47-1315-4cc0-8422-1573568ebd4d",
   "metadata": {},
   "outputs": [],
   "source": [
    "uri2"
   ]
  },
  {
   "cell_type": "code",
   "execution_count": null,
   "id": "4ad63f60-c1fa-4aa3-a90f-e26d097054e6",
   "metadata": {},
   "outputs": [],
   "source": [
    "uri.scheme in 'file'"
   ]
  },
  {
   "cell_type": "code",
   "execution_count": 2,
   "id": "0101d937-8bd9-4e4d-b6af-cfd99d8b05f1",
   "metadata": {},
   "outputs": [],
   "source": [
    "import sys\n",
    "sys.path.append('/Users/ltorrick/DS/')"
   ]
  },
  {
   "cell_type": "code",
   "execution_count": 3,
   "id": "5c0947f3-656d-44ae-bcd3-f538103de997",
   "metadata": {},
   "outputs": [],
   "source": [
    "from pqt_dataset.utils.functions import Args, base_conf"
   ]
  },
  {
   "cell_type": "code",
   "execution_count": 4,
   "id": "7e12e261-0ff7-438b-958e-55ca1578be68",
   "metadata": {},
   "outputs": [],
   "source": [
    "params = Args(**base_conf)"
   ]
  },
  {
   "cell_type": "markdown",
   "id": "5524226a-fef6-4eab-9f2a-fc5e5c0b1d89",
   "metadata": {},
   "source": [
    "# Батч тест"
   ]
  },
  {
   "cell_type": "code",
   "execution_count": 15,
   "id": "26f5fe28-65ef-4a8f-a76b-625d4923525e",
   "metadata": {},
   "outputs": [],
   "source": [
    "import pandas as pd"
   ]
  },
  {
   "cell_type": "code",
   "execution_count": 63,
   "id": "29bdd339-6583-4ef8-8569-76d569b4ba92",
   "metadata": {},
   "outputs": [
    {
     "data": {
      "text/html": [
       "<div>\n",
       "<style scoped>\n",
       "    .dataframe tbody tr th:only-of-type {\n",
       "        vertical-align: middle;\n",
       "    }\n",
       "\n",
       "    .dataframe tbody tr th {\n",
       "        vertical-align: top;\n",
       "    }\n",
       "\n",
       "    .dataframe thead th {\n",
       "        text-align: right;\n",
       "    }\n",
       "</style>\n",
       "<table border=\"1\" class=\"dataframe\">\n",
       "  <thead>\n",
       "    <tr style=\"text-align: right;\">\n",
       "      <th></th>\n",
       "      <th>user_id</th>\n",
       "      <th>seq_1</th>\n",
       "      <th>seq_sort</th>\n",
       "      <th>user_tr_count</th>\n",
       "      <th>target</th>\n",
       "      <th>seq_2_emb</th>\n",
       "      <th>item_id</th>\n",
       "      <th>score_dt_border</th>\n",
       "    </tr>\n",
       "  </thead>\n",
       "  <tbody>\n",
       "    <tr>\n",
       "      <th>0</th>\n",
       "      <td>1</td>\n",
       "      <td>[80, 73, 57, 36, 48, 71, 65, 37, 98, 29, 59]</td>\n",
       "      <td>[1, 2, 3, 4, 5, 6, 7, 8, 9, 10, 11]</td>\n",
       "      <td>11</td>\n",
       "      <td>1</td>\n",
       "      <td>[160, 146, 114, 72, 96, 142, 130, 74, 196, 58,...</td>\n",
       "      <td>[2, 4, 6, 8, 10, 12, 14, 16, 18, 20, 22]</td>\n",
       "      <td>[2022-01-01, 2022-01-01, 2022-01-01, 2022-01-0...</td>\n",
       "    </tr>\n",
       "    <tr>\n",
       "      <th>1</th>\n",
       "      <td>2</td>\n",
       "      <td>[42, 25, 24, 7, 62, 30, 10, 41, 81, 70, 26, 24...</td>\n",
       "      <td>[1, 2, 3, 4, 5, 6, 7, 8, 9, 10, 11, 12, 13, 14...</td>\n",
       "      <td>15</td>\n",
       "      <td>1</td>\n",
       "      <td>[84, 50, 48, 14, 124, 60, 20, 82, 162, 140, 52...</td>\n",
       "      <td>[2, 4, 6, 8, 10, 12, 14, 16, 18, 20, 22, 24, 2...</td>\n",
       "      <td>[2022-01-01, 2022-01-01, 2022-01-01, 2022-01-0...</td>\n",
       "    </tr>\n",
       "    <tr>\n",
       "      <th>2</th>\n",
       "      <td>3</td>\n",
       "      <td>[63, 51, 79, 71, 15, 21, 79, 40, 25, 41, 54, 8...</td>\n",
       "      <td>[1, 2, 3, 4, 5, 6, 7, 8, 9, 10, 11, 12, 13, 14...</td>\n",
       "      <td>15</td>\n",
       "      <td>1</td>\n",
       "      <td>[126, 102, 158, 142, 30, 42, 158, 80, 50, 82, ...</td>\n",
       "      <td>[2, 4, 6, 8, 10, 12, 14, 16, 18, 20, 22, 24, 2...</td>\n",
       "      <td>[2022-01-01, 2022-01-01, 2022-01-01, 2022-01-0...</td>\n",
       "    </tr>\n",
       "    <tr>\n",
       "      <th>3</th>\n",
       "      <td>4</td>\n",
       "      <td>[98, 40, 89, 66, 83]</td>\n",
       "      <td>[1, 2, 3, 4, 5]</td>\n",
       "      <td>5</td>\n",
       "      <td>1</td>\n",
       "      <td>[196, 80, 178, 132, 166]</td>\n",
       "      <td>[2, 4, 6, 8, 10]</td>\n",
       "      <td>[2022-01-01, 2022-01-01, 2022-01-01, 2022-01-0...</td>\n",
       "    </tr>\n",
       "    <tr>\n",
       "      <th>4</th>\n",
       "      <td>5</td>\n",
       "      <td>[25, 51, 29, 55, 96, 76, 8, 70, 21, 71, 99, 93...</td>\n",
       "      <td>[1, 2, 3, 4, 5, 6, 7, 8, 9, 10, 11, 12, 13, 14...</td>\n",
       "      <td>24</td>\n",
       "      <td>1</td>\n",
       "      <td>[50, 102, 58, 110, 192, 152, 16, 140, 42, 142,...</td>\n",
       "      <td>[2, 4, 6, 8, 10, 12, 14, 16, 18, 20, 22, 24, 2...</td>\n",
       "      <td>[2022-01-01, 2022-01-01, 2022-01-01, 2022-01-0...</td>\n",
       "    </tr>\n",
       "    <tr>\n",
       "      <th>5</th>\n",
       "      <td>6</td>\n",
       "      <td>[89, 90, 72, 37, 41, 85, 93, 88, 15, 48]</td>\n",
       "      <td>[1, 2, 3, 4, 5, 6, 7, 8, 9, 10]</td>\n",
       "      <td>10</td>\n",
       "      <td>1</td>\n",
       "      <td>[178, 180, 144, 74, 82, 170, 186, 176, 30, 96]</td>\n",
       "      <td>[2, 4, 6, 8, 10, 12, 14, 16, 18, 20]</td>\n",
       "      <td>[2022-01-01, 2022-01-01, 2022-01-01, 2022-01-0...</td>\n",
       "    </tr>\n",
       "    <tr>\n",
       "      <th>6</th>\n",
       "      <td>7</td>\n",
       "      <td>[54, 99, 17, 77, 6, 91, 17, 83, 33, 53, 29, 42...</td>\n",
       "      <td>[1, 2, 3, 4, 5, 6, 7, 8, 9, 10, 11, 12, 13, 14...</td>\n",
       "      <td>17</td>\n",
       "      <td>1</td>\n",
       "      <td>[108, 198, 34, 154, 12, 182, 34, 166, 66, 106,...</td>\n",
       "      <td>[2, 4, 6, 8, 10, 12, 14, 16, 18, 20, 22, 24, 2...</td>\n",
       "      <td>[2022-01-01, 2022-01-01, 2022-01-01, 2022-01-0...</td>\n",
       "    </tr>\n",
       "    <tr>\n",
       "      <th>7</th>\n",
       "      <td>8</td>\n",
       "      <td>[4]</td>\n",
       "      <td>[1]</td>\n",
       "      <td>1</td>\n",
       "      <td>1</td>\n",
       "      <td>[8]</td>\n",
       "      <td>[2]</td>\n",
       "      <td>[2022-01-01]</td>\n",
       "    </tr>\n",
       "    <tr>\n",
       "      <th>8</th>\n",
       "      <td>9</td>\n",
       "      <td>[32, 51, 12, 75, 82, 68, 57, 7, 80, 55, 23, 83...</td>\n",
       "      <td>[1, 2, 3, 4, 5, 6, 7, 8, 9, 10, 11, 12, 13, 14...</td>\n",
       "      <td>24</td>\n",
       "      <td>1</td>\n",
       "      <td>[64, 102, 24, 150, 164, 136, 114, 14, 160, 110...</td>\n",
       "      <td>[2, 4, 6, 8, 10, 12, 14, 16, 18, 20, 22, 24, 2...</td>\n",
       "      <td>[2022-01-01, 2022-01-01, 2022-01-01, 2022-01-0...</td>\n",
       "    </tr>\n",
       "    <tr>\n",
       "      <th>9</th>\n",
       "      <td>10</td>\n",
       "      <td>[63, 39, 61, 59, 82, 39, 89, 28, 63, 2, 66, 26...</td>\n",
       "      <td>[1, 2, 3, 4, 5, 6, 7, 8, 9, 10, 11, 12, 13, 14...</td>\n",
       "      <td>22</td>\n",
       "      <td>1</td>\n",
       "      <td>[126, 78, 122, 118, 164, 78, 178, 56, 126, 4, ...</td>\n",
       "      <td>[2, 4, 6, 8, 10, 12, 14, 16, 18, 20, 22, 24, 2...</td>\n",
       "      <td>[2022-01-01, 2022-01-01, 2022-01-01, 2022-01-0...</td>\n",
       "    </tr>\n",
       "  </tbody>\n",
       "</table>\n",
       "</div>"
      ],
      "text/plain": [
       "   user_id                                              seq_1  \\\n",
       "0        1       [80, 73, 57, 36, 48, 71, 65, 37, 98, 29, 59]   \n",
       "1        2  [42, 25, 24, 7, 62, 30, 10, 41, 81, 70, 26, 24...   \n",
       "2        3  [63, 51, 79, 71, 15, 21, 79, 40, 25, 41, 54, 8...   \n",
       "3        4                               [98, 40, 89, 66, 83]   \n",
       "4        5  [25, 51, 29, 55, 96, 76, 8, 70, 21, 71, 99, 93...   \n",
       "5        6           [89, 90, 72, 37, 41, 85, 93, 88, 15, 48]   \n",
       "6        7  [54, 99, 17, 77, 6, 91, 17, 83, 33, 53, 29, 42...   \n",
       "7        8                                                [4]   \n",
       "8        9  [32, 51, 12, 75, 82, 68, 57, 7, 80, 55, 23, 83...   \n",
       "9       10  [63, 39, 61, 59, 82, 39, 89, 28, 63, 2, 66, 26...   \n",
       "\n",
       "                                            seq_sort  user_tr_count  target  \\\n",
       "0                [1, 2, 3, 4, 5, 6, 7, 8, 9, 10, 11]             11       1   \n",
       "1  [1, 2, 3, 4, 5, 6, 7, 8, 9, 10, 11, 12, 13, 14...             15       1   \n",
       "2  [1, 2, 3, 4, 5, 6, 7, 8, 9, 10, 11, 12, 13, 14...             15       1   \n",
       "3                                    [1, 2, 3, 4, 5]              5       1   \n",
       "4  [1, 2, 3, 4, 5, 6, 7, 8, 9, 10, 11, 12, 13, 14...             24       1   \n",
       "5                    [1, 2, 3, 4, 5, 6, 7, 8, 9, 10]             10       1   \n",
       "6  [1, 2, 3, 4, 5, 6, 7, 8, 9, 10, 11, 12, 13, 14...             17       1   \n",
       "7                                                [1]              1       1   \n",
       "8  [1, 2, 3, 4, 5, 6, 7, 8, 9, 10, 11, 12, 13, 14...             24       1   \n",
       "9  [1, 2, 3, 4, 5, 6, 7, 8, 9, 10, 11, 12, 13, 14...             22       1   \n",
       "\n",
       "                                           seq_2_emb  \\\n",
       "0  [160, 146, 114, 72, 96, 142, 130, 74, 196, 58,...   \n",
       "1  [84, 50, 48, 14, 124, 60, 20, 82, 162, 140, 52...   \n",
       "2  [126, 102, 158, 142, 30, 42, 158, 80, 50, 82, ...   \n",
       "3                           [196, 80, 178, 132, 166]   \n",
       "4  [50, 102, 58, 110, 192, 152, 16, 140, 42, 142,...   \n",
       "5     [178, 180, 144, 74, 82, 170, 186, 176, 30, 96]   \n",
       "6  [108, 198, 34, 154, 12, 182, 34, 166, 66, 106,...   \n",
       "7                                                [8]   \n",
       "8  [64, 102, 24, 150, 164, 136, 114, 14, 160, 110...   \n",
       "9  [126, 78, 122, 118, 164, 78, 178, 56, 126, 4, ...   \n",
       "\n",
       "                                             item_id  \\\n",
       "0           [2, 4, 6, 8, 10, 12, 14, 16, 18, 20, 22]   \n",
       "1  [2, 4, 6, 8, 10, 12, 14, 16, 18, 20, 22, 24, 2...   \n",
       "2  [2, 4, 6, 8, 10, 12, 14, 16, 18, 20, 22, 24, 2...   \n",
       "3                                   [2, 4, 6, 8, 10]   \n",
       "4  [2, 4, 6, 8, 10, 12, 14, 16, 18, 20, 22, 24, 2...   \n",
       "5               [2, 4, 6, 8, 10, 12, 14, 16, 18, 20]   \n",
       "6  [2, 4, 6, 8, 10, 12, 14, 16, 18, 20, 22, 24, 2...   \n",
       "7                                                [2]   \n",
       "8  [2, 4, 6, 8, 10, 12, 14, 16, 18, 20, 22, 24, 2...   \n",
       "9  [2, 4, 6, 8, 10, 12, 14, 16, 18, 20, 22, 24, 2...   \n",
       "\n",
       "                                     score_dt_border  \n",
       "0  [2022-01-01, 2022-01-01, 2022-01-01, 2022-01-0...  \n",
       "1  [2022-01-01, 2022-01-01, 2022-01-01, 2022-01-0...  \n",
       "2  [2022-01-01, 2022-01-01, 2022-01-01, 2022-01-0...  \n",
       "3  [2022-01-01, 2022-01-01, 2022-01-01, 2022-01-0...  \n",
       "4  [2022-01-01, 2022-01-01, 2022-01-01, 2022-01-0...  \n",
       "5  [2022-01-01, 2022-01-01, 2022-01-01, 2022-01-0...  \n",
       "6  [2022-01-01, 2022-01-01, 2022-01-01, 2022-01-0...  \n",
       "7                                       [2022-01-01]  \n",
       "8  [2022-01-01, 2022-01-01, 2022-01-01, 2022-01-0...  \n",
       "9  [2022-01-01, 2022-01-01, 2022-01-01, 2022-01-0...  "
      ]
     },
     "execution_count": 63,
     "metadata": {},
     "output_type": "execute_result"
    }
   ],
   "source": [
    "pd.read_parquet('/Users/ltorrick/DS/pqt_dataset/data/pq1.parquet')"
   ]
  },
  {
   "cell_type": "code",
   "execution_count": 93,
   "id": "36eb4aa6-32f6-4bb3-8d68-7dcc5acea13f",
   "metadata": {},
   "outputs": [],
   "source": [
    "%autoreload 2\n",
    "from pqt_dataset.webdataset_fork_0162.dataloader import get_dataloader"
   ]
  },
  {
   "cell_type": "code",
   "execution_count": 80,
   "id": "884d3e18-2f6c-425a-b2ba-b20dcdaebe46",
   "metadata": {},
   "outputs": [],
   "source": [
    "params.cont_features = ['seq_1']\n",
    "params.emb_params = {'seq_2_emb':{'vocabulary_size':200, 'dim':8}}\n",
    "params.target_col = 'target'\n",
    "params.cont_features_const =[]\n",
    "params.emb_params_const = {}\n"
   ]
  },
  {
   "cell_type": "code",
   "execution_count": 81,
   "id": "21f5a28b-1901-4bdb-ad3c-a574355a06db",
   "metadata": {},
   "outputs": [
    {
     "data": {
      "text/plain": [
       "{'emb_params': {'seq_2_emb': {'vocabulary_size': 200, 'dim': 8}},\n",
       " 'cont_features': ['seq_1'],\n",
       " 'rnn': {'type': 'GRU',\n",
       "  'hidden_size': 128,\n",
       "  'rnn_num_layers': 2,\n",
       "  'rnn_bias': True,\n",
       "  'bidirectional': True},\n",
       " 'ffn': {'hid_linear': 128},\n",
       " 'seq_len': 256,\n",
       " 'batch_size': 128,\n",
       " 'num_workers': 0,\n",
       " 'device': 'cuda:0',\n",
       " 'lr': 0.001,\n",
       " 'weight_decay': 0.01,\n",
       " 'l1_weight': 0,\n",
       " 'step_size': 2,\n",
       " 'gamma': 0.5,\n",
       " 'fp16': False,\n",
       " 'clip_value': 1.5,\n",
       " 'batch_accum': 1,\n",
       " 'smooth_factor': None,\n",
       " 'early_stop': {'more_best': True, 'patience': 5},\n",
       " 'target_col': 'target',\n",
       " 'cont_features_const': [],\n",
       " 'emb_params_const': {}}"
      ]
     },
     "execution_count": 81,
     "metadata": {},
     "output_type": "execute_result"
    }
   ],
   "source": [
    "params.__dict__"
   ]
  },
  {
   "cell_type": "code",
   "execution_count": 106,
   "id": "a278263f-2e87-4e2b-bf73-e2ddd1528535",
   "metadata": {},
   "outputs": [],
   "source": [
    "loader = get_dataloader('/Users/ltorrick/DS/pqt_dataset/data/',params, batch_size=4, num_workers=0,shuffle_buf_size=100, shuffle=True)"
   ]
  },
  {
   "cell_type": "code",
   "execution_count": 107,
   "id": "36c4a0b4-ea9c-4c3e-a61d-0b11f1a50b22",
   "metadata": {},
   "outputs": [
    {
     "data": {
      "text/plain": [
       "pqt_dataset.webdataset_fork_0162.dataloader.inf_loop"
      ]
     },
     "execution_count": 107,
     "metadata": {},
     "output_type": "execute_result"
    }
   ],
   "source": [
    "type(loader)"
   ]
  },
  {
   "cell_type": "code",
   "execution_count": 109,
   "id": "26afd8a3-1f94-467e-8591-3323e85078e7",
   "metadata": {},
   "outputs": [
    {
     "name": "stdout",
     "output_type": "stream",
     "text": [
      "[[27], [3], [23], [45]]\n",
      "[[7], [61], [63], [13]]\n",
      "[[17], [11], [71], [22]]\n",
      "[[4], [47], [31], [30]]\n",
      "[[73], [75], [39], [69]]\n",
      "[[62], [57], [64], [28]]\n",
      "[[49], [25], [68], [8]]\n",
      "[[70], [26], [12], [1]]\n",
      "[[14], [55], [16], [66]]\n",
      "[[18], [5], [20], [24]]\n",
      "[[32], [6], [34], [10]]\n",
      "[[36], [43], [38], [29]]\n",
      "[[40], [33], [42], [15]]\n",
      "[[44], [37], [46], [19]]\n",
      "[[48], [35], [50], [41]]\n",
      "[[72], [2], [74], [67]]\n",
      "[[76], [77], [78], [65]]\n",
      "[[80], [9], [59], [52]]\n",
      "[[54], [51], [56], [21]]\n",
      "[[58], [79], [60], [53]]\n"
     ]
    }
   ],
   "source": [
    "for b in loader:\n",
    "    print(b['user_id'].tolist())"
   ]
  },
  {
   "cell_type": "code",
   "execution_count": 85,
   "id": "0c7eadf4-3f68-4b62-86ab-ea252b2a4faf",
   "metadata": {},
   "outputs": [
    {
     "data": {
      "text/plain": [
       "{'lengths': [8, 24, 17, 28],\n",
       " 'user_tr_count': tensor([[ 8],\n",
       "         [24],\n",
       "         [17],\n",
       "         [28]]),\n",
       " 'seq_1': tensor([[50., 97., 48., 83., 11., 10., 53., 40.,  0.,  0.,  0.,  0.,  0.,  0.,\n",
       "           0.,  0.,  0.,  0.,  0.,  0.,  0.,  0.,  0.,  0.,  0.,  0.,  0.,  0.],\n",
       "         [25., 51., 29., 55., 96., 76.,  8., 70., 21., 71., 99., 93., 25., 75.,\n",
       "          89., 50., 16., 23., 39., 50., 47., 28., 83.,  4.,  0.,  0.,  0.,  0.],\n",
       "         [41., 67., 65., 26., 96., 79., 65., 85., 82.,  7., 21., 85., 16., 62.,\n",
       "           5., 77., 62.,  0.,  0.,  0.,  0.,  0.,  0.,  0.,  0.,  0.,  0.,  0.],\n",
       "         [74.,  5., 46., 25., 12., 89., 52., 84., 61., 80., 91., 30., 12., 64.,\n",
       "          49., 55., 28., 65., 58., 13., 74., 11.,  8., 71., 64., 74., 43.,  4.]]),\n",
       " 'user_id': tensor([[73],\n",
       "         [ 5],\n",
       "         [29],\n",
       "         [71]]),\n",
       " 'target': tensor([[1],\n",
       "         [1],\n",
       "         [1],\n",
       "         [1]]),\n",
       " 'seq_2_emb': tensor([[100, 194,  96, 166,  22,  20, 106,  80,   0,   0,   0,   0,   0,   0,\n",
       "            0,   0,   0,   0,   0,   0,   0,   0,   0,   0,   0,   0,   0,   0],\n",
       "         [ 50, 102,  58, 110, 192, 152,  16, 140,  42, 142, 198, 186,  50, 150,\n",
       "          178, 100,  32,  46,  78, 100,  94,  56, 166,   8,   0,   0,   0,   0],\n",
       "         [ 82, 134, 130,  52, 192, 158, 130, 170, 164,  14,  42, 170,  32, 124,\n",
       "           10, 154, 124,   0,   0,   0,   0,   0,   0,   0,   0,   0,   0,   0],\n",
       "         [148,  10,  92,  50,  24, 178, 104, 168, 122, 160, 182,  60,  24, 128,\n",
       "           98, 110,  56, 130, 116,  26, 148,  22,  16, 142, 128, 148,  86,   8]]),\n",
       " 'mask': tensor([[False, False, False, False, False, False, False, False,  True,  True,\n",
       "           True,  True,  True,  True,  True,  True,  True,  True,  True,  True,\n",
       "           True,  True,  True,  True,  True,  True,  True,  True],\n",
       "         [False, False, False, False, False, False, False, False, False, False,\n",
       "          False, False, False, False, False, False, False, False, False, False,\n",
       "          False, False, False, False,  True,  True,  True,  True],\n",
       "         [False, False, False, False, False, False, False, False, False, False,\n",
       "          False, False, False, False, False, False, False,  True,  True,  True,\n",
       "           True,  True,  True,  True,  True,  True,  True,  True],\n",
       "         [False, False, False, False, False, False, False, False, False, False,\n",
       "          False, False, False, False, False, False, False, False, False, False,\n",
       "          False, False, False, False, False, False, False, False]])}"
      ]
     },
     "execution_count": 85,
     "metadata": {},
     "output_type": "execute_result"
    }
   ],
   "source": [
    "next(iter(loader))"
   ]
  },
  {
   "cell_type": "markdown",
   "id": "768e8aab-00e4-41a0-8d25-2de1a029f85f",
   "metadata": {},
   "source": [
    "# Отладка стриминга"
   ]
  },
  {
   "cell_type": "code",
   "execution_count": null,
   "id": "cfb56c93-15c7-45a7-ab0f-ddcf30326032",
   "metadata": {},
   "outputs": [],
   "source": [
    "download_schemes = dict(file=file_download, hdfs=hdfs_download)"
   ]
  },
  {
   "cell_type": "code",
   "execution_count": null,
   "id": "966903f0-7ff1-4da4-bcbd-bb544021336a",
   "metadata": {},
   "outputs": [],
   "source": [
    "import os\n",
    "import io\n",
    "import urllib.parse\n",
    "import contextlib\n",
    "import pyarrow\n",
    "from contextlib import closing\n",
    "from webdataset import reraise_exception\n",
    "from webdataset.shardcache import guess_shard\n",
    "from webdataset.gopen import gopen_pipe, gopen_file\n"
   ]
  },
  {
   "cell_type": "code",
   "execution_count": null,
   "id": "7720cef1-eb30-4539-8ed3-74af6268c15b",
   "metadata": {},
   "outputs": [],
   "source": [
    "def hdfs_download(uri, **kwargs):\n",
    "    if uri.hostname is not None:\n",
    "        kwargs.update(host=uri.hostname)\n",
    "    if uri.port is not None:\n",
    "        kwargs.update(port=uri.port)\n",
    "    with closing(pyarrow.hdfs.connect(**kwargs)) as hdfs:\n",
    "        with hdfs.open(uri.path) as stream:\n",
    "            return stream.read()\n",
    "\n",
    "\n",
    "def file_download(uri, *args, **kwargs):\n",
    "    with open(uri.path, mode=\"rb\") as input:\n",
    "        return input.read()\n",
    "    \n",
    "def file_download(uri, *args, **kwargs):\n",
    "    with open(uri.path, mode=\"rb\") as inp_stream:\n",
    "        seekable_stream = io.BytesIO(inp_stream.read())\n",
    "    return seekable_stream\n"
   ]
  },
  {
   "cell_type": "code",
   "execution_count": null,
   "id": "96049c6e-7952-48ae-89e8-b381bdd7aef2",
   "metadata": {},
   "outputs": [],
   "source": [
    "download_schemes[uri2.scheme]"
   ]
  },
  {
   "cell_type": "code",
   "execution_count": null,
   "id": "4b92e553-da62-4edf-b6f0-ddac83678a94",
   "metadata": {},
   "outputs": [],
   "source": [
    "url"
   ]
  },
  {
   "cell_type": "code",
   "execution_count": null,
   "id": "aacc5dc0-fd87-4c33-b9e7-c96ad696ae51",
   "metadata": {},
   "outputs": [],
   "source": [
    "pq_file = f'cat {url}'"
   ]
  },
  {
   "cell_type": "code",
   "execution_count": null,
   "id": "dffe1477-918e-43e7-9654-badede078552",
   "metadata": {},
   "outputs": [],
   "source": [
    "def file_download_wds(url):\n",
    "    pq_file = f'pipe:cat {url}'\n",
    "    with closing(gopen_pipe(pq_file)) as inp_stream:\n",
    "        seekable_stream = io.BytesIO(inp_stream.read())\n",
    "    return seekable_stream"
   ]
  },
  {
   "cell_type": "code",
   "execution_count": null,
   "id": "005afa51-e50e-4009-84a7-2cb3fb4102f6",
   "metadata": {},
   "outputs": [],
   "source": [
    "def read_parquet(source, columns=None):\n",
    "    dataframe = pyarrow.parquet.read_table(source=source, columns=columns, use_legacy_dataset=True).to_pandas()\n",
    "    return dataframe"
   ]
  },
  {
   "cell_type": "code",
   "execution_count": null,
   "id": "bdfcbb2c-0ae6-473f-a37f-34427376ddf2",
   "metadata": {},
   "outputs": [],
   "source": [
    "def read_parquet(source, columns=None):\n",
    "    dataframe = pyarrow.parquet.read_table(source=source, columns=columns, use_legacy_dataset=True).to_pandas()\n",
    "    return dataframe"
   ]
  },
  {
   "cell_type": "code",
   "execution_count": null,
   "id": "b39df5f7-b447-4e2d-90a8-a9d179ad564f",
   "metadata": {},
   "outputs": [],
   "source": [
    "str(url_list[0])"
   ]
  },
  {
   "cell_type": "code",
   "execution_count": null,
   "id": "ef94da2e-946f-4860-a924-be213b3380c8",
   "metadata": {},
   "outputs": [],
   "source": [
    "urllib.parse.urlparse(url_list[0].as_uri(), scheme=\"file\", allow_fragments=False)"
   ]
  },
  {
   "cell_type": "code",
   "execution_count": null,
   "id": "8670f3bc-4896-4d4f-93e7-5586c0039214",
   "metadata": {},
   "outputs": [],
   "source": [
    "kk = read_parquet(file_download_wds(url_list[0].as_uri()))"
   ]
  },
  {
   "cell_type": "code",
   "execution_count": null,
   "id": "909fef6b-5a39-4a80-81b5-e5d5a6225477",
   "metadata": {},
   "outputs": [],
   "source": []
  },
  {
   "cell_type": "code",
   "execution_count": null,
   "id": "e05ddf9d-404b-4964-acb7-9e76c5c3d879",
   "metadata": {},
   "outputs": [],
   "source": [
    "kk"
   ]
  },
  {
   "cell_type": "code",
   "execution_count": null,
   "id": "e8296efb-d572-4127-9031-a8d924555b69",
   "metadata": {},
   "outputs": [],
   "source": [
    "uri"
   ]
  },
  {
   "cell_type": "code",
   "execution_count": null,
   "id": "c11fb72f-55d7-428e-92ad-c4524abe2aac",
   "metadata": {},
   "outputs": [],
   "source": [
    "kk2 = read_parquet(file_download(uri))"
   ]
  },
  {
   "cell_type": "code",
   "execution_count": null,
   "id": "3b6d00a3-264b-4103-ac4c-a95022944b33",
   "metadata": {},
   "outputs": [],
   "source": [
    "kk2"
   ]
  },
  {
   "cell_type": "code",
   "execution_count": null,
   "id": "b69d5c54-a96d-43c9-8674-43548e99004a",
   "metadata": {},
   "outputs": [],
   "source": [
    "def file_download(uri, *args, **kwargs):\n",
    "    with open(uri.path, mode=\"rb\") as input:\n",
    "        return input.read()"
   ]
  },
  {
   "cell_type": "code",
   "execution_count": null,
   "id": "5cf49bea-26e2-43cc-b732-ea3e327ca599",
   "metadata": {},
   "outputs": [],
   "source": [
    "def read_parquet_2(buf):\n",
    "    with pyarrow.ipc.open_stream(buf) as reader:\n",
    "        df = reader.parread_pandas()\n",
    "    return df"
   ]
  },
  {
   "cell_type": "code",
   "execution_count": null,
   "id": "2d2f3dd5-13a6-41b8-a621-813f65aa5edd",
   "metadata": {},
   "outputs": [],
   "source": [
    "def file_download(uri, *args, **kwargs):\n",
    "    with open(uri.path, mode=\"rb\") as input:\n",
    "        return input.read()"
   ]
  },
  {
   "cell_type": "code",
   "execution_count": null,
   "id": "707875bc-cfeb-4992-993d-f18fe5972cda",
   "metadata": {},
   "outputs": [],
   "source": [
    "kk3 = read_parquet_2(file_download(uri))\n",
    "\n"
   ]
  },
  {
   "cell_type": "code",
   "execution_count": null,
   "id": "82f9f3fd-0e7c-4db1-9940-aa86b2919d81",
   "metadata": {},
   "outputs": [],
   "source": []
  }
 ],
 "metadata": {
  "kernelspec": {
   "display_name": "Python 3",
   "language": "python",
   "name": "python3"
  },
  "language_info": {
   "codemirror_mode": {
    "name": "ipython",
    "version": 3
   },
   "file_extension": ".py",
   "mimetype": "text/x-python",
   "name": "python",
   "nbconvert_exporter": "python",
   "pygments_lexer": "ipython3",
   "version": "3.8.6rc1"
  }
 },
 "nbformat": 4,
 "nbformat_minor": 5
}
